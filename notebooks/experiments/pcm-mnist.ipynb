{
 "cells": [
  {
   "cell_type": "code",
   "execution_count": 1,
   "metadata": {},
   "outputs": [
    {
     "data": {
      "text/plain": [
       "['src',\n",
       " 'requirements.txt',\n",
       " 'tests',\n",
       " '.pytest_cache',\n",
       " '.neptune',\n",
       " 'logs',\n",
       " '.idea',\n",
       " '.githooks',\n",
       " '.git',\n",
       " 'reconstructions',\n",
       " 'lightning_logs',\n",
       " 'notebooks',\n",
       " '.pre-commit-config.yaml',\n",
       " 'old_code',\n",
       " 'data',\n",
       " 'README.md',\n",
       " 'config',\n",
       " '.gitignore',\n",
       " 'pytest.ini']"
      ]
     },
     "execution_count": 1,
     "metadata": {},
     "output_type": "execute_result"
    }
   ],
   "source": [
    "import os\n",
    "\n",
    "if not \"src\" in os.listdir():\n",
    "    os.chdir(\"../../\")\n",
    "os.listdir()"
   ]
  },
  {
   "cell_type": "code",
   "execution_count": 2,
   "metadata": {},
   "outputs": [],
   "source": [
    "import torch\n",
    "from pathlib import Path\n",
    "import pytorch_lightning as pl\n",
    "\n",
    "# Plotting\n",
    "import matplotlib\n",
    "import matplotlib.pyplot as plt\n",
    "\n",
    "# import scienceplots\n",
    "\n",
    "# plt.style.use(\"science\")\n",
    "\n",
    "# Neptune\n",
    "from pytorch_lightning.loggers import NeptuneLogger\n",
    "\n",
    "# Conditional MNIST dataset\n",
    "from src.utils.config import load_config_from_path\n",
    "from src.utils.data.pcm.mnist_cond_trans_dataset import (\n",
    "    ConditionalMNIST,\n",
    "    get_ConditionalMnistDataloader,\n",
    ")\n",
    "\n",
    "# Typing\n",
    "from src.utils.common_types import Batch\n",
    "from typing import Callable, Dict, Any, Tuple, List\n",
    "\n",
    "# Other\n",
    "import inspect\n",
    "from functools import partial\n",
    "from argparse import Namespace\n",
    "\n",
    "# Chain model\n",
    "from src.models.components.chain import Chain"
   ]
  },
  {
   "cell_type": "code",
   "execution_count": 3,
   "metadata": {},
   "outputs": [
    {
     "name": "stdout",
     "output_type": "stream",
     "text": [
      "env: NEPTUNE_API_TOKEN=\"eyJhcGlfYWRkcmVzcyI6Imh0dHBzOi8vYXBwLm5lcHR1bmUuYWkiLCJhcGlfdXJsIjoiaHR0cHM6Ly9hcHAubmVwdHVuZS5haSIsImFwaV9rZXkiOiJmMDY1MDE0NC00Zjg3LTRiZmYtOTQwNi0xNjNlNmZjNWQ5MDkifQ==\"\n"
     ]
    }
   ],
   "source": [
    "# %env NEPTUNE_API_TOKEN=\"\""
   ]
  },
  {
   "cell_type": "code",
   "execution_count": 4,
   "metadata": {},
   "outputs": [],
   "source": [
    "project_name = \"multimodal/vaes\""
   ]
  },
  {
   "cell_type": "code",
   "execution_count": 5,
   "metadata": {},
   "outputs": [],
   "source": [
    "import neptune\n",
    "\n",
    "# Access the NEPTUNE_API_TOKEN environment variable\n",
    "neptune_api_token = os.getenv(\"NEPTUNE_API_TOKEN\")\n",
    "\n",
    "# Check if the token is available\n",
    "if neptune_api_token is None:\n",
    "    raise ValueError(\"NEPTUNE_API_TOKEN environment variable is not set.\")"
   ]
  },
  {
   "cell_type": "code",
   "execution_count": 6,
   "metadata": {},
   "outputs": [],
   "source": [
    "import matplotlib.pyplot as plt\n",
    "import torch\n",
    "from typing import Any\n",
    "\n",
    "\n",
    "def plot_original_vs_reconstructed(\n",
    "    batch: Any,  # Assuming batch is a dictionary-like object\n",
    "    org_imgs_name: str,\n",
    "    reconstructed_imgs_name: str,\n",
    "    num_images: int,\n",
    "    filename_comp: str,\n",
    "    num_rows: int = 1,\n",
    "    wspace: float = 0.5,\n",
    "    hspace: float = 0.5,\n",
    "    disp_img_size: int = 2,\n",
    ") -> Dict[str, plt.Figure]:\n",
    "    r\"\"\"\n",
    "    Plots a grid of original and reconstructed images in an interleaved manner.\n",
    "\n",
    "    Parameters:\n",
    "    batch (Any): The batch containing original and reconstructed images.\n",
    "    org_imgs_name (str): The key for original images in the batch.\n",
    "    reconstructed_imgs_name (str): The key for reconstructed images in the batch.\n",
    "    num_images (int): The number of images to display.\n",
    "    num_rows (int): The number of rows to display the images.\n",
    "    wspace (float): The amount of width reserved for blank space between subplots.\n",
    "    hspace (float): The amount of height reserved for blank space between subplots.\n",
    "    disp_img_size (int): The size of each displayed image.\n",
    "    \"\"\"\n",
    "\n",
    "    org_imgs = batch[org_imgs_name]\n",
    "    reconstructed_imgs = batch[reconstructed_imgs_name]\n",
    "\n",
    "    # Calculate the number of columns needed\n",
    "    num_cols = (\n",
    "        num_images + num_rows - 1\n",
    "    ) // num_rows  # Round up division for number of columns\n",
    "\n",
    "    # Create a figure with a grid of subplots, interleaving original and reconstructed rows\n",
    "    fig, axes = plt.subplots(\n",
    "        num_rows * 2,\n",
    "        num_cols,\n",
    "        figsize=(num_cols * disp_img_size, num_rows * 2 * disp_img_size),\n",
    "    )\n",
    "\n",
    "    # Adjust the spacing between images\n",
    "    fig.subplots_adjust(wspace=wspace, hspace=hspace)\n",
    "\n",
    "    # Plot original and reconstructed images in an interleaved manner\n",
    "    for i in range(num_images):\n",
    "        row_idx = i // num_cols  # Determine which row we are plotting in\n",
    "        col_idx = i % num_cols  # Determine which column we are plotting in\n",
    "\n",
    "        # Original images (on even-indexed rows)\n",
    "        original = org_imgs[i][0]\n",
    "        axes[2 * row_idx, col_idx].imshow(original, cmap=\"gray\")\n",
    "        axes[2 * row_idx, col_idx].axis(\"off\")\n",
    "\n",
    "        # Reconstructed images (on odd-indexed rows)\n",
    "        reconstruction = reconstructed_imgs[i][0].detach()\n",
    "        axes[2 * row_idx + 1, col_idx].imshow(reconstruction, cmap=\"gray\")\n",
    "        axes[2 * row_idx + 1, col_idx].axis(\"off\")\n",
    "\n",
    "    # Set titles next to the first image in each row\n",
    "    for row_idx in range(num_rows):\n",
    "        axes[2 * row_idx, 0].text(\n",
    "            -0.2,\n",
    "            0.5,\n",
    "            \"Original\",\n",
    "            va=\"center\",\n",
    "            ha=\"right\",\n",
    "            rotation=90,\n",
    "            fontsize=10,\n",
    "            transform=axes[2 * row_idx, 0].transAxes,\n",
    "        )\n",
    "        axes[2 * row_idx + 1, 0].text(\n",
    "            -0.2,\n",
    "            0.5,\n",
    "            \"Reconstructed\",\n",
    "            va=\"center\",\n",
    "            ha=\"right\",\n",
    "            rotation=90,\n",
    "            fontsize=10,\n",
    "            transform=axes[2 * row_idx + 1, 0].transAxes,\n",
    "        )\n",
    "\n",
    "    # fig.suptitle(f\"Epoch: {epoch}\")  # Add title with epoch number\n",
    "\n",
    "    # Close the figure to release memory after logging\n",
    "    plt.close(fig)\n",
    "\n",
    "    return {filename_comp: fig}"
   ]
  },
  {
   "cell_type": "code",
   "execution_count": 7,
   "metadata": {},
   "outputs": [],
   "source": [
    "def plot_images_with_conditions(\n",
    "    batch: Batch,\n",
    "    imgs_name: str,\n",
    "    conditions_name: str,\n",
    "    condition_values_name: str,\n",
    "    disp_batch_size: int,\n",
    "    disp_n_latent_samples: int,\n",
    "    filename_comp: str,\n",
    "    wspace: float = 0.5,\n",
    "    hspace: float = 0.5,\n",
    "    disp_img_size: int = 2,\n",
    "    y_title_shift: float = 0.95,\n",
    ") -> matplotlib.figure.Figure:\n",
    "    r\"\"\"\n",
    "    Display a grid of images with conditions and condition values as titles.\n",
    "\n",
    "    Parameters:\n",
    "    images (torch.Tensor): Tensor of images with shape (batch, n_latent_samples, 1, 28, 28).\n",
    "    conditions (torch.Tensor): Tensor of conditions with shape (batch, n_conds).\n",
    "    condition_values (torch.Tensor): Tensor of condition values with shape (batch, n_conds).\n",
    "    disp_batch_size (int): Number of batches to display.\n",
    "    disp_n_latent_samples (int): Number of latent samples to display.\n",
    "    \"\"\"\n",
    "    imgs = batch[imgs_name]\n",
    "    conditions = batch[conditions_name]\n",
    "    condition_values = batch[condition_values_name]\n",
    "\n",
    "    # There is no n_latent samples dim create dummy n_latent_samples dim.\n",
    "    if len(imgs.shape) == 4:\n",
    "        imgs.unsqueeze_(1)\n",
    "\n",
    "    batch_size, n_latent_samples, _, image_height, image_width = imgs.shape\n",
    "\n",
    "    batch_size = min(batch_size, disp_batch_size)\n",
    "    n_latent_samples = min(n_latent_samples, disp_n_latent_samples)\n",
    "\n",
    "    fig, axes = plt.subplots(\n",
    "        batch_size,\n",
    "        n_latent_samples,\n",
    "        figsize=(n_latent_samples * disp_img_size, batch_size * disp_img_size),\n",
    "    )\n",
    "\n",
    "    # Adjust the spacing between images\n",
    "    fig.subplots_adjust(wspace=wspace, hspace=hspace)  # Adjust these values as needed\n",
    "\n",
    "    if batch_size == 1:\n",
    "        axes = [axes]\n",
    "    if n_latent_samples == 1:\n",
    "        axes = [[ax] for ax in axes]\n",
    "\n",
    "    for i in range(batch_size):\n",
    "        for j in range(n_latent_samples):\n",
    "            img = imgs[i, j, 0].cpu().numpy()\n",
    "            axes[i][j].imshow(img, cmap=\"gray\")\n",
    "            axes[i][j].axis(\"off\")\n",
    "\n",
    "            # Set title for each image\n",
    "            condition_text = f\"Conditions: {conditions[i].cpu().numpy()}\"\n",
    "            condition_values_text = (\n",
    "                f\"Condition Values: {condition_values[i].cpu().numpy()}\"\n",
    "            )\n",
    "            title_text = f\"{condition_text}\\n{condition_values_text}\"\n",
    "            axes[i][j].set_title(title_text, fontsize=8)\n",
    "\n",
    "    # fig.suptitle(f\"Epoch: {epoch}\", y=y_title_shift)  # Add title with epoch number\n",
    "    plt.close(fig)\n",
    "\n",
    "    return {filename_comp: fig}"
   ]
  },
  {
   "cell_type": "code",
   "execution_count": 8,
   "metadata": {},
   "outputs": [],
   "source": [
    "def wrap_with_first_batch(func: Callable, *args, **kwargs) -> Callable:\n",
    "    r\"\"\"\n",
    "    A decorator that wraps a function to automatically pass the first batch\n",
    "    from a dataloader as the first argument named 'batch'.\n",
    "\n",
    "    Parameters:\n",
    "    func (Callable): The function to be wrapped.\n",
    "\n",
    "    Returns:\n",
    "    Callable: The wrapped function.\n",
    "    \"\"\"\n",
    "\n",
    "    def wrapped_function(\n",
    "        processing_function: Callable,\n",
    "        dataloader: torch.utils.data.DataLoader,\n",
    "    ):\n",
    "        batch = next(iter(dataloader))\n",
    "        batch = processing_function(batch=batch)\n",
    "        return func(batch, *args, **kwargs)\n",
    "\n",
    "    return wrapped_function"
   ]
  },
  {
   "cell_type": "code",
   "execution_count": 9,
   "metadata": {},
   "outputs": [],
   "source": [
    "def plot_latent(\n",
    "    processing_function: Callable,\n",
    "    dataloader: torch.utils.data.DataLoader,\n",
    "    data_name: str,\n",
    "    condition_value_name: str,\n",
    "    condition_value_idxs: list,\n",
    "    are_conditions_categorical: list,\n",
    "    filename_comp: str,\n",
    "    num_batches: None | int = None,\n",
    "    plot_dims: Tuple[int] = (0, 1),\n",
    "    figsize: Tuple[float, float] = (6, 6),\n",
    ") -> List[matplotlib.figure.Figure]:\n",
    "\n",
    "    figs_axs = [\n",
    "        plt.subplots(figsize=figsize) for _ in condition_value_idxs\n",
    "    ]  # Create a new figure and axes\n",
    "\n",
    "    # fig, ax = plt.subplots(figsize=figsize)  # Create a new figure and axes\n",
    "\n",
    "    if num_batches is None:\n",
    "        num_batches = len(dataloader)\n",
    "\n",
    "    plot_dim_1, plot_dim_2 = plot_dims\n",
    "\n",
    "    colorbar_set = False\n",
    "\n",
    "    for _, batch in zip(range(num_batches), dataloader):\n",
    "        batch = processing_function(batch)\n",
    "        embedding = batch[data_name]\n",
    "        embedding = embedding.to(\"cpu\").detach().numpy()\n",
    "        for condition_value_idx, is_condition_categorical, (fig, ax) in zip(\n",
    "            condition_value_idxs, are_conditions_categorical, figs_axs\n",
    "        ):\n",
    "            condition_value = batch[condition_value_name][:, condition_value_idx]\n",
    "            condition_value = (\n",
    "                condition_value.to(dtype=torch.long)\n",
    "                if is_condition_categorical\n",
    "                else condition_value\n",
    "            )\n",
    "            scatter = ax.scatter(\n",
    "                embedding[:, plot_dim_1],\n",
    "                embedding[:, plot_dim_2],\n",
    "                c=condition_value,\n",
    "                cmap=\"tab10\",\n",
    "                s=1,\n",
    "            )\n",
    "            if not colorbar_set:\n",
    "                fig.colorbar(scatter, ax=ax)  # Add a colorbar to the figure\n",
    "        colorbar_set = True\n",
    "\n",
    "    for condition_value_idx, (fig, ax) in zip(condition_value_idxs, figs_axs):\n",
    "        ax.set_title(\n",
    "            f\"Validation set embedding | Condition id {condition_value_idx}\"\n",
    "        )  # Set the title of the plot\n",
    "        plt.close(fig)\n",
    "\n",
    "    figs = {\n",
    "        f\"{filename_comp}-{condition_value_idx}\": fig_ax[0]\n",
    "        for condition_value_idx, fig_ax in zip(condition_value_idxs, figs_axs)\n",
    "    }\n",
    "\n",
    "    return figs  # Return the figure object"
   ]
  },
  {
   "cell_type": "code",
   "execution_count": 10,
   "metadata": {},
   "outputs": [],
   "source": [
    "from pytorch_lightning import LightningModule, Trainer\n",
    "from pytorch_lightning.callbacks import Callback\n",
    "import matplotlib.pyplot as plt\n",
    "from functools import partial\n",
    "from typing import Callable, Dict, Any\n",
    "import inspect\n",
    "\n",
    "\n",
    "class NeptunePlotLogCallback(Callback):\n",
    "\n",
    "    def __init__(\n",
    "        self,\n",
    "        plotting_function_taking_dataloader: Callable,\n",
    "        command_name: str,\n",
    "        neptune_plot_log_path: str,\n",
    "        plot_file_base_name: str,\n",
    "        command_dynamic_kwargs: Dict[str, Any] = {},\n",
    "    ) -> None:\n",
    "        self._plotting_function = plotting_function_taking_dataloader\n",
    "        self._command_name = command_name\n",
    "        self._command_dynamic_kwargs = command_dynamic_kwargs\n",
    "        self._plot_file_base_name = plot_file_base_name\n",
    "        self._neptune_plot_log_path = neptune_plot_log_path\n",
    "\n",
    "    def on_validation_end(self, trainer: Trainer, pl_module: LightningModule) -> None:\n",
    "        val_dataloader = trainer.val_dataloaders\n",
    "        run_processing_command_method = getattr(\n",
    "            pl_module, \"run_processing_command\", None\n",
    "        )\n",
    "\n",
    "        assert (\n",
    "            run_processing_command_method is not None\n",
    "        ), \"Provided pl_module has no attribute named run_processing_command.\"\n",
    "        assert inspect.ismethod(run_processing_command_method) or inspect.isfunction(\n",
    "            run_processing_command_method\n",
    "        ), f\"Attribute run_processing_command of pl_module is not a method.\"\n",
    "\n",
    "        partial_run_processing_command_method = partial(\n",
    "            run_processing_command_method,\n",
    "            command_name=self._command_name,\n",
    "            dynamic_kwargs=self._command_dynamic_kwargs,\n",
    "            reset_loss_manager=True,\n",
    "        )\n",
    "\n",
    "        pl_module.train(False)\n",
    "\n",
    "        figs = self._plotting_function(\n",
    "            processing_function=partial_run_processing_command_method,\n",
    "            dataloader=val_dataloader,\n",
    "        )\n",
    "\n",
    "        for fig_filename_end, fig in figs.items():\n",
    "            # Log the plot to Neptune\n",
    "            if trainer.logger is not None and hasattr(trainer.logger, \"experiment\"):\n",
    "                trainer.logger.experiment[\n",
    "                    f\"{self._neptune_plot_log_path}/{self._plot_file_base_name}-{fig_filename_end}-{trainer.current_epoch}\"\n",
    "                ].upload(neptune.types.File.as_image(fig))\n",
    "\n",
    "            # Close the figure to release memory\n",
    "            plt.close(fig)"
   ]
  },
  {
   "cell_type": "code",
   "execution_count": 11,
   "metadata": {},
   "outputs": [],
   "source": [
    "from torch.utils.data import Subset\n",
    "\n",
    "\n",
    "train_data_cfg_file_path = (\n",
    "    Path(\"notebooks\") / \"experiments\" / \"config\" / \"pcm-mnist-01-train.yaml\"\n",
    ")\n",
    "\n",
    "test_data_cfg_file_path = (\n",
    "    Path(\"notebooks\") / \"experiments\" / \"config\" / \"pcm-mnist-01-test.yaml\"\n",
    ")\n",
    "\n",
    "train_data_cfg = load_config_from_path(file_path=train_data_cfg_file_path)\n",
    "cmnist_train = ConditionalMNIST(cfg=train_data_cfg)\n",
    "\n",
    "# cmnist_train = Subset(cmnist_train, list(range(1000)))\n",
    "\n",
    "cmnist_train_dataloader = get_ConditionalMnistDataloader(\n",
    "    cmnist=cmnist_train, batch_size=128, shuffle=True\n",
    ")\n",
    "\n",
    "test_data_cfg = load_config_from_path(file_path=test_data_cfg_file_path)\n",
    "cmnist_val = ConditionalMNIST(cfg=test_data_cfg)\n",
    "\n",
    "# cmnist_val = Subset(cmnist_val, list(range(1000)))\n",
    "\n",
    "cmnist_val_dataloader = get_ConditionalMnistDataloader(\n",
    "    cmnist=cmnist_val, batch_size=128, shuffle=False\n",
    ")"
   ]
  },
  {
   "cell_type": "code",
   "execution_count": 12,
   "metadata": {},
   "outputs": [
    {
     "data": {
      "text/plain": [
       "{'filename': <Figure size 200x2000 with 10 Axes>}"
      ]
     },
     "execution_count": 12,
     "metadata": {},
     "output_type": "execute_result"
    }
   ],
   "source": [
    "plot_images_with_conditions_wrapped_with_wrap_with_first_batch = wrap_with_first_batch(\n",
    "    plot_images_with_conditions,\n",
    "    **vars(\n",
    "        Namespace(\n",
    "            imgs_name=\"img\",\n",
    "            conditions_name=\"condition_token_ids\",\n",
    "            condition_values_name=\"condition_values\",\n",
    "            disp_batch_size=10,\n",
    "            disp_n_latent_samples=1,\n",
    "            filename_comp=\"filename\",\n",
    "            disp_img_size=2,\n",
    "            y_title_shift=0.91,\n",
    "        )\n",
    "    ),\n",
    ")\n",
    "\n",
    "fig = plot_images_with_conditions_wrapped_with_wrap_with_first_batch(\n",
    "    dataloader=cmnist_val_dataloader, processing_function=lambda batch: batch\n",
    ")\n",
    "\n",
    "fig"
   ]
  },
  {
   "cell_type": "markdown",
   "metadata": {},
   "source": [
    "### Model"
   ]
  },
  {
   "cell_type": "code",
   "execution_count": 13,
   "metadata": {},
   "outputs": [
    {
     "data": {
      "text/plain": [
       "Chain(\n",
       "  (_chain): ModuleDict(\n",
       "    (encoder): BlockStack(\n",
       "      (blocks): Sequential(\n",
       "        (0): Block(\n",
       "          (layer): ModuleList(\n",
       "            (0): Linear(in_features=784, out_features=512, bias=True)\n",
       "            (1): ReLU()\n",
       "          )\n",
       "        )\n",
       "        (1): Block(\n",
       "          (layer): ModuleList(\n",
       "            (0): Linear(in_features=512, out_features=100, bias=True)\n",
       "            (1): ReLU()\n",
       "          )\n",
       "        )\n",
       "        (2): Linear(in_features=100, out_features=4, bias=True)\n",
       "      )\n",
       "    )\n",
       "    (posterior): GaussianPosterior()\n",
       "    (condition_embedding): ConditionEmbeddingTransformer(\n",
       "      (_condition_embedding_module): DiscreteValuedConditionEmbedding(\n",
       "        (_condition_embeddings): Embedding(5, 64, padding_idx=0)\n",
       "        (_category_embeddings): Embedding(18, 64, padding_idx=0)\n",
       "      )\n",
       "      (_transformer_encoder): TransformerEncoder(\n",
       "        (layers): ModuleList(\n",
       "          (0-1): 2 x TransformerEncoderLayer(\n",
       "            (self_attn): MultiheadAttention(\n",
       "              (out_proj): NonDynamicallyQuantizableLinear(in_features=64, out_features=64, bias=True)\n",
       "            )\n",
       "            (linear1): Linear(in_features=64, out_features=128, bias=True)\n",
       "            (dropout): Dropout(p=0.1, inplace=False)\n",
       "            (linear2): Linear(in_features=128, out_features=64, bias=True)\n",
       "            (norm1): LayerNorm((64,), eps=1e-05, elementwise_affine=True)\n",
       "            (norm2): LayerNorm((64,), eps=1e-05, elementwise_affine=True)\n",
       "            (dropout1): Dropout(p=0.1, inplace=False)\n",
       "            (dropout2): Dropout(p=0.1, inplace=False)\n",
       "          )\n",
       "        )\n",
       "      )\n",
       "    )\n",
       "    (conditioned_prior): VectorConditionedLogitsGMPriorNLL()\n",
       "    (decoder): BlockStack(\n",
       "      (blocks): Sequential(\n",
       "        (0): Block(\n",
       "          (layer): ModuleList(\n",
       "            (0): Linear(in_features=2, out_features=100, bias=True)\n",
       "            (1): ReLU()\n",
       "          )\n",
       "        )\n",
       "        (1): Block(\n",
       "          (layer): ModuleList(\n",
       "            (0): Linear(in_features=100, out_features=512, bias=True)\n",
       "            (1): ReLU()\n",
       "          )\n",
       "        )\n",
       "        (2): Linear(in_features=512, out_features=784, bias=True)\n",
       "      )\n",
       "    )\n",
       "    (reconstr_loss): ReconstructionLoss(\n",
       "      (_loss_fn): MSELoss()\n",
       "    )\n",
       "    (output-activation): StandaloneTinyModule(\n",
       "      (_tiny_module): Sigmoid()\n",
       "    )\n",
       "    (clone-input): TensorCloner()\n",
       "    (rearrange): BatchRearranger()\n",
       "    (repeat): BatchRepeater()\n",
       "  )\n",
       ")"
      ]
     },
     "execution_count": 13,
     "metadata": {},
     "output_type": "execute_result"
    }
   ],
   "source": [
    "model_cfg_file_path = Path(\"notebooks\") / \"experiments\" / \"config\" / \"pcm-03.yaml\"\n",
    "\n",
    "chain_cfg = load_config_from_path(file_path=model_cfg_file_path)\n",
    "chainae = Chain(cfg=chain_cfg)\n",
    "chainae"
   ]
  },
  {
   "cell_type": "code",
   "execution_count": 14,
   "metadata": {},
   "outputs": [],
   "source": [
    "plot_prior_sampled_imgs_with_conditions = wrap_with_first_batch(\n",
    "    plot_images_with_conditions,\n",
    "    **vars(\n",
    "        Namespace(\n",
    "            filename_comp=\"embeddings_plot\",\n",
    "            imgs_name=\"img\",\n",
    "            conditions_name=\"condition_token_ids\",\n",
    "            condition_values_name=\"condition_values\",\n",
    "            disp_batch_size=10,\n",
    "            disp_n_latent_samples=16,\n",
    "            disp_img_size=2,\n",
    "            y_title_shift=0.91,\n",
    "        )\n",
    "    ),\n",
    ")\n",
    "\n",
    "plot_sample_prior_callback = NeptunePlotLogCallback(\n",
    "    plotting_function_taking_dataloader=plot_prior_sampled_imgs_with_conditions,\n",
    "    command_name=\"sample-prior\",\n",
    "    neptune_plot_log_path=\"validation_plots/sample_prior\",\n",
    "    plot_file_base_name=\"sample_prior\",\n",
    "    command_dynamic_kwargs={},\n",
    ")"
   ]
  },
  {
   "cell_type": "code",
   "execution_count": 15,
   "metadata": {},
   "outputs": [],
   "source": [
    "plot_embeddings_callback = NeptunePlotLogCallback(\n",
    "    plotting_function_taking_dataloader=partial(\n",
    "        plot_latent,\n",
    "        **vars(\n",
    "            Namespace(\n",
    "                data_name=\"img\",\n",
    "                condition_value_name=\"condition_values\",\n",
    "                filename_comp=\"latent\",\n",
    "                condition_value_idxs=[0, 1],\n",
    "                are_conditions_categorical=[True, True],\n",
    "            )\n",
    "        )\n",
    "    ),\n",
    "    command_dynamic_kwargs={},\n",
    "    command_name=\"encode\",\n",
    "    neptune_plot_log_path=\"validation_plots/embeddings\",\n",
    "    plot_file_base_name=\"embedding\",\n",
    ")"
   ]
  },
  {
   "cell_type": "code",
   "execution_count": 16,
   "metadata": {},
   "outputs": [],
   "source": [
    "plot_original_vs_reconstructed = wrap_with_first_batch(\n",
    "    plot_original_vs_reconstructed,\n",
    "    **vars(\n",
    "        Namespace(\n",
    "            org_imgs_name=\"img_org\",\n",
    "            reconstructed_imgs_name=\"img\",\n",
    "            num_images=10,\n",
    "            wspace=0.25,\n",
    "            hspace=0.25,\n",
    "            filename_comp=\"org_vs_reconstr\",\n",
    "        )\n",
    "    ),\n",
    ")\n",
    "\n",
    "plot_reconstruction_callback = NeptunePlotLogCallback(\n",
    "    plotting_function_taking_dataloader=plot_original_vs_reconstructed,\n",
    "    command_name=\"encode-decode\",\n",
    "    neptune_plot_log_path=\"validation_plots/reconstructed\",\n",
    "    plot_file_base_name=\"embedding\",\n",
    "    command_dynamic_kwargs={},\n",
    ")"
   ]
  },
  {
   "cell_type": "code",
   "execution_count": 17,
   "metadata": {},
   "outputs": [
    {
     "name": "stderr",
     "output_type": "stream",
     "text": [
      "GPU available: False, used: False\n",
      "TPU available: False, using: 0 TPU cores\n",
      "HPU available: False, using: 0 HPUs\n"
     ]
    }
   ],
   "source": [
    "# Create a Neptune logger\n",
    "neptune_logger = NeptuneLogger(\n",
    "    api_key=neptune_api_token,\n",
    "    project=project_name,\n",
    "    name=\"cpiwae-test-run\",\n",
    ")\n",
    "\n",
    "trainer = pl.Trainer(\n",
    "    max_epochs=10,\n",
    "    logger=neptune_logger,\n",
    "    check_val_every_n_epoch=1,\n",
    "    callbacks=[\n",
    "        plot_sample_prior_callback,\n",
    "        plot_embeddings_callback,\n",
    "        plot_reconstruction_callback,\n",
    "    ],\n",
    ")"
   ]
  },
  {
   "cell_type": "code",
   "execution_count": 18,
   "metadata": {},
   "outputs": [
    {
     "name": "stderr",
     "output_type": "stream",
     "text": [
      "[neptune] [warning] NeptuneWarning: By default, these monitoring options are disabled in interactive sessions: 'capture_stdout', 'capture_stderr', 'capture_traceback', 'capture_hardware_metrics'. You can set them to 'True' when initializing the run and the monitoring will continue until you call run.stop() or the kernel stops. NOTE: To track the source files, pass their paths to the 'source_code' argument. For help, see: https://docs.neptune.ai/logging/source_code/\n"
     ]
    },
    {
     "name": "stdout",
     "output_type": "stream",
     "text": [
      "[neptune] [info   ] Neptune initialized. Open in the app: https://app.neptune.ai/multimodal/vaes/e/VAES-57\n"
     ]
    }
   ],
   "source": [
    "if trainer.logger is not None and hasattr(trainer.logger, \"experiment\"):\n",
    "    trainer.logger.experiment[f\"config/model_config.yaml\"].upload(\n",
    "        neptune.types.File(str(model_cfg_file_path))\n",
    "    )\n",
    "    trainer.logger.experiment[f\"config/train_data_config.yaml\"].upload(\n",
    "        neptune.types.File(str(train_data_cfg_file_path))\n",
    "    )\n",
    "    trainer.logger.experiment[f\"config/test_data_config.yaml\"].upload(\n",
    "        neptune.types.File(str(test_data_cfg_file_path))\n",
    "    )"
   ]
  },
  {
   "cell_type": "code",
   "execution_count": 19,
   "metadata": {},
   "outputs": [
    {
     "name": "stderr",
     "output_type": "stream",
     "text": [
      "/home/prz/bioml/.venv/lib/python3.10/site-packages/pytorch_lightning/core/optimizer.py:316: The lr scheduler dict contains the key(s) ['monitor', 'strict'], but the keys will be ignored. You need to call `lr_scheduler.step()` manually in manual optimization.\n",
      "\n",
      "  | Name   | Type       | Params | Mode \n",
      "----------------------------------------------\n",
      "0 | _chain | ModuleDict | 976 K  | train\n",
      "----------------------------------------------\n",
      "976 K     Trainable params\n",
      "0         Non-trainable params\n",
      "976 K     Total params\n",
      "3.906     Total estimated model params size (MB)\n"
     ]
    },
    {
     "data": {
      "application/vnd.jupyter.widget-view+json": {
       "model_id": "8c08adc90c2f4f9a911c0b4c13df5694",
       "version_major": 2,
       "version_minor": 0
      },
      "text/plain": [
       "Sanity Checking: |          | 0/? [00:00<?, ?it/s]"
      ]
     },
     "metadata": {},
     "output_type": "display_data"
    },
    {
     "name": "stderr",
     "output_type": "stream",
     "text": [
      "/home/prz/bioml/.venv/lib/python3.10/site-packages/pytorch_lightning/trainer/connectors/data_connector.py:424: The 'val_dataloader' does not have many workers which may be a bottleneck. Consider increasing the value of the `num_workers` argument` to `num_workers=3` in the `DataLoader` to improve performance.\n",
      "/home/prz/bioml/.venv/lib/python3.10/site-packages/pytorch_lightning/trainer/connectors/data_connector.py:424: The 'train_dataloader' does not have many workers which may be a bottleneck. Consider increasing the value of the `num_workers` argument` to `num_workers=3` in the `DataLoader` to improve performance.\n"
     ]
    },
    {
     "data": {
      "application/vnd.jupyter.widget-view+json": {
       "model_id": "03e0a84045ed4cc98fda01a579812c92",
       "version_major": 2,
       "version_minor": 0
      },
      "text/plain": [
       "Training: |          | 0/? [00:00<?, ?it/s]"
      ]
     },
     "metadata": {},
     "output_type": "display_data"
    },
    {
     "data": {
      "application/vnd.jupyter.widget-view+json": {
       "model_id": "e8c85e8cb16d4e789d4f1123de5375de",
       "version_major": 2,
       "version_minor": 0
      },
      "text/plain": [
       "Validation: |          | 0/? [00:00<?, ?it/s]"
      ]
     },
     "metadata": {},
     "output_type": "display_data"
    },
    {
     "name": "stdout",
     "output_type": "stream",
     "text": [
      "[neptune] [error  ] Error occurred during asynchronous operation processing: X-coordinates (step) must be strictly increasing for series attribute: training/epoch. Invalid point: 468.0\n"
     ]
    }
   ],
   "source": [
    "trainer.fit(\n",
    "    model=chainae,\n",
    "    train_dataloaders=cmnist_train_dataloader,\n",
    "    val_dataloaders=cmnist_val_dataloader,\n",
    ")"
   ]
  },
  {
   "cell_type": "code",
   "execution_count": null,
   "metadata": {},
   "outputs": [
    {
     "name": "stdout",
     "output_type": "stream",
     "text": [
      "[neptune] [info   ] Shutting down background jobs, please wait a moment...\n",
      "[neptune] [info   ] Done!\n",
      "[neptune] [info   ] Waiting for the remaining 13 operations to synchronize with Neptune. Do not kill this process.\n",
      "[neptune] [error  ] Error occurred during asynchronous operation processing: X-coordinates (step) must be strictly increasing for series attribute: training/epoch. Invalid point: 79.0\n",
      "[neptune] [info   ] All 13 operations synced, thanks for waiting!\n",
      "[neptune] [info   ] Explore the metadata in the Neptune app: https://app.neptune.ai/multimodal/vaes/e/VAES-52/metadata\n"
     ]
    }
   ],
   "source": [
    "# Stop the Neptune experiment after training ends\n",
    "neptune_logger.experiment.stop()"
   ]
  },
  {
   "cell_type": "code",
   "execution_count": null,
   "metadata": {},
   "outputs": [
    {
     "name": "stdout",
     "output_type": "stream",
     "text": [
      "[neptune] [info   ] Neptune initialized. Open in the app: https://app.neptune.ai/multimodal/vaes/e/VAES-40\n"
     ]
    }
   ],
   "source": [
    "run_id = \"VAES-40\"  # Replace with your run ID\n",
    "run = neptune.init_run(\n",
    "    project=project_name, api_token=neptune_api_token, with_id=run_id, mode=\"read-only\"\n",
    ")"
   ]
  },
  {
   "cell_type": "code",
   "execution_count": null,
   "metadata": {},
   "outputs": [
    {
     "data": {
      "text/plain": [
       "{'monitoring': {'0dc87c1e': {'hostname': <neptune.attributes.atoms.string.String at 0x7f304d34f8e0>,\n",
       "   'pid': <neptune.attributes.atoms.string.String at 0x7f304d410dc0>,\n",
       "   'tid': <neptune.attributes.atoms.string.String at 0x7f304d411900>},\n",
       "  '4dad0d97': {'hostname': <neptune.attributes.atoms.string.String at 0x7f304d410e20>,\n",
       "   'pid': <neptune.attributes.atoms.string.String at 0x7f304d4111e0>,\n",
       "   'tid': <neptune.attributes.atoms.string.String at 0x7f304d411a80>}},\n",
       " 'plots': {'sample_prior-0': <neptune.attributes.atoms.file.File at 0x7f304d411090>,\n",
       "  'sample_prior-1': <neptune.attributes.atoms.file.File at 0x7f304d410cd0>,\n",
       "  'sample_prior-2': <neptune.attributes.atoms.file.File at 0x7f304d651f30>,\n",
       "  'sample_prior-3': <neptune.attributes.atoms.file.File at 0x7f304d6520e0>,\n",
       "  'sample_prior-4': <neptune.attributes.atoms.file.File at 0x7f304d652380>,\n",
       "  'sample_prior-5': <neptune.attributes.atoms.file.File at 0x7f304d652470>,\n",
       "  'sample_prior-6': <neptune.attributes.atoms.file.File at 0x7f304d652890>,\n",
       "  'sample_prior-7': <neptune.attributes.atoms.file.File at 0x7f304d652f80>,\n",
       "  'sample_prior-8': <neptune.attributes.atoms.file.File at 0x7f304d6522f0>,\n",
       "  'sample_prior-9': <neptune.attributes.atoms.file.File at 0x7f304d651d20>},\n",
       " 'source_code': {'integrations': {'pytorch-lightning': <neptune.attributes.atoms.string.String at 0x7f304d2cd720>}},\n",
       " 'sys': {'creation_time': <neptune.attributes.atoms.datetime.Datetime at 0x7f304d2cd840>,\n",
       "  'description': <neptune.attributes.atoms.string.String at 0x7f304d2ce320>,\n",
       "  'failed': <neptune.attributes.atoms.boolean.Boolean at 0x7f304d2ceb00>,\n",
       "  'group_tags': <neptune.attributes.sets.string_set.StringSet at 0x7f304d2cc460>,\n",
       "  'hostname': <neptune.attributes.atoms.string.String at 0x7f304d2cfe80>,\n",
       "  'id': <neptune.attributes.atoms.string.String at 0x7f304d2cc2e0>,\n",
       "  'modification_time': <neptune.attributes.atoms.datetime.Datetime at 0x7f304d2cc670>,\n",
       "  'monitoring_time': <neptune.attributes.atoms.integer.Integer at 0x7f304d2cd6f0>,\n",
       "  'name': <neptune.attributes.atoms.string.String at 0x7f304d2cf160>,\n",
       "  'owner': <neptune.attributes.atoms.string.String at 0x7f304d2cc850>,\n",
       "  'ping_time': <neptune.attributes.atoms.datetime.Datetime at 0x7f304d2cd1e0>,\n",
       "  'running_time': <neptune.attributes.atoms.float.Float at 0x7f304d2ced40>,\n",
       "  'size': <neptune.attributes.atoms.float.Float at 0x7f304d2ce770>,\n",
       "  'state': <neptune.attributes.atoms.run_state.RunState at 0x7f304d2cdb40>,\n",
       "  'tags': <neptune.attributes.sets.string_set.StringSet at 0x7f304d2cdff0>,\n",
       "  'trashed': <neptune.attributes.atoms.boolean.Boolean at 0x7f304d2ce020>},\n",
       " 'training': {'epoch': <neptune.attributes.series.float_series.FloatSeries at 0x7f304d2cfb20>,\n",
       "  'model': {'best_model_path': <neptune.attributes.atoms.string.String at 0x7f304d2cdb10>,\n",
       "   'checkpoints': {'epoch=9-step=240': <neptune.attributes.atoms.file.File at 0x7f304d2cfd60>}},\n",
       "  'postr_neg_entr': <neptune.attributes.series.float_series.FloatSeries at 0x7f304d42f280>,\n",
       "  'postr_neg_entr_epoch': <neptune.attributes.series.float_series.FloatSeries at 0x7f304d42dba0>,\n",
       "  'postr_neg_entr_step': <neptune.attributes.series.float_series.FloatSeries at 0x7f304d42e7d0>,\n",
       "  'prior_nll': <neptune.attributes.series.float_series.FloatSeries at 0x7f304d42da50>,\n",
       "  'prior_nll_epoch': <neptune.attributes.series.float_series.FloatSeries at 0x7f304d42fe20>,\n",
       "  'prior_nll_step': <neptune.attributes.series.float_series.FloatSeries at 0x7f304d42fbe0>,\n",
       "  'reconstr': <neptune.attributes.series.float_series.FloatSeries at 0x7f304d42f880>,\n",
       "  'reconstr_epoch': <neptune.attributes.series.float_series.FloatSeries at 0x7f304d42e620>,\n",
       "  'reconstr_step': <neptune.attributes.series.float_series.FloatSeries at 0x7f304d42fe80>,\n",
       "  'status': <neptune.attributes.atoms.string.String at 0x7f304d42dde0>}}"
      ]
     },
     "execution_count": 100,
     "metadata": {},
     "output_type": "execute_result"
    }
   ],
   "source": [
    "run.get_structure()"
   ]
  },
  {
   "cell_type": "code",
   "execution_count": null,
   "metadata": {},
   "outputs": [
    {
     "ename": "ImportError",
     "evalue": "IProgress not found. Please update jupyter and ipywidgets. See https://ipywidgets.readthedocs.io/en/stable/user_install.html",
     "output_type": "error",
     "traceback": [
      "\u001b[0;31m---------------------------------------------------------------------------\u001b[0m",
      "\u001b[0;31mImportError\u001b[0m                               Traceback (most recent call last)",
      "Cell \u001b[0;32mIn[103], line 1\u001b[0m\n\u001b[0;32m----> 1\u001b[0m \u001b[43mrun\u001b[49m\u001b[43m[\u001b[49m\u001b[38;5;124;43m\"\u001b[39;49m\u001b[38;5;124;43mtraining/model/checkpoints/epoch=9-step=240\u001b[39;49m\u001b[38;5;124;43m\"\u001b[39;49m\u001b[43m]\u001b[49m\u001b[38;5;241;43m.\u001b[39;49m\u001b[43mdownload\u001b[49m\u001b[43m(\u001b[49m\u001b[43m)\u001b[49m\n",
      "File \u001b[0;32m~/bioml/.venv/lib/python3.10/site-packages/neptune/handler.py:88\u001b[0m, in \u001b[0;36mcheck_protected_paths.<locals>.inner_fun\u001b[0;34m(self, *args, **kwargs)\u001b[0m\n\u001b[1;32m     85\u001b[0m \u001b[38;5;129m@wraps\u001b[39m(fun)\n\u001b[1;32m     86\u001b[0m \u001b[38;5;28;01mdef\u001b[39;00m \u001b[38;5;21minner_fun\u001b[39m(\u001b[38;5;28mself\u001b[39m: \u001b[38;5;124m\"\u001b[39m\u001b[38;5;124mHandler\u001b[39m\u001b[38;5;124m\"\u001b[39m, \u001b[38;5;241m*\u001b[39margs, \u001b[38;5;241m*\u001b[39m\u001b[38;5;241m*\u001b[39mkwargs):\n\u001b[1;32m     87\u001b[0m     validate_path_not_protected(\u001b[38;5;28mself\u001b[39m\u001b[38;5;241m.\u001b[39m_path, \u001b[38;5;28mself\u001b[39m)\n\u001b[0;32m---> 88\u001b[0m     \u001b[38;5;28;01mreturn\u001b[39;00m \u001b[43mfun\u001b[49m\u001b[43m(\u001b[49m\u001b[38;5;28;43mself\u001b[39;49m\u001b[43m,\u001b[49m\u001b[43m \u001b[49m\u001b[38;5;241;43m*\u001b[39;49m\u001b[43margs\u001b[49m\u001b[43m,\u001b[49m\u001b[43m \u001b[49m\u001b[38;5;241;43m*\u001b[39;49m\u001b[38;5;241;43m*\u001b[39;49m\u001b[43mkwargs\u001b[49m\u001b[43m)\u001b[49m\n",
      "File \u001b[0;32m~/bioml/.venv/lib/python3.10/site-packages/neptune/handler.py:652\u001b[0m, in \u001b[0;36mHandler.download\u001b[0;34m(self, destination, progress_bar)\u001b[0m\n\u001b[1;32m    621\u001b[0m \u001b[38;5;129m@check_protected_paths\u001b[39m\n\u001b[1;32m    622\u001b[0m \u001b[38;5;28;01mdef\u001b[39;00m \u001b[38;5;21mdownload\u001b[39m(\n\u001b[1;32m    623\u001b[0m     \u001b[38;5;28mself\u001b[39m,\n\u001b[1;32m    624\u001b[0m     destination: Optional[\u001b[38;5;28mstr\u001b[39m] \u001b[38;5;241m=\u001b[39m \u001b[38;5;28;01mNone\u001b[39;00m,\n\u001b[1;32m    625\u001b[0m     progress_bar: Optional[ProgressBarType] \u001b[38;5;241m=\u001b[39m \u001b[38;5;28;01mNone\u001b[39;00m,\n\u001b[1;32m    626\u001b[0m ) \u001b[38;5;241m-\u001b[39m\u001b[38;5;241m>\u001b[39m \u001b[38;5;28;01mNone\u001b[39;00m:\n\u001b[1;32m    627\u001b[0m \u001b[38;5;250m    \u001b[39m\u001b[38;5;124;03m\"\"\"Downloads the stored files to the working directory or to the specified destination.\u001b[39;00m\n\u001b[1;32m    628\u001b[0m \n\u001b[1;32m    629\u001b[0m \u001b[38;5;124;03m    Available for the following field types:\u001b[39;00m\n\u001b[0;32m   (...)\u001b[0m\n\u001b[1;32m    650\u001b[0m \u001b[38;5;124;03m       https://docs.neptune.ai/api-reference/field-types\u001b[39;00m\n\u001b[1;32m    651\u001b[0m \u001b[38;5;124;03m    \"\"\"\u001b[39;00m\n\u001b[0;32m--> 652\u001b[0m     \u001b[38;5;28;01mreturn\u001b[39;00m \u001b[38;5;28;43mself\u001b[39;49m\u001b[38;5;241;43m.\u001b[39;49m\u001b[43m_pass_call_to_attr\u001b[49m\u001b[43m(\u001b[49m\u001b[43mfunction_name\u001b[49m\u001b[38;5;241;43m=\u001b[39;49m\u001b[38;5;124;43m\"\u001b[39;49m\u001b[38;5;124;43mdownload\u001b[39;49m\u001b[38;5;124;43m\"\u001b[39;49m\u001b[43m,\u001b[49m\u001b[43m \u001b[49m\u001b[43mdestination\u001b[49m\u001b[38;5;241;43m=\u001b[39;49m\u001b[43mdestination\u001b[49m\u001b[43m,\u001b[49m\u001b[43m \u001b[49m\u001b[43mprogress_bar\u001b[49m\u001b[38;5;241;43m=\u001b[39;49m\u001b[43mprogress_bar\u001b[49m\u001b[43m)\u001b[49m\n",
      "File \u001b[0;32m~/bioml/.venv/lib/python3.10/site-packages/neptune/handler.py:732\u001b[0m, in \u001b[0;36mHandler._pass_call_to_attr\u001b[0;34m(self, function_name, **kwargs)\u001b[0m\n\u001b[1;32m    731\u001b[0m \u001b[38;5;28;01mdef\u001b[39;00m \u001b[38;5;21m_pass_call_to_attr\u001b[39m(\u001b[38;5;28mself\u001b[39m, function_name, \u001b[38;5;241m*\u001b[39m\u001b[38;5;241m*\u001b[39mkwargs):\n\u001b[0;32m--> 732\u001b[0m     \u001b[38;5;28;01mreturn\u001b[39;00m \u001b[38;5;28;43mgetattr\u001b[39;49m\u001b[43m(\u001b[49m\u001b[38;5;28;43mself\u001b[39;49m\u001b[38;5;241;43m.\u001b[39;49m\u001b[43m_get_attribute\u001b[49m\u001b[43m(\u001b[49m\u001b[43m)\u001b[49m\u001b[43m,\u001b[49m\u001b[43m \u001b[49m\u001b[43mfunction_name\u001b[49m\u001b[43m)\u001b[49m\u001b[43m(\u001b[49m\u001b[38;5;241;43m*\u001b[39;49m\u001b[38;5;241;43m*\u001b[39;49m\u001b[43mkwargs\u001b[49m\u001b[43m)\u001b[49m\n",
      "File \u001b[0;32m~/bioml/.venv/lib/python3.10/site-packages/neptune/attributes/atoms/file.py:49\u001b[0m, in \u001b[0;36mFile.download\u001b[0;34m(self, destination, progress_bar)\u001b[0m\n\u001b[1;32m     43\u001b[0m \u001b[38;5;28;01mdef\u001b[39;00m \u001b[38;5;21mdownload\u001b[39m(\n\u001b[1;32m     44\u001b[0m     \u001b[38;5;28mself\u001b[39m,\n\u001b[1;32m     45\u001b[0m     destination: Optional[\u001b[38;5;28mstr\u001b[39m] \u001b[38;5;241m=\u001b[39m \u001b[38;5;28;01mNone\u001b[39;00m,\n\u001b[1;32m     46\u001b[0m     progress_bar: Optional[ProgressBarType] \u001b[38;5;241m=\u001b[39m \u001b[38;5;28;01mNone\u001b[39;00m,\n\u001b[1;32m     47\u001b[0m ) \u001b[38;5;241m-\u001b[39m\u001b[38;5;241m>\u001b[39m \u001b[38;5;28;01mNone\u001b[39;00m:\n\u001b[1;32m     48\u001b[0m     verify_type(\u001b[38;5;124m\"\u001b[39m\u001b[38;5;124mdestination\u001b[39m\u001b[38;5;124m\"\u001b[39m, destination, (\u001b[38;5;28mstr\u001b[39m, \u001b[38;5;28mtype\u001b[39m(\u001b[38;5;28;01mNone\u001b[39;00m)))\n\u001b[0;32m---> 49\u001b[0m     \u001b[38;5;28;43mself\u001b[39;49m\u001b[38;5;241;43m.\u001b[39;49m\u001b[43m_backend\u001b[49m\u001b[38;5;241;43m.\u001b[39;49m\u001b[43mdownload_file\u001b[49m\u001b[43m(\u001b[49m\u001b[38;5;28;43mself\u001b[39;49m\u001b[38;5;241;43m.\u001b[39;49m\u001b[43m_container_id\u001b[49m\u001b[43m,\u001b[49m\u001b[43m \u001b[49m\u001b[38;5;28;43mself\u001b[39;49m\u001b[38;5;241;43m.\u001b[39;49m\u001b[43m_container_type\u001b[49m\u001b[43m,\u001b[49m\u001b[43m \u001b[49m\u001b[38;5;28;43mself\u001b[39;49m\u001b[38;5;241;43m.\u001b[39;49m\u001b[43m_path\u001b[49m\u001b[43m,\u001b[49m\u001b[43m \u001b[49m\u001b[43mdestination\u001b[49m\u001b[43m,\u001b[49m\u001b[43m \u001b[49m\u001b[43mprogress_bar\u001b[49m\u001b[43m)\u001b[49m\n",
      "File \u001b[0;32m~/bioml/.venv/lib/python3.10/site-packages/neptune/internal/backends/hosted_neptune_backend.py:754\u001b[0m, in \u001b[0;36mHostedNeptuneBackend.download_file\u001b[0;34m(self, container_id, container_type, path, destination, progress_bar)\u001b[0m\n\u001b[1;32m    745\u001b[0m \u001b[38;5;28;01mdef\u001b[39;00m \u001b[38;5;21mdownload_file\u001b[39m(\n\u001b[1;32m    746\u001b[0m     \u001b[38;5;28mself\u001b[39m,\n\u001b[1;32m    747\u001b[0m     container_id: \u001b[38;5;28mstr\u001b[39m,\n\u001b[0;32m   (...)\u001b[0m\n\u001b[1;32m    751\u001b[0m     progress_bar: Optional[ProgressBarType] \u001b[38;5;241m=\u001b[39m \u001b[38;5;28;01mNone\u001b[39;00m,\n\u001b[1;32m    752\u001b[0m ):\n\u001b[1;32m    753\u001b[0m     \u001b[38;5;28;01mtry\u001b[39;00m:\n\u001b[0;32m--> 754\u001b[0m         \u001b[43mdownload_file_attribute\u001b[49m\u001b[43m(\u001b[49m\n\u001b[1;32m    755\u001b[0m \u001b[43m            \u001b[49m\u001b[43mswagger_client\u001b[49m\u001b[38;5;241;43m=\u001b[39;49m\u001b[38;5;28;43mself\u001b[39;49m\u001b[38;5;241;43m.\u001b[39;49m\u001b[43mleaderboard_client\u001b[49m\u001b[43m,\u001b[49m\n\u001b[1;32m    756\u001b[0m \u001b[43m            \u001b[49m\u001b[43mcontainer_id\u001b[49m\u001b[38;5;241;43m=\u001b[39;49m\u001b[43mcontainer_id\u001b[49m\u001b[43m,\u001b[49m\n\u001b[1;32m    757\u001b[0m \u001b[43m            \u001b[49m\u001b[43mattribute\u001b[49m\u001b[38;5;241;43m=\u001b[39;49m\u001b[43mpath_to_str\u001b[49m\u001b[43m(\u001b[49m\u001b[43mpath\u001b[49m\u001b[43m)\u001b[49m\u001b[43m,\u001b[49m\n\u001b[1;32m    758\u001b[0m \u001b[43m            \u001b[49m\u001b[43mdestination\u001b[49m\u001b[38;5;241;43m=\u001b[39;49m\u001b[43mdestination\u001b[49m\u001b[43m,\u001b[49m\n\u001b[1;32m    759\u001b[0m \u001b[43m            \u001b[49m\u001b[43mprogress_bar\u001b[49m\u001b[38;5;241;43m=\u001b[39;49m\u001b[43mprogress_bar\u001b[49m\u001b[43m,\u001b[49m\n\u001b[1;32m    760\u001b[0m \u001b[43m        \u001b[49m\u001b[43m)\u001b[49m\n\u001b[1;32m    761\u001b[0m     \u001b[38;5;28;01mexcept\u001b[39;00m ClientHttpError \u001b[38;5;28;01mas\u001b[39;00m e:\n\u001b[1;32m    762\u001b[0m         \u001b[38;5;28;01mif\u001b[39;00m e\u001b[38;5;241m.\u001b[39mstatus \u001b[38;5;241m==\u001b[39m HTTPNotFound\u001b[38;5;241m.\u001b[39mstatus_code:\n",
      "File \u001b[0;32m~/bioml/.venv/lib/python3.10/site-packages/neptune/internal/backends/hosted_file_operations.py:441\u001b[0m, in \u001b[0;36mdownload_file_attribute\u001b[0;34m(swagger_client, container_id, attribute, destination, progress_bar)\u001b[0m\n\u001b[1;32m    431\u001b[0m url \u001b[38;5;241m=\u001b[39m build_operation_url(\n\u001b[1;32m    432\u001b[0m     swagger_client\u001b[38;5;241m.\u001b[39mswagger_spec\u001b[38;5;241m.\u001b[39mapi_url,\n\u001b[1;32m    433\u001b[0m     swagger_client\u001b[38;5;241m.\u001b[39mapi\u001b[38;5;241m.\u001b[39mdownloadAttribute\u001b[38;5;241m.\u001b[39moperation\u001b[38;5;241m.\u001b[39mpath_name,\n\u001b[1;32m    434\u001b[0m )\n\u001b[1;32m    435\u001b[0m response \u001b[38;5;241m=\u001b[39m _download_raw_data(\n\u001b[1;32m    436\u001b[0m     http_client\u001b[38;5;241m=\u001b[39mswagger_client\u001b[38;5;241m.\u001b[39mswagger_spec\u001b[38;5;241m.\u001b[39mhttp_client,\n\u001b[1;32m    437\u001b[0m     url\u001b[38;5;241m=\u001b[39murl,\n\u001b[1;32m    438\u001b[0m     headers\u001b[38;5;241m=\u001b[39m{\u001b[38;5;124m\"\u001b[39m\u001b[38;5;124mAccept\u001b[39m\u001b[38;5;124m\"\u001b[39m: \u001b[38;5;124m\"\u001b[39m\u001b[38;5;124mapplication/octet-stream\u001b[39m\u001b[38;5;124m\"\u001b[39m},\n\u001b[1;32m    439\u001b[0m     query_params\u001b[38;5;241m=\u001b[39m{\u001b[38;5;124m\"\u001b[39m\u001b[38;5;124mexperimentId\u001b[39m\u001b[38;5;124m\"\u001b[39m: container_id, \u001b[38;5;124m\"\u001b[39m\u001b[38;5;124mattribute\u001b[39m\u001b[38;5;124m\"\u001b[39m: attribute},\n\u001b[1;32m    440\u001b[0m )\n\u001b[0;32m--> 441\u001b[0m \u001b[43m_store_response_as_file\u001b[49m\u001b[43m(\u001b[49m\u001b[43mresponse\u001b[49m\u001b[43m,\u001b[49m\u001b[43m \u001b[49m\u001b[43mdestination\u001b[49m\u001b[43m,\u001b[49m\u001b[43m \u001b[49m\u001b[43mprogress_bar\u001b[49m\u001b[43m)\u001b[49m\n",
      "File \u001b[0;32m~/bioml/.venv/lib/python3.10/site-packages/neptune/internal/backends/hosted_file_operations.py:493\u001b[0m, in \u001b[0;36m_store_response_as_file\u001b[0;34m(response, destination, progress_bar)\u001b[0m\n\u001b[1;32m    491\u001b[0m \u001b[38;5;66;03m# TODO: update syntax once py3.10 becomes min supported version (with (x(), y(), z()): ...)\u001b[39;00m\n\u001b[1;32m    492\u001b[0m \u001b[38;5;28;01mwith\u001b[39;00m ExitStack() \u001b[38;5;28;01mas\u001b[39;00m stack:\n\u001b[0;32m--> 493\u001b[0m     bar \u001b[38;5;241m=\u001b[39m stack\u001b[38;5;241m.\u001b[39menter_context(\u001b[43mconstruct_progress_bar\u001b[49m\u001b[43m(\u001b[49m\u001b[43mprogress_bar\u001b[49m\u001b[43m,\u001b[49m\u001b[43m \u001b[49m\u001b[38;5;124;43m\"\u001b[39;49m\u001b[38;5;124;43mFetching file...\u001b[39;49m\u001b[38;5;124;43m\"\u001b[39;49m\u001b[43m)\u001b[49m)\n\u001b[1;32m    494\u001b[0m     response \u001b[38;5;241m=\u001b[39m stack\u001b[38;5;241m.\u001b[39menter_context(response)\n\u001b[1;32m    495\u001b[0m     file_stream \u001b[38;5;241m=\u001b[39m stack\u001b[38;5;241m.\u001b[39menter_context(\u001b[38;5;28mopen\u001b[39m(target_file, \u001b[38;5;124m\"\u001b[39m\u001b[38;5;124mwb\u001b[39m\u001b[38;5;124m\"\u001b[39m))\n",
      "File \u001b[0;32m~/bioml/.venv/lib/python3.10/site-packages/neptune/internal/backends/utils.py:332\u001b[0m, in \u001b[0;36mconstruct_progress_bar\u001b[0;34m(progress_bar, description)\u001b[0m\n\u001b[1;32m    327\u001b[0m \u001b[38;5;28;01mdef\u001b[39;00m \u001b[38;5;21mconstruct_progress_bar\u001b[39m(\n\u001b[1;32m    328\u001b[0m     progress_bar: Optional[ProgressBarType],\n\u001b[1;32m    329\u001b[0m     description: \u001b[38;5;28mstr\u001b[39m,\n\u001b[1;32m    330\u001b[0m ) \u001b[38;5;241m-\u001b[39m\u001b[38;5;241m>\u001b[39m ProgressBarCallback:\n\u001b[1;32m    331\u001b[0m     progress_bar_type \u001b[38;5;241m=\u001b[39m which_progress_bar(progress_bar)\n\u001b[0;32m--> 332\u001b[0m     \u001b[38;5;28;01mreturn\u001b[39;00m \u001b[43mprogress_bar_type\u001b[49m\u001b[43m(\u001b[49m\u001b[43mdescription\u001b[49m\u001b[38;5;241;43m=\u001b[39;49m\u001b[43mdescription\u001b[49m\u001b[43m)\u001b[49m\n",
      "File \u001b[0;32m~/bioml/.venv/lib/python3.10/site-packages/neptune/utils.py:130\u001b[0m, in \u001b[0;36mTqdmProgressBar.__init__\u001b[0;34m(self, description, unit, unit_scale, *args, **kwargs)\u001b[0m\n\u001b[1;32m    126\u001b[0m     \u001b[38;5;28;01mfrom\u001b[39;00m \u001b[38;5;21;01mtqdm\u001b[39;00m \u001b[38;5;28;01mimport\u001b[39;00m tqdm  \u001b[38;5;66;03m# type: ignore\u001b[39;00m\n\u001b[1;32m    128\u001b[0m unit \u001b[38;5;241m=\u001b[39m unit \u001b[38;5;28;01mif\u001b[39;00m unit \u001b[38;5;28;01melse\u001b[39;00m \u001b[38;5;124m\"\u001b[39m\u001b[38;5;124m\"\u001b[39m\n\u001b[0;32m--> 130\u001b[0m \u001b[38;5;28mself\u001b[39m\u001b[38;5;241m.\u001b[39m_progress_bar \u001b[38;5;241m=\u001b[39m \u001b[43mtqdm\u001b[49m\u001b[43m(\u001b[49m\u001b[43mdesc\u001b[49m\u001b[38;5;241;43m=\u001b[39;49m\u001b[43mdescription\u001b[49m\u001b[43m,\u001b[49m\u001b[43m \u001b[49m\u001b[43munit\u001b[49m\u001b[38;5;241;43m=\u001b[39;49m\u001b[43munit\u001b[49m\u001b[43m,\u001b[49m\u001b[43m \u001b[49m\u001b[43munit_scale\u001b[49m\u001b[38;5;241;43m=\u001b[39;49m\u001b[43munit_scale\u001b[49m\u001b[43m,\u001b[49m\u001b[43m \u001b[49m\u001b[38;5;241;43m*\u001b[39;49m\u001b[38;5;241;43m*\u001b[39;49m\u001b[43mkwargs\u001b[49m\u001b[43m)\u001b[49m\n",
      "File \u001b[0;32m~/bioml/.venv/lib/python3.10/site-packages/tqdm/notebook.py:234\u001b[0m, in \u001b[0;36mtqdm_notebook.__init__\u001b[0;34m(self, *args, **kwargs)\u001b[0m\n\u001b[1;32m    232\u001b[0m unit_scale \u001b[38;5;241m=\u001b[39m \u001b[38;5;241m1\u001b[39m \u001b[38;5;28;01mif\u001b[39;00m \u001b[38;5;28mself\u001b[39m\u001b[38;5;241m.\u001b[39munit_scale \u001b[38;5;129;01mis\u001b[39;00m \u001b[38;5;28;01mTrue\u001b[39;00m \u001b[38;5;28;01melse\u001b[39;00m \u001b[38;5;28mself\u001b[39m\u001b[38;5;241m.\u001b[39munit_scale \u001b[38;5;129;01mor\u001b[39;00m \u001b[38;5;241m1\u001b[39m\n\u001b[1;32m    233\u001b[0m total \u001b[38;5;241m=\u001b[39m \u001b[38;5;28mself\u001b[39m\u001b[38;5;241m.\u001b[39mtotal \u001b[38;5;241m*\u001b[39m unit_scale \u001b[38;5;28;01mif\u001b[39;00m \u001b[38;5;28mself\u001b[39m\u001b[38;5;241m.\u001b[39mtotal \u001b[38;5;28;01melse\u001b[39;00m \u001b[38;5;28mself\u001b[39m\u001b[38;5;241m.\u001b[39mtotal\n\u001b[0;32m--> 234\u001b[0m \u001b[38;5;28mself\u001b[39m\u001b[38;5;241m.\u001b[39mcontainer \u001b[38;5;241m=\u001b[39m \u001b[38;5;28;43mself\u001b[39;49m\u001b[38;5;241;43m.\u001b[39;49m\u001b[43mstatus_printer\u001b[49m\u001b[43m(\u001b[49m\u001b[38;5;28;43mself\u001b[39;49m\u001b[38;5;241;43m.\u001b[39;49m\u001b[43mfp\u001b[49m\u001b[43m,\u001b[49m\u001b[43m \u001b[49m\u001b[43mtotal\u001b[49m\u001b[43m,\u001b[49m\u001b[43m \u001b[49m\u001b[38;5;28;43mself\u001b[39;49m\u001b[38;5;241;43m.\u001b[39;49m\u001b[43mdesc\u001b[49m\u001b[43m,\u001b[49m\u001b[43m \u001b[49m\u001b[38;5;28;43mself\u001b[39;49m\u001b[38;5;241;43m.\u001b[39;49m\u001b[43mncols\u001b[49m\u001b[43m)\u001b[49m\n\u001b[1;32m    235\u001b[0m \u001b[38;5;28mself\u001b[39m\u001b[38;5;241m.\u001b[39mcontainer\u001b[38;5;241m.\u001b[39mpbar \u001b[38;5;241m=\u001b[39m proxy(\u001b[38;5;28mself\u001b[39m)\n\u001b[1;32m    236\u001b[0m \u001b[38;5;28mself\u001b[39m\u001b[38;5;241m.\u001b[39mdisplayed \u001b[38;5;241m=\u001b[39m \u001b[38;5;28;01mFalse\u001b[39;00m\n",
      "File \u001b[0;32m~/bioml/.venv/lib/python3.10/site-packages/tqdm/notebook.py:108\u001b[0m, in \u001b[0;36mtqdm_notebook.status_printer\u001b[0;34m(_, total, desc, ncols)\u001b[0m\n\u001b[1;32m     99\u001b[0m \u001b[38;5;66;03m# Fallback to text bar if there's no total\u001b[39;00m\n\u001b[1;32m    100\u001b[0m \u001b[38;5;66;03m# DEPRECATED: replaced with an 'info' style bar\u001b[39;00m\n\u001b[1;32m    101\u001b[0m \u001b[38;5;66;03m# if not total:\u001b[39;00m\n\u001b[0;32m   (...)\u001b[0m\n\u001b[1;32m    105\u001b[0m \n\u001b[1;32m    106\u001b[0m \u001b[38;5;66;03m# Prepare IPython progress bar\u001b[39;00m\n\u001b[1;32m    107\u001b[0m \u001b[38;5;28;01mif\u001b[39;00m IProgress \u001b[38;5;129;01mis\u001b[39;00m \u001b[38;5;28;01mNone\u001b[39;00m:  \u001b[38;5;66;03m# #187 #451 #558 #872\u001b[39;00m\n\u001b[0;32m--> 108\u001b[0m     \u001b[38;5;28;01mraise\u001b[39;00m \u001b[38;5;167;01mImportError\u001b[39;00m(WARN_NOIPYW)\n\u001b[1;32m    109\u001b[0m \u001b[38;5;28;01mif\u001b[39;00m total:\n\u001b[1;32m    110\u001b[0m     pbar \u001b[38;5;241m=\u001b[39m IProgress(\u001b[38;5;28mmin\u001b[39m\u001b[38;5;241m=\u001b[39m\u001b[38;5;241m0\u001b[39m, \u001b[38;5;28mmax\u001b[39m\u001b[38;5;241m=\u001b[39mtotal)\n",
      "\u001b[0;31mImportError\u001b[0m: IProgress not found. Please update jupyter and ipywidgets. See https://ipywidgets.readthedocs.io/en/stable/user_install.html"
     ]
    }
   ],
   "source": [
    "run[\"training/model/checkpoints/epoch=9-step=240\"].download()"
   ]
  },
  {
   "cell_type": "code",
   "execution_count": null,
   "metadata": {},
   "outputs": [
    {
     "name": "stderr",
     "output_type": "stream",
     "text": [
      "/home/prz/bioml/.venv/lib/python3.10/site-packages/lightning_fabric/utilities/cloud_io.py:57: You are using `torch.load` with `weights_only=False` (the current default value), which uses the default pickle module implicitly. It is possible to construct malicious pickle data which will execute arbitrary code during unpickling (See https://github.com/pytorch/pytorch/blob/main/SECURITY.md#untrusted-models for more details). In a future release, the default value for `weights_only` will be flipped to `True`. This limits the functions that could be executed during unpickling. Arbitrary objects will no longer be allowed to be loaded via this mode unless they are explicitly allowlisted by the user via `torch.serialization.add_safe_globals`. We recommend you start setting `weights_only=True` for any use case where you don't have full control of the loaded file. Please open an issue on GitHub for any issues related to this experimental feature.\n"
     ]
    }
   ],
   "source": [
    "loaded_chainae = Chain.load_from_checkpoint(\n",
    "    checkpoint_path=Path(\"lightning_logs\")\n",
    "    / \"version_82-ae\"\n",
    "    / \"checkpoints\"\n",
    "    / \"epoch=99-step=46900.ckpt\",\n",
    "    cfg=chain_cfg,\n",
    ")"
   ]
  },
  {
   "cell_type": "code",
   "execution_count": null,
   "metadata": {},
   "outputs": [
    {
     "data": {
      "image/png": "[encoded data removed]",
      "text/plain": [
       "<Figure size 1000x800 with 20 Axes>"
      ]
     },
     "execution_count": 16,
     "metadata": {},
     "output_type": "execute_result"
    }
   ],
   "source": [
    "plot_original_vs_reconstructed_wrapped_with_wrap_with_first_batch = (\n",
    "    wrap_with_first_batch(\n",
    "        plot_original_vs_reconstructed,\n",
    "        **vars(\n",
    "            Namespace(\n",
    "                org_imgs_name=\"img_org\",\n",
    "                reconstructed_imgs_name=\"img\",\n",
    "                num_images=10,\n",
    "                wspace=0.2,\n",
    "                hspace=0.2,\n",
    "                num_rows=2,\n",
    "            )\n",
    "        ),\n",
    "    )\n",
    ")\n",
    "\n",
    "fig = plot_original_vs_reconstructed_wrapped_with_wrap_with_first_batch(\n",
    "    dataloader=cmnist_train_dataloader,\n",
    "    processing_function=partial(\n",
    "        loaded_chainae.run_processing_command, command_name=\"encode-decode\"\n",
    "    ),\n",
    ")\n",
    "\n",
    "fig"
   ]
  },
  {
   "cell_type": "code",
   "execution_count": null,
   "metadata": {},
   "outputs": [
    {
     "data": {
      "image/png": "[encoded data removed]",
      "text/plain": [
       "<Figure size 600x600 with 2 Axes>"
      ]
     },
     "metadata": {},
     "output_type": "display_data"
    },
    {
     "data": {
      "image/png": "[encoded data removed]",
      "text/plain": [
       "<Figure size 600x600 with 2 Axes>"
      ]
     },
     "metadata": {},
     "output_type": "display_data"
    }
   ],
   "source": [
    "fig = plot_latent(\n",
    "    processing_function=partial(\n",
    "        loaded_chainae.run_processing_command, command_name=\"encode\"\n",
    "    ),\n",
    "    dataloader=cmnist_val_dataloader,\n",
    "    data_name=\"img\",\n",
    "    condition_value_name=\"condition_values\",\n",
    "    condition_value_idxs=[0, 1],\n",
    "    are_conditions_categorical=[True, True],\n",
    "    num_batches=None,\n",
    ")\n",
    "\n",
    "display(fig[0])\n",
    "display(fig[1])"
   ]
  }
 ],
 "metadata": {
  "kernelspec": {
   "display_name": ".venv",
   "language": "python",
   "name": "python3"
  },
  "language_info": {
   "codemirror_mode": {
    "name": "ipython",
    "version": 3
   },
   "file_extension": ".py",
   "mimetype": "text/x-python",
   "name": "python",
   "nbconvert_exporter": "python",
   "pygments_lexer": "ipython3",
   "version": "3.10.12"
  }
 },
 "nbformat": 4,
 "nbformat_minor": 2
}
