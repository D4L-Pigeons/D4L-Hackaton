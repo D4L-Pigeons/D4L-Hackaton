{
 "cells": [
  {
   "cell_type": "code",
   "execution_count": 1,
   "metadata": {},
   "outputs": [
    {
     "data": {
      "text/plain": [
       "['src',\n",
       " 'requirements.txt',\n",
       " 'tests',\n",
       " '.pytest_cache',\n",
       " '.idea',\n",
       " '.githooks',\n",
       " '.git',\n",
       " 'lightning_logs',\n",
       " 'notebooks',\n",
       " '.pre-commit-config.yaml',\n",
       " 'old_code',\n",
       " 'data',\n",
       " 'README.md',\n",
       " '.gitignore',\n",
       " 'pytest.ini']"
      ]
     },
     "execution_count": 1,
     "metadata": {},
     "output_type": "execute_result"
    }
   ],
   "source": [
    "import os\n",
    "\n",
    "if not \"src\" in os.listdir():\n",
    "    os.chdir(\"../../\")\n",
    "os.listdir()"
   ]
  },
  {
   "cell_type": "code",
   "execution_count": 2,
   "metadata": {},
   "outputs": [],
   "source": [
    "import torch\n",
    "from src.utils.data.pcm.mnist_cond_trans_dataset import (\n",
    "    ConditionalMNIST,\n",
    "    get_ConditionalMnistDataloader,\n",
    ")\n",
    "from src.utils.config import load_config_from_path\n",
    "from pathlib import Path\n",
    "import torchvision.transforms as transforms\n",
    "import matplotlib.pyplot as plt\n",
    "import pytorch_lightning as pl\n",
    "from argparse import Namespace"
   ]
  },
  {
   "cell_type": "code",
   "execution_count": 3,
   "metadata": {},
   "outputs": [],
   "source": [
    "import matplotlib.pyplot as plt\n",
    "\n",
    "\n",
    "def plot_original_vs_reconstructed(org_imgs, reconstructed_imgs, num_images=8):\n",
    "    \"\"\"\n",
    "    Plots a grid of original and reconstructed images.\n",
    "\n",
    "    Parameters:\n",
    "    org_imgs (torch.Tensor): The original images.\n",
    "    reconstructed_imgs (torch.Tensor): The reconstructed images.\n",
    "    num_images (int): The number of images to display. Default is 8.\n",
    "    \"\"\"\n",
    "    # Create a figure with a grid of subplots\n",
    "    fig, axes = plt.subplots(2, num_images, figsize=(num_images * 2, 4))\n",
    "\n",
    "    # Plot original and reconstructed images\n",
    "    for i in range(num_images):\n",
    "        # Original images\n",
    "        original = org_imgs[i][0]\n",
    "        axes[0, i].imshow(original, cmap=\"gray\")\n",
    "        axes[0, i].axis(\"off\")\n",
    "\n",
    "        # Reconstructed images\n",
    "        reconstruction = reconstructed_imgs[i][0].detach()\n",
    "        axes[1, i].imshow(reconstruction, cmap=\"gray\")\n",
    "        axes[1, i].axis(\"off\")\n",
    "\n",
    "    # Set titles\n",
    "    axes[0, 0].set_title(\"Original Images\")\n",
    "    axes[1, 0].set_title(\"Reconstructed Images\")\n",
    "\n",
    "    plt.tight_layout()\n",
    "    plt.show()"
   ]
  },
  {
   "cell_type": "code",
   "execution_count": null,
   "metadata": {},
   "outputs": [],
   "source": [
    "# import torch.nn as nn\n",
    "# import torch.nn.functional as F\n",
    "# import pytorch_lightning as pl\n",
    "# from src.utils.common_types import Batch\n",
    "# from einops import rearrange\n",
    "\n",
    "\n",
    "# class AE(pl.LightningModule):\n",
    "#     def __init__(self):\n",
    "#         super(AE, self).__init__()\n",
    "#         self.encoder = nn.Sequential(nn.Linear(784, 512), nn.ReLU(), nn.Linear(512, 2))\n",
    "#         self.decoder = nn.Sequential(\n",
    "#             nn.Linear(2, 512), nn.ReLU(), nn.Linear(512, 784), nn.Sigmoid()\n",
    "#         )\n",
    "\n",
    "#     def training_step(self, batch: Batch):\n",
    "#         input = batch[\"img\"]\n",
    "#         x = rearrange(input, \"b 1 h w -> b (1 h w)\")\n",
    "#         x = self.encoder(x)\n",
    "#         x = self.decoder(x)\n",
    "#         x = rearrange(x, \"b (1 h w) -> b 1 h w\", h=28)\n",
    "#         mse = F.mse_loss(x, input, reduction=\"sum\")\n",
    "#         self.log(\n",
    "#             name=\"mse\", value=mse.item(), prog_bar=True, on_epoch=True, on_step=True\n",
    "#         )\n",
    "#         return mse\n",
    "\n",
    "#     def configure_optimizers(self):\n",
    "#         return torch.optim.Adam(\n",
    "#             params=list(self.encoder.parameters()) + list(self.decoder.parameters()),\n",
    "#             lr=0.001,\n",
    "#         )\n",
    "# ae = AE()\n",
    "# # trainer = pl.Trainer(max_epochs=100)\n",
    "\n",
    "# # trainer.fit(\n",
    "# #     model=ae,\n",
    "# #     train_dataloaders=cmnist_train_dataloader,\n",
    "# #     # val_dataloaders=cmnist_val_dataloader,\n",
    "# # )"
   ]
  },
  {
   "cell_type": "code",
   "execution_count": 4,
   "metadata": {},
   "outputs": [],
   "source": [
    "train_data_cfg = load_config_from_path(\n",
    "    file_path=Path(\"notebooks\") / \"experiments\" / \"config\" / \"pcm-mnist-00-train.yaml\"\n",
    ")\n",
    "cmnist_train = ConditionalMNIST(cfg=train_data_cfg)\n",
    "cmnist_train_dataloader = get_ConditionalMnistDataloader(\n",
    "    cmnist=cmnist_train, batch_size=128, shuffle=True\n",
    ")\n",
    "\n",
    "train_data_cfg.train = False\n",
    "cmnist_val = ConditionalMNIST(cfg=train_data_cfg)\n",
    "cmnist_val_dataloader = get_ConditionalMnistDataloader(\n",
    "    cmnist=cmnist_train, batch_size=128, shuffle=True\n",
    ")"
   ]
  },
  {
   "cell_type": "code",
   "execution_count": 5,
   "metadata": {},
   "outputs": [],
   "source": [
    "def show_img(img: torch.Tensor, figsize=(2, 2)):\n",
    "    img = transforms.ToPILImage()(img)\n",
    "    plt.figure(figsize=figsize)\n",
    "    plt.imshow(img, cmap=\"gray\")\n",
    "    plt.axis(\"off\")\n",
    "    plt.show()"
   ]
  },
  {
   "cell_type": "code",
   "execution_count": 6,
   "metadata": {},
   "outputs": [
    {
     "data": {
      "text/plain": [
       "dict_keys(['img', 'condition_token_ids', 'condition_values'])"
      ]
     },
     "execution_count": 6,
     "metadata": {},
     "output_type": "execute_result"
    }
   ],
   "source": [
    "cmnist_train[0].keys()"
   ]
  },
  {
   "cell_type": "code",
   "execution_count": 7,
   "metadata": {},
   "outputs": [
    {
     "data": {
      "text/plain": [
       "(torch.int64, torch.Size([1]))"
      ]
     },
     "execution_count": 7,
     "metadata": {},
     "output_type": "execute_result"
    }
   ],
   "source": [
    "cmnist_train[0][\"condition_token_ids\"].dtype, cmnist_train[0][\n",
    "    \"condition_token_ids\"\n",
    "].shape"
   ]
  },
  {
   "cell_type": "code",
   "execution_count": 8,
   "metadata": {},
   "outputs": [
    {
     "name": "stdout",
     "output_type": "stream",
     "text": [
      "Condition tokens (0 - pad): tensor([1]) \n",
      "Condition values: tensor([5.])\n"
     ]
    },
    {
     "data": {
      "image/png": "[encoded data removed]",
      "text/plain": [
       "<Figure size 200x200 with 1 Axes>"
      ]
     },
     "metadata": {},
     "output_type": "display_data"
    },
    {
     "name": "stdout",
     "output_type": "stream",
     "text": [
      "Condition tokens (0 - pad): tensor([1]) \n",
      "Condition values: tensor([0.])\n"
     ]
    },
    {
     "data": {
      "image/png": "[encoded data removed]",
      "text/plain": [
       "<Figure size 200x200 with 1 Axes>"
      ]
     },
     "metadata": {},
     "output_type": "display_data"
    },
    {
     "name": "stdout",
     "output_type": "stream",
     "text": [
      "Condition tokens (0 - pad): tensor([0]) \n",
      "Condition values: tensor([5.])\n"
     ]
    },
    {
     "data": {
      "image/png": "[encoded data removed]",
      "text/plain": [
       "<Figure size 200x200 with 1 Axes>"
      ]
     },
     "metadata": {},
     "output_type": "display_data"
    },
    {
     "name": "stdout",
     "output_type": "stream",
     "text": [
      "Condition tokens (0 - pad): tensor([1]) \n",
      "Condition values: tensor([5.])\n"
     ]
    },
    {
     "data": {
      "image/png": "[encoded data removed]",
      "text/plain": [
       "<Figure size 200x200 with 1 Axes>"
      ]
     },
     "metadata": {},
     "output_type": "display_data"
    },
    {
     "name": "stdout",
     "output_type": "stream",
     "text": [
      "Condition tokens (0 - pad): tensor([0]) \n",
      "Condition values: tensor([0.])\n"
     ]
    },
    {
     "data": {
      "image/png": "[encoded data removed]",
      "text/plain": [
       "<Figure size 200x200 with 1 Axes>"
      ]
     },
     "metadata": {},
     "output_type": "display_data"
    }
   ],
   "source": [
    "for _ in range(5):\n",
    "    print(\n",
    "        f'Condition tokens (0 - pad): {cmnist_train[0][\"condition_token_ids\"]} \\nCondition values: {cmnist_train[0][\"condition_values\"]}'\n",
    "    )\n",
    "    show_img(img=cmnist_train[0][\"img\"][0])"
   ]
  },
  {
   "cell_type": "markdown",
   "metadata": {},
   "source": [
    "### Model"
   ]
  },
  {
   "cell_type": "code",
   "execution_count": 43,
   "metadata": {},
   "outputs": [
    {
     "data": {
      "text/plain": [
       "ChainAE(\n",
       "  (_chain): ModuleDict(\n",
       "    (br-0): BatchRearranger()\n",
       "    (bs-0): BlockStack(\n",
       "      (blocks): Sequential(\n",
       "        (0): Block(\n",
       "          (layer): ModuleList(\n",
       "            (0): Linear(in_features=784, out_features=512, bias=True)\n",
       "            (1): ReLU()\n",
       "          )\n",
       "        )\n",
       "        (1): Linear(in_features=512, out_features=2, bias=True)\n",
       "      )\n",
       "    )\n",
       "    (cf): FuzzyClustering()\n",
       "    (bs-2): BlockStack(\n",
       "      (blocks): Sequential(\n",
       "        (0): Block(\n",
       "          (layer): ModuleList(\n",
       "            (0): Linear(in_features=2, out_features=512, bias=True)\n",
       "            (1): ReLU()\n",
       "          )\n",
       "        )\n",
       "        (1): Linear(in_features=512, out_features=784, bias=True)\n",
       "      )\n",
       "    )\n",
       "    (oa): StandaloneTinyModule(\n",
       "      (_tiny_module): Sigmoid()\n",
       "    )\n",
       "    (br-3): BatchRearranger()\n",
       "  )\n",
       "  (_reconstr_loss_fn): MSELoss()\n",
       ")"
      ]
     },
     "execution_count": 43,
     "metadata": {},
     "output_type": "execute_result"
    }
   ],
   "source": [
    "from src.models.components.chain import ChainAE\n",
    "\n",
    "chain_cfg = load_config_from_path(\n",
    "    file_path=Path(\"notebooks\") / \"experiments\" / \"config\" / \"pcm-01.yaml\"\n",
    ")\n",
    "chainae = ChainAE(cfg=chain_cfg)\n",
    "chainae"
   ]
  },
  {
   "cell_type": "code",
   "execution_count": 44,
   "metadata": {},
   "outputs": [
    {
     "name": "stderr",
     "output_type": "stream",
     "text": [
      "GPU available: False, used: False\n",
      "TPU available: False, using: 0 TPU cores\n",
      "HPU available: False, using: 0 HPUs\n",
      "/home/prz/bioml/.venv/lib/python3.10/site-packages/pytorch_lightning/trainer/configuration_validator.py:70: You defined a `validation_step` but have no `val_dataloader`. Skipping val loop.\n",
      "\n",
      "  | Name              | Type       | Params | Mode \n",
      "---------------------------------------------------------\n",
      "0 | _chain            | ModuleDict | 806 K  | train\n",
      "1 | _reconstr_loss_fn | MSELoss    | 0      | train\n",
      "---------------------------------------------------------\n",
      "806 K     Trainable params\n",
      "0         Non-trainable params\n",
      "806 K     Total params\n",
      "3.227     Total estimated model params size (MB)\n",
      "/home/prz/bioml/.venv/lib/python3.10/site-packages/pytorch_lightning/trainer/connectors/data_connector.py:424: The 'train_dataloader' does not have many workers which may be a bottleneck. Consider increasing the value of the `num_workers` argument` to `num_workers=3` in the `DataLoader` to improve performance.\n"
     ]
    },
    {
     "name": "stdout",
     "output_type": "stream",
     "text": [
      "Training:   0%|          | 0/469 [00:00<?, ?it/s]"
     ]
    },
    {
     "name": "stdout",
     "output_type": "stream",
     "text": [
      "Epoch 17:  89%|████████▊ | 416/469 [00:25<00:03, 16.13it/s, v_num=0, reconstr_step=4.11e+3, reconstr_epoch=4e+3]   "
     ]
    },
    {
     "name": "stderr",
     "output_type": "stream",
     "text": [
      "/home/prz/bioml/.venv/lib/python3.10/site-packages/pytorch_lightning/trainer/call.py:54: Detected KeyboardInterrupt, attempting graceful shutdown...\n"
     ]
    }
   ],
   "source": [
    "trainer = pl.Trainer(max_epochs=100)\n",
    "\n",
    "trainer.fit(\n",
    "    model=chainae,\n",
    "    train_dataloaders=cmnist_train_dataloader,\n",
    "    # val_dataloaders=cmnist_val_dataloader,\n",
    ")"
   ]
  },
  {
   "cell_type": "code",
   "execution_count": 33,
   "metadata": {},
   "outputs": [
    {
     "name": "stderr",
     "output_type": "stream",
     "text": [
      "/home/prz/bioml/.venv/lib/python3.10/site-packages/lightning_fabric/utilities/cloud_io.py:57: You are using `torch.load` with `weights_only=False` (the current default value), which uses the default pickle module implicitly. It is possible to construct malicious pickle data which will execute arbitrary code during unpickling (See https://github.com/pytorch/pytorch/blob/main/SECURITY.md#untrusted-models for more details). In a future release, the default value for `weights_only` will be flipped to `True`. This limits the functions that could be executed during unpickling. Arbitrary objects will no longer be allowed to be loaded via this mode unless they are explicitly allowlisted by the user via `torch.serialization.add_safe_globals`. We recommend you start setting `weights_only=True` for any use case where you don't have full control of the loaded file. Please open an issue on GitHub for any issues related to this experimental feature.\n"
     ]
    }
   ],
   "source": [
    "loaded_chainae = ChainAE.load_from_checkpoint(\n",
    "    checkpoint_path=Path(\"lightning_logs\")\n",
    "    / \"version_9\"\n",
    "    / \"checkpoints\"\n",
    "    / \"epoch=99-step=46900.ckpt\",\n",
    "    cfg=chain_cfg,\n",
    ")"
   ]
  },
  {
   "cell_type": "code",
   "execution_count": 34,
   "metadata": {},
   "outputs": [],
   "source": [
    "dataloader_iter = iter(cmnist_val_dataloader)"
   ]
  },
  {
   "cell_type": "code",
   "execution_count": 40,
   "metadata": {},
   "outputs": [
    {
     "name": "stdout",
     "output_type": "stream",
     "text": [
      "torch.Size([128, 1, 28, 28]) torch.Size([128, 1, 28, 28])\n"
     ]
    },
    {
     "data": {
      "image/png": "[encoded data removed]",
      "text/plain": [
       "<Figure size 1600x400 with 16 Axes>"
      ]
     },
     "metadata": {},
     "output_type": "display_data"
    }
   ],
   "source": [
    "batch = next(dataloader_iter)\n",
    "org_imgs = batch[\"img\"].clone()\n",
    "batch[\"condition_token_ids\"].shape\n",
    "reconstructed_imgs = loaded_chainae(batch)[\"img\"]\n",
    "\n",
    "print(org_imgs.shape, reconstructed_imgs.shape)\n",
    "\n",
    "plot_original_vs_reconstructed(org_imgs, reconstructed_imgs, num_images=8)"
   ]
  },
  {
   "cell_type": "markdown",
   "metadata": {},
   "source": [
    "# TODO\n",
    "- add flexible commands with gettatr to run methods - remove kwargs altering behaviour\n",
    "- add sampling from prior\n",
    "- perhaps add chain_link_name for readibility of the commands"
   ]
  },
  {
   "cell_type": "code",
   "execution_count": 11,
   "metadata": {},
   "outputs": [
    {
     "data": {
      "text/plain": [
       "torch.Size([128, 1])"
      ]
     },
     "execution_count": 11,
     "metadata": {},
     "output_type": "execute_result"
    }
   ],
   "source": [
    "batch = next(iter(cmnist_val_dataloader))\n",
    "org_imgs = batch[\"img\"].clone()\n",
    "batch[\"condition_token_ids\"].shape"
   ]
  },
  {
   "cell_type": "code",
   "execution_count": 12,
   "metadata": {},
   "outputs": [],
   "source": [
    "output_batch = chainae(batch)"
   ]
  },
  {
   "cell_type": "code",
   "execution_count": 13,
   "metadata": {},
   "outputs": [],
   "source": [
    "# output = chainae.run_processing_command(\n",
    "#     batch=batch,\n",
    "#     command_name=\"sample_conditionally_from_prior\",\n",
    "#     dynamic_kwargs={\n",
    "#         \"pvclgmn\": Namespace(n_latent_samples=8),\n",
    "#         \"command-br-1-dynamic\": Namespace(s=8),\n",
    "#     },\n",
    "# )\n",
    "# for i in range(5):\n",
    "#     print(\n",
    "#         f'Condition tokens (0 - pad): {output_batch[\"condition_token_ids\"][0][0]} \\nCondition values: {output_batch[\"condition_values\"][0][0]}'\n",
    "#     )\n",
    "#     show_img(img=output_batch[\"img\"][0][0])"
   ]
  },
  {
   "cell_type": "code",
   "execution_count": 14,
   "metadata": {},
   "outputs": [
    {
     "data": {
      "text/plain": [
       "torch.Size([128, 1, 28, 28])"
      ]
     },
     "execution_count": 14,
     "metadata": {},
     "output_type": "execute_result"
    }
   ],
   "source": [
    "output_batch[\"img\"].shape"
   ]
  },
  {
   "cell_type": "code",
   "execution_count": 16,
   "metadata": {},
   "outputs": [],
   "source": []
  }
 ],
 "metadata": {
  "kernelspec": {
   "display_name": ".venv",
   "language": "python",
   "name": "python3"
  },
  "language_info": {
   "codemirror_mode": {
    "name": "ipython",
    "version": 3
   },
   "file_extension": ".py",
   "mimetype": "text/x-python",
   "name": "python",
   "nbconvert_exporter": "python",
   "pygments_lexer": "ipython3",
   "version": "3.10.12"
  }
 },
 "nbformat": 4,
 "nbformat_minor": 2
}
