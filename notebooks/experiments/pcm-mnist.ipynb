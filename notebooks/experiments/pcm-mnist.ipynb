{
 "cells": [
  {
   "cell_type": "code",
   "execution_count": 1,
   "metadata": {},
   "outputs": [
    {
     "data": {
      "text/plain": [
       "['src',\n",
       " 'requirements.txt',\n",
       " 'tests',\n",
       " '.pytest_cache',\n",
       " '.idea',\n",
       " '.githooks',\n",
       " '.git',\n",
       " 'notebooks',\n",
       " '.pre-commit-config.yaml',\n",
       " 'old_code',\n",
       " 'data',\n",
       " 'README.md',\n",
       " '.gitignore',\n",
       " 'pytest.ini']"
      ]
     },
     "execution_count": 1,
     "metadata": {},
     "output_type": "execute_result"
    }
   ],
   "source": [
    "import os\n",
    "\n",
    "os.chdir(\"../../\")\n",
    "os.listdir()"
   ]
  },
  {
   "cell_type": "code",
   "execution_count": 2,
   "metadata": {},
   "outputs": [],
   "source": [
    "from torch.utils.data import Dataset\n",
    "from argparse import Namespace\n",
    "import torchvision.datasets as datasets\n",
    "from src.utils.config import load_config_from_path, validate_config_structure\n",
    "from src.utils.common_types import ConfigStructure\n",
    "import torch\n",
    "import matplotlib.pyplot as plt\n",
    "from torchvision import transforms"
   ]
  },
  {
   "cell_type": "code",
   "execution_count": 3,
   "metadata": {},
   "outputs": [],
   "source": [
    "mnist = datasets.MNIST(root=\"data/raw\", train=True, download=True)"
   ]
  },
  {
   "cell_type": "code",
   "execution_count": 4,
   "metadata": {},
   "outputs": [
    {
     "data": {
      "image/png": "[encoded data removed]",
      "text/plain": [
       "<Figure size 640x480 with 1 Axes>"
      ]
     },
     "metadata": {},
     "output_type": "display_data"
    }
   ],
   "source": [
    "img = next(iter(mnist))\n",
    "\n",
    "plt.imshow(img[0], cmap=\"gray\")\n",
    "plt.axis(\"off\")\n",
    "plt.show()"
   ]
  },
  {
   "cell_type": "code",
   "execution_count": 5,
   "metadata": {},
   "outputs": [],
   "source": [
    "transform = transforms.ToTensor()\n",
    "img_tensor = transform(img[0])"
   ]
  },
  {
   "cell_type": "code",
   "execution_count": 6,
   "metadata": {},
   "outputs": [],
   "source": [
    "class FadeTransform:\n",
    "\n",
    "    def __init__(self, threshold: float, kernel_size: int, sigma: float) -> None:\n",
    "        self._threshold: float = threshold\n",
    "        self._gaussian_blur: transforms.GaussianBlur = transforms.GaussianBlur(\n",
    "            kernel_size=kernel_size, sigma=(sigma, sigma)\n",
    "        )\n",
    "\n",
    "    def __call__(self, img: torch.Tensor) -> torch.Tensor:\n",
    "        # img = self._gaussian_blur(\n",
    "        #     img\n",
    "        # )  # .unsqueeze(0).unsqueeze(0)).squeeze(0).squeeze(0)\n",
    "        img = (\n",
    "            torch.clamp(img - self._threshold, min=0, max=1) * 1 / (1 - self._threshold)\n",
    "        )\n",
    "        # img = self._gaussian_blur(\n",
    "        #     img\n",
    "        # )  # .unsqueeze(0).unsqueeze(0)).squeeze(0).squeeze(0)\n",
    "        return img"
   ]
  },
  {
   "cell_type": "code",
   "execution_count": 7,
   "metadata": {},
   "outputs": [
    {
     "data": {
      "image/png": "[encoded data removed]",
      "text/plain": [
       "<Figure size 640x480 with 1 Axes>"
      ]
     },
     "metadata": {},
     "output_type": "display_data"
    }
   ],
   "source": [
    "img_tensor_trans = FadeTransform(0.0, 3, 0.01)(img_tensor)\n",
    "pil_image = transforms.ToPILImage()(\n",
    "    img_tensor_trans / img_tensor_trans.max() * img_tensor.max()\n",
    ")\n",
    "plt.imshow(pil_image, cmap=\"gray\")\n",
    "plt.axis(\"off\")\n",
    "plt.show()"
   ]
  },
  {
   "cell_type": "code",
   "execution_count": 8,
   "metadata": {},
   "outputs": [
    {
     "data": {
      "text/plain": [
       "tensor(1.)"
      ]
     },
     "execution_count": 8,
     "metadata": {},
     "output_type": "execute_result"
    }
   ],
   "source": [
    "img_tensor_trans.max()"
   ]
  },
  {
   "cell_type": "code",
   "execution_count": 9,
   "metadata": {},
   "outputs": [
    {
     "data": {
      "image/png": "[encoded data removed]",
      "text/plain": [
       "<Figure size 640x480 with 1 Axes>"
      ]
     },
     "metadata": {},
     "output_type": "display_data"
    }
   ],
   "source": [
    "img_tensor_rot = transforms.RandomRotation([15, 15])(img_tensor)\n",
    "\n",
    "pil_image = transforms.ToPILImage()(img_tensor_rot)\n",
    "\n",
    "plt.imshow(pil_image, cmap=\"gray\")\n",
    "plt.axis(\"off\")\n",
    "plt.show()"
   ]
  },
  {
   "cell_type": "code",
   "execution_count": 11,
   "metadata": {},
   "outputs": [
    {
     "data": {
      "image/png": "[encoded data removed]",
      "text/plain": [
       "<Figure size 640x480 with 1 Axes>"
      ]
     },
     "metadata": {},
     "output_type": "display_data"
    }
   ],
   "source": [
    "img_tensor_pad = transforms.functional.pad(\n",
    "    transforms.functional.resize(img_tensor, size=(14, 14)), padding=[7, 7, 7, 7]\n",
    ")\n",
    "pil_image = transforms.ToPILImage()(img_tensor_pad)\n",
    "\n",
    "plt.imshow(pil_image, cmap=\"gray\")\n",
    "plt.axis(\"off\")\n",
    "plt.show()"
   ]
  }
 ],
 "metadata": {
  "kernelspec": {
   "display_name": ".venv",
   "language": "python",
   "name": "python3"
  },
  "language_info": {
   "codemirror_mode": {
    "name": "ipython",
    "version": 3
   },
   "file_extension": ".py",
   "mimetype": "text/x-python",
   "name": "python",
   "nbconvert_exporter": "python",
   "pygments_lexer": "ipython3",
   "version": "3.10.12"
  }
 },
 "nbformat": 4,
 "nbformat_minor": 2
}
