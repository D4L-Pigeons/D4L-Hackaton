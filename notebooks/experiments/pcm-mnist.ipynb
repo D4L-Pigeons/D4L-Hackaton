{
 "cells": [
  {
   "cell_type": "code",
   "execution_count": 8,
   "metadata": {},
   "outputs": [
    {
     "data": {
      "text/plain": [
       "['src',\n",
       " 'requirements.txt',\n",
       " 'tests',\n",
       " '.pytest_cache',\n",
       " '.idea',\n",
       " '.githooks',\n",
       " '.git',\n",
       " 'notebooks',\n",
       " '.pre-commit-config.yaml',\n",
       " 'old_code',\n",
       " 'data',\n",
       " 'README.md',\n",
       " '.gitignore',\n",
       " 'pytest.ini']"
      ]
     },
     "execution_count": 8,
     "metadata": {},
     "output_type": "execute_result"
    }
   ],
   "source": [
    "import os\n",
    "\n",
    "if not \"src\" in os.listdir():\n",
    "    os.chdir(\"../../\")\n",
    "os.listdir()"
   ]
  },
  {
   "cell_type": "code",
   "execution_count": 9,
   "metadata": {},
   "outputs": [],
   "source": [
    "import torch\n",
    "from src.utils.data.pcm.mnist_cond_trans_dataset import ConditionalMNIST\n",
    "from src.utils.config import load_config_from_path\n",
    "from pathlib import Path\n",
    "import torchvision.transforms as transforms\n",
    "import matplotlib.pyplot as plt"
   ]
  },
  {
   "cell_type": "code",
   "execution_count": 11,
   "metadata": {},
   "outputs": [],
   "source": [
    "cmnist_train = ConditionalMNIST(\n",
    "    cfg=load_config_from_path(\n",
    "        file_path=Path(\"notebooks\") / \"experiments\" / \"config\" / \"pcm-mnist-0.yaml\"\n",
    "    )\n",
    ")"
   ]
  },
  {
   "cell_type": "code",
   "execution_count": 12,
   "metadata": {},
   "outputs": [],
   "source": [
    "def show_img(img: torch.Tensor, figsize=(2, 2)):\n",
    "    img = transforms.ToPILImage()(img)\n",
    "    plt.figure(figsize=figsize)\n",
    "    plt.imshow(img, cmap=\"gray\")\n",
    "    plt.axis(\"off\")\n",
    "    plt.show()"
   ]
  },
  {
   "cell_type": "code",
   "execution_count": 18,
   "metadata": {},
   "outputs": [
    {
     "data": {
      "text/plain": [
       "dict_keys(['img', 'condition_token_ids', 'condition_values'])"
      ]
     },
     "execution_count": 18,
     "metadata": {},
     "output_type": "execute_result"
    }
   ],
   "source": [
    "cmnist_train[0].keys()"
   ]
  },
  {
   "cell_type": "code",
   "execution_count": 37,
   "metadata": {},
   "outputs": [
    {
     "name": "stdout",
     "output_type": "stream",
     "text": [
      "Condition tokens (0 - pad): tensor([2., 3., 0., 0.]) \n",
      "Condition values: tensor([1., 0., 0., 0.])\n"
     ]
    },
    {
     "data": {
      "image/png": "[encoded data removed]",
      "text/plain": [
       "<Figure size 200x200 with 1 Axes>"
      ]
     },
     "metadata": {},
     "output_type": "display_data"
    },
    {
     "name": "stdout",
     "output_type": "stream",
     "text": [
      "Condition tokens (0 - pad): tensor([1, 3, 3, 0]) \n",
      "Condition values: tensor([5., 1., 0., 0.])\n"
     ]
    },
    {
     "data": {
      "image/png": "[encoded data removed]",
      "text/plain": [
       "<Figure size 200x200 with 1 Axes>"
      ]
     },
     "metadata": {},
     "output_type": "display_data"
    },
    {
     "name": "stdout",
     "output_type": "stream",
     "text": [
      "Condition tokens (0 - pad): tensor([1, 2, 3, 0]) \n",
      "Condition values: tensor([5.0000, 0.7830, 0.0000, 0.0000])\n"
     ]
    },
    {
     "data": {
      "image/png": "[encoded data removed]",
      "text/plain": [
       "<Figure size 200x200 with 1 Axes>"
      ]
     },
     "metadata": {},
     "output_type": "display_data"
    },
    {
     "name": "stdout",
     "output_type": "stream",
     "text": [
      "Condition tokens (0 - pad): tensor([1, 3, 0, 0]) \n",
      "Condition values: tensor([0.7165, 1.0000, 0.0000, 0.0000])\n"
     ]
    },
    {
     "data": {
      "image/png": "[encoded data removed]",
      "text/plain": [
       "<Figure size 200x200 with 1 Axes>"
      ]
     },
     "metadata": {},
     "output_type": "display_data"
    },
    {
     "name": "stdout",
     "output_type": "stream",
     "text": [
      "Condition tokens (0 - pad): tensor([1, 3, 0, 0]) \n",
      "Condition values: tensor([0.6816, 0.0000, 0.0000, 0.0000])\n"
     ]
    },
    {
     "data": {
      "image/png": "[encoded data removed]",
      "text/plain": [
       "<Figure size 200x200 with 1 Axes>"
      ]
     },
     "metadata": {},
     "output_type": "display_data"
    }
   ],
   "source": [
    "for _ in range(5):\n",
    "    print(\n",
    "        f'Condition tokens (0 - pad): {cmnist_train[0][\"condition_token_ids\"]} \\nCondition values: {cmnist_train[0][\"condition_values\"]}'\n",
    "    )\n",
    "    show_img(img=cmnist_train[0][\"img\"][0])"
   ]
  },
  {
   "cell_type": "code",
   "execution_count": null,
   "metadata": {},
   "outputs": [],
   "source": []
  }
 ],
 "metadata": {
  "kernelspec": {
   "display_name": ".venv",
   "language": "python",
   "name": "python3"
  },
  "language_info": {
   "codemirror_mode": {
    "name": "ipython",
    "version": 3
   },
   "file_extension": ".py",
   "mimetype": "text/x-python",
   "name": "python",
   "nbconvert_exporter": "python",
   "pygments_lexer": "ipython3",
   "version": "3.10.12"
  }
 },
 "nbformat": 4,
 "nbformat_minor": 2
}
