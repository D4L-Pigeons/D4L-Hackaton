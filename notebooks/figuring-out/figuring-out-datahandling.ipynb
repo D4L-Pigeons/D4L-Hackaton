{
 "cells": [
  {
   "cell_type": "code",
   "execution_count": 1,
   "metadata": {},
   "outputs": [],
   "source": [
    "import os\n",
    "\n",
    "os.chdir(\"../../src\")"
   ]
  },
  {
   "cell_type": "code",
   "execution_count": 2,
   "metadata": {},
   "outputs": [],
   "source": [
    "import utils.data as data_utils\n",
    "from utils.data import extraction, splits\n",
    "import utils.dev_notebooks_utils as dev\n",
    "from utils.paths import PREPROCESSED_DATA_PATH"
   ]
  },
  {
   "cell_type": "code",
   "execution_count": 3,
   "metadata": {},
   "outputs": [
    {
     "data": {
      "text/html": [
       "<div>\n",
       "<style scoped>\n",
       "    .dataframe tbody tr th:only-of-type {\n",
       "        vertical-align: middle;\n",
       "    }\n",
       "\n",
       "    .dataframe tbody tr th {\n",
       "        vertical-align: top;\n",
       "    }\n",
       "\n",
       "    .dataframe thead th {\n",
       "        text-align: right;\n",
       "    }\n",
       "</style>\n",
       "<table border=\"1\" class=\"dataframe\">\n",
       "  <thead>\n",
       "    <tr style=\"text-align: right;\">\n",
       "      <th></th>\n",
       "      <th>DonorAge</th>\n",
       "      <th>cell_type</th>\n",
       "    </tr>\n",
       "  </thead>\n",
       "  <tbody>\n",
       "    <tr>\n",
       "      <th>GCATTAGCATAAGCGG-1-s1d1</th>\n",
       "      <td>34</td>\n",
       "      <td>27</td>\n",
       "    </tr>\n",
       "    <tr>\n",
       "      <th>TACAGGTGTTAGAGTA-1-s1d1</th>\n",
       "      <td>34</td>\n",
       "      <td>15</td>\n",
       "    </tr>\n",
       "    <tr>\n",
       "      <th>AGGATCTAGGTCTACT-1-s1d1</th>\n",
       "      <td>34</td>\n",
       "      <td>27</td>\n",
       "    </tr>\n",
       "    <tr>\n",
       "      <th>GTAGAAAGTGACACAG-1-s1d1</th>\n",
       "      <td>34</td>\n",
       "      <td>19</td>\n",
       "    </tr>\n",
       "    <tr>\n",
       "      <th>TCCGAAAAGGATCATA-1-s1d1</th>\n",
       "      <td>34</td>\n",
       "      <td>35</td>\n",
       "    </tr>\n",
       "    <tr>\n",
       "      <th>...</th>\n",
       "      <td>...</td>\n",
       "      <td>...</td>\n",
       "    </tr>\n",
       "    <tr>\n",
       "      <th>GAATCACCACGGAAGT-1-s4d9</th>\n",
       "      <td>35</td>\n",
       "      <td>22</td>\n",
       "    </tr>\n",
       "    <tr>\n",
       "      <th>GCTGGGTGTACGGATG-1-s4d9</th>\n",
       "      <td>35</td>\n",
       "      <td>13</td>\n",
       "    </tr>\n",
       "    <tr>\n",
       "      <th>TCGAAGTGTGACAGGT-1-s4d9</th>\n",
       "      <td>35</td>\n",
       "      <td>37</td>\n",
       "    </tr>\n",
       "    <tr>\n",
       "      <th>GCAGGCTGTTGCATAC-1-s4d9</th>\n",
       "      <td>35</td>\n",
       "      <td>5</td>\n",
       "    </tr>\n",
       "    <tr>\n",
       "      <th>ACGTAACAGGTCTACT-1-s4d9</th>\n",
       "      <td>35</td>\n",
       "      <td>13</td>\n",
       "    </tr>\n",
       "  </tbody>\n",
       "</table>\n",
       "<p>90261 rows × 2 columns</p>\n",
       "</div>"
      ],
      "text/plain": [
       "                         DonorAge  cell_type\n",
       "GCATTAGCATAAGCGG-1-s1d1        34         27\n",
       "TACAGGTGTTAGAGTA-1-s1d1        34         15\n",
       "AGGATCTAGGTCTACT-1-s1d1        34         27\n",
       "GTAGAAAGTGACACAG-1-s1d1        34         19\n",
       "TCCGAAAAGGATCATA-1-s1d1        34         35\n",
       "...                           ...        ...\n",
       "GAATCACCACGGAAGT-1-s4d9        35         22\n",
       "GCTGGGTGTACGGATG-1-s4d9        35         13\n",
       "TCGAAGTGTGACAGGT-1-s4d9        35         37\n",
       "GCAGGCTGTTGCATAC-1-s4d9        35          5\n",
       "ACGTAACAGGTCTACT-1-s4d9        35         13\n",
       "\n",
       "[90261 rows x 2 columns]"
      ]
     },
     "execution_count": 3,
     "metadata": {},
     "output_type": "execute_result"
    }
   ],
   "source": [
    "extraction_cfg = dev.dict_to_namespace(\n",
    "    {\n",
    "        \"path\": PREPROCESSED_DATA_PATH\n",
    "        / \"GSE194122_openproblems_neurips2021_cite_BMMC_processed_processed.h5\",\n",
    "        \"columns\": [\"DonorAge\", \"cell_type\"],\n",
    "    }\n",
    ")\n",
    "\n",
    "data_utils.extraction.get_dataset_obs(extraction_cfg)"
   ]
  },
  {
   "cell_type": "code",
   "execution_count": 4,
   "metadata": {},
   "outputs": [],
   "source": [
    "splits_cfg = dev.dict_to_namespace(\n",
    "    {\"n_splits\": 2, \"random_state\": 42, \"val_fraction\": 0.2}\n",
    ")"
   ]
  },
  {
   "cell_type": "code",
   "execution_count": 5,
   "metadata": {},
   "outputs": [],
   "source": [
    "g1 = data_utils.splits.naive_mixing_k_fold_split(max_idx=90261, cfg=splits_cfg)"
   ]
  },
  {
   "cell_type": "code",
   "execution_count": 6,
   "metadata": {},
   "outputs": [],
   "source": [
    "g2 = data_utils.splits.naive_mixing_fraction_split(max_idx=90261, cfg=splits_cfg)"
   ]
  },
  {
   "cell_type": "code",
   "execution_count": 9,
   "metadata": {},
   "outputs": [
    {
     "data": {
      "text/plain": [
       "[array([77909,  8486,  7065, ..., 64627,   576, 63091]),\n",
       " array([68257, 30917, 88035, ..., 61550, 65120, 14342])]"
      ]
     },
     "execution_count": 9,
     "metadata": {},
     "output_type": "execute_result"
    }
   ],
   "source": [
    "g2"
   ]
  },
  {
   "cell_type": "code",
   "execution_count": 7,
   "metadata": {},
   "outputs": [],
   "source": [
    "# data_utils.dataset"
   ]
  }
 ],
 "metadata": {
  "kernelspec": {
   "display_name": ".venv",
   "language": "python",
   "name": "python3"
  },
  "language_info": {
   "codemirror_mode": {
    "name": "ipython",
    "version": 3
   },
   "file_extension": ".py",
   "mimetype": "text/x-python",
   "name": "python",
   "nbconvert_exporter": "python",
   "pygments_lexer": "ipython3",
   "version": "3.10.12"
  }
 },
 "nbformat": 4,
 "nbformat_minor": 2
}
