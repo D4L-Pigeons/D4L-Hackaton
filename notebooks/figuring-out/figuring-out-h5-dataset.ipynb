{
 "cells": [
  {
   "cell_type": "code",
   "execution_count": 1,
   "metadata": {},
   "outputs": [],
   "source": [
    "import os\n",
    "\n",
    "os.chdir(\"../../src\")\n",
    "\n",
    "from utils.paths import DATA_PATH, RAW_ANNDATA_PATH, RAW_ANNDATA_FILENAME\n",
    "\n",
    "import h5py"
   ]
  },
  {
   "cell_type": "code",
   "execution_count": 2,
   "metadata": {},
   "outputs": [
    {
     "name": "stderr",
     "output_type": "stream",
     "text": [
      "/home/prz/bioml/.venv/lib/python3.10/site-packages/anndata/_core/anndata.py:1820: UserWarning: Variable names are not unique. To make them unique, call `.var_names_make_unique`.\n",
      "  utils.warn_names_duplicates(\"var\")\n"
     ]
    },
    {
     "name": "stdout",
     "output_type": "stream",
     "text": [
      "Subsampling anndata with fraction 1.0...\n"
     ]
    }
   ],
   "source": [
    "from utils import data_utils\n",
    "\n",
    "adata = data_utils.load_anndata(mode=\"train\")"
   ]
  },
  {
   "cell_type": "code",
   "execution_count": 3,
   "metadata": {},
   "outputs": [
    {
     "data": {
      "text/plain": [
       "Index(['TCAAGCACACCGGCTA-1-s1d1', 'ACGTACAGTGAGAGGG-1-s2d5',\n",
       "       'TACAACGCATAGCACT-1-s3d1', 'GTAATGCCACAGCATT-1-s3d6',\n",
       "       'TCGATTTGTGTTGATC-1-s3d6', 'AGGACTTGTCATCCGG-1-s3d7',\n",
       "       'CTCATGCTCGTTAGAC-1-s2d5', 'GAGCCTGCAACGTTAC-1-s2d5',\n",
       "       'CATCCGTGTCGATTCA-1-s2d5', 'GGGAAGTAGTTCTCTT-1-s3d6',\n",
       "       ...\n",
       "       'TAGACTGCAGCTTTGA-1-s1d2', 'GCTTCACCAGAAGCTG-1-s2d1',\n",
       "       'AGCCACGAGGTCCCTG-1-s2d1', 'TCACGCTAGACAACAT-1-s2d5',\n",
       "       'ACATGCACATGACAAA-1-s3d1', 'GATTCTTTCATTGTTC-1-s3d6',\n",
       "       'GTCGCGACAGTTCCAA-1-s3d1', 'TACGTCCTCCCTTGTG-1-s2d1',\n",
       "       'TCTCAGCAGGATGAGA-1-s3d1', 'TTTCAGTGTTCATCTT-1-s3d7'],\n",
       "      dtype='object', length=66175)"
      ]
     },
     "execution_count": 3,
     "metadata": {},
     "output_type": "execute_result"
    }
   ],
   "source": [
    "adata.obs.index"
   ]
  },
  {
   "cell_type": "code",
   "execution_count": 4,
   "metadata": {},
   "outputs": [
    {
     "ename": "ImportError",
     "evalue": "cannot import name 'get_hdf5SparseDataloader' from 'utils.data' (/home/prz/bioml/D4L-Hackaton/src/utils/data/__init__.py)",
     "output_type": "error",
     "traceback": [
      "\u001b[0;31m---------------------------------------------------------------------------\u001b[0m",
      "\u001b[0;31mImportError\u001b[0m                               Traceback (most recent call last)",
      "Cell \u001b[0;32mIn[4], line 1\u001b[0m\n\u001b[0;32m----> 1\u001b[0m \u001b[38;5;28;01mfrom\u001b[39;00m \u001b[38;5;21;01mutils\u001b[39;00m\u001b[38;5;21;01m.\u001b[39;00m\u001b[38;5;21;01mdata\u001b[39;00m \u001b[38;5;28;01mimport\u001b[39;00m get_hdf5SparseDataloader, hdf5SparseDataset\n\u001b[1;32m      2\u001b[0m \u001b[38;5;28;01mfrom\u001b[39;00m \u001b[38;5;21;01mutils\u001b[39;00m \u001b[38;5;28;01mimport\u001b[39;00m dev_notebooks_utils \u001b[38;5;28;01mas\u001b[39;00m dev\n",
      "\u001b[0;31mImportError\u001b[0m: cannot import name 'get_hdf5SparseDataloader' from 'utils.data' (/home/prz/bioml/D4L-Hackaton/src/utils/data/__init__.py)"
     ]
    }
   ],
   "source": [
    "from utils.data import get_hdf5SparseDataloader, hdf5SparseDataset\n",
    "from utils import dev_notebooks_utils as dev"
   ]
  },
  {
   "cell_type": "code",
   "execution_count": null,
   "metadata": {},
   "outputs": [],
   "source": [
    "cfg_dict = {\n",
    "    \"dataset_name\": \"GSE194122_openproblems_neurips2021_cite_BMMC_processed\",\n",
    "    \"path\": RAW_ANNDATA_PATH,\n",
    "    \"rowsize\": 14087,\n",
    "    \"obs\": {\n",
    "        \"columns\": [\n",
    "            {\"org_name\": \"cell_type\", \"new_name\": \"cell_type\", \"tocat\": True},\n",
    "            {\"org_name\": \"Site\", \"new_name\": \"site\", \"tocat\": True},\n",
    "            {\"org_name\": \"batch\", \"new_name\": \"batch\", \"tocat\": True},\n",
    "        ]\n",
    "    },\n",
    "    \"dataloader\": {\"batch_size\": 4, \"shuffle\": True, \"num_workers\": 1},\n",
    "}\n",
    "cfg = dev.dict_to_namespace(cfg_dict)"
   ]
  },
  {
   "cell_type": "code",
   "execution_count": null,
   "metadata": {},
   "outputs": [
    {
     "data": {
      "text/plain": [
       "{'data': tensor([[0.0000, 0.0000, 0.0000,  ..., 0.4870, 3.0834, 0.6951],\n",
       "         [0.0000, 0.0000, 6.2530,  ..., 0.4963, 2.8557, 0.5896]]),\n",
       " 'cell_type': tensor([35, 29]),\n",
       " 'site': tensor([0, 0]),\n",
       " 'batch': tensor([0, 0])}"
      ]
     },
     "execution_count": 4,
     "metadata": {},
     "output_type": "execute_result"
    }
   ],
   "source": [
    "dataset = hdf5SparseDataset(cfg)\n",
    "dsiter = iter(dataset)\n",
    "dataset.__getitems__([4, 5])"
   ]
  },
  {
   "cell_type": "code",
   "execution_count": null,
   "metadata": {},
   "outputs": [
    {
     "data": {
      "text/plain": [
       "{'data': tensor([[0.0000, 0.0000, 0.0000,  ..., 0.1544, 0.9172, 0.6069]]),\n",
       " 'cell_type': tensor([27]),\n",
       " 'site': tensor([0]),\n",
       " 'batch': tensor([0])}"
      ]
     },
     "execution_count": 5,
     "metadata": {},
     "output_type": "execute_result"
    }
   ],
   "source": [
    "next(dsiter)"
   ]
  },
  {
   "cell_type": "code",
   "execution_count": null,
   "metadata": {},
   "outputs": [],
   "source": [
    "dataloader = get_hdf5SparseDataloader(cfg)"
   ]
  },
  {
   "cell_type": "code",
   "execution_count": null,
   "metadata": {},
   "outputs": [],
   "source": [
    "x = next(iter(dataloader))"
   ]
  },
  {
   "cell_type": "code",
   "execution_count": null,
   "metadata": {},
   "outputs": [
    {
     "data": {
      "text/plain": [
       "{'data': tensor([[0.0000, 0.0000, 0.0000,  ..., 1.0819, 0.0000, 1.8658],\n",
       "         [0.0000, 0.0000, 0.0000,  ..., 0.4030, 1.1345, 1.0513],\n",
       "         [0.0000, 0.0000, 0.0000,  ..., 1.9237, 0.6943, 0.7484],\n",
       "         [0.0000, 0.0000, 0.0000,  ..., 0.2190, 3.0937, 1.2380]]),\n",
       " 'cell_type': tensor([12, 42,  8, 35]),\n",
       " 'site': tensor([1, 3, 3, 0]),\n",
       " 'batch': tensor([ 3, 11, 10,  0])}"
      ]
     },
     "execution_count": 8,
     "metadata": {},
     "output_type": "execute_result"
    }
   ],
   "source": [
    "x"
   ]
  },
  {
   "cell_type": "code",
   "execution_count": null,
   "metadata": {},
   "outputs": [],
   "source": [
    "def print_tree(name, obj):\n",
    "    print(name)\n",
    "    if isinstance(obj, h5py.Group):\n",
    "        for key, val in obj.items():\n",
    "            print_tree(f\"{name}/{key}\", val)\n",
    "\n",
    "\n",
    "def print_datasets(name, obj):\n",
    "    if isinstance(obj, h5py.Dataset):\n",
    "        print(name)"
   ]
  },
  {
   "cell_type": "code",
   "execution_count": null,
   "metadata": {},
   "outputs": [
    {
     "name": "stdout",
     "output_type": "stream",
     "text": [
      "dfd\n",
      "dfd/X\n",
      "dfd/X/data\n",
      "dfd/X/indices\n",
      "dfd/X/indptr\n",
      "dfd/layers\n",
      "dfd/layers/counts\n",
      "dfd/layers/counts/data\n",
      "dfd/layers/counts/indices\n",
      "dfd/layers/counts/indptr\n",
      "dfd/obs\n",
      "dfd/obs/ADT_iso_count\n",
      "dfd/obs/ADT_n_antibodies_by_counts\n",
      "dfd/obs/ADT_pseudotime_order\n",
      "dfd/obs/ADT_total_counts\n",
      "dfd/obs/DonorAge\n",
      "dfd/obs/DonorBMI\n",
      "dfd/obs/DonorBloodType\n",
      "dfd/obs/DonorGender\n",
      "dfd/obs/DonorID\n",
      "dfd/obs/DonorNumber\n",
      "dfd/obs/DonorRace\n",
      "dfd/obs/DonorSmoker\n",
      "dfd/obs/Ethnicity\n",
      "dfd/obs/GEX_n_genes_by_counts\n",
      "dfd/obs/GEX_pct_counts_mt\n",
      "dfd/obs/GEX_phase\n",
      "dfd/obs/GEX_pseudotime_order\n",
      "dfd/obs/GEX_size_factors\n",
      "dfd/obs/Modality\n",
      "dfd/obs/QCMeds\n",
      "dfd/obs/Samplename\n",
      "dfd/obs/Site\n",
      "dfd/obs/VendorLot\n",
      "dfd/obs/__categories\n",
      "dfd/obs/__categories/DonorBloodType\n",
      "dfd/obs/__categories/DonorGender\n",
      "dfd/obs/__categories/DonorNumber\n",
      "dfd/obs/__categories/DonorRace\n",
      "dfd/obs/__categories/DonorSmoker\n",
      "dfd/obs/__categories/Ethnicity\n",
      "dfd/obs/__categories/GEX_phase\n",
      "dfd/obs/__categories/Modality\n",
      "dfd/obs/__categories/QCMeds\n",
      "dfd/obs/__categories/Samplename\n",
      "dfd/obs/__categories/Site\n",
      "dfd/obs/__categories/batch\n",
      "dfd/obs/__categories/cell_type\n",
      "dfd/obs/__categories/is_train\n",
      "dfd/obs/_index\n",
      "dfd/obs/batch\n",
      "dfd/obs/cell_type\n",
      "dfd/obs/is_train\n",
      "dfd/obsm\n",
      "dfd/obsm/ADT_X_pca\n",
      "dfd/obsm/ADT_X_umap\n",
      "dfd/obsm/ADT_isotype_controls\n",
      "dfd/obsm/ADT_isotype_controls/Mouse-IgG1\n",
      "dfd/obsm/ADT_isotype_controls/Mouse-IgG2a\n",
      "dfd/obsm/ADT_isotype_controls/Mouse-IgG2b\n",
      "dfd/obsm/ADT_isotype_controls/Rat-IgG1\n",
      "dfd/obsm/ADT_isotype_controls/Rat-IgG2a\n",
      "dfd/obsm/ADT_isotype_controls/Rat-IgG2b\n",
      "dfd/obsm/ADT_isotype_controls/_index\n",
      "dfd/obsm/GEX_X_pca\n",
      "dfd/obsm/GEX_X_umap\n",
      "dfd/uns\n",
      "dfd/uns/dataset_id\n",
      "dfd/uns/genome\n",
      "dfd/uns/organism\n",
      "dfd/var\n",
      "dfd/var/__categories\n",
      "dfd/var/__categories/feature_types\n",
      "dfd/var/__categories/gene_id\n",
      "dfd/var/_index\n",
      "dfd/var/feature_types\n",
      "dfd/var/gene_id\n"
     ]
    }
   ],
   "source": [
    "with h5py.File(RAW_ANNDATA_PATH, \"r\") as f:\n",
    "    print_tree(\"dfd\", f)"
   ]
  },
  {
   "cell_type": "code",
   "execution_count": 9,
   "metadata": {},
   "outputs": [
    {
     "ename": "TypeError",
     "evalue": "Indexing elements must be in increasing order",
     "output_type": "error",
     "traceback": [
      "\u001b[0;31m---------------------------------------------------------------------------\u001b[0m",
      "\u001b[0;31mTypeError\u001b[0m                                 Traceback (most recent call last)",
      "Cell \u001b[0;32mIn[9], line 2\u001b[0m\n\u001b[1;32m      1\u001b[0m \u001b[38;5;28;01mwith\u001b[39;00m h5py\u001b[38;5;241m.\u001b[39mFile(RAW_ANNDATA_PATH, \u001b[38;5;124m\"\u001b[39m\u001b[38;5;124mr\u001b[39m\u001b[38;5;124m\"\u001b[39m) \u001b[38;5;28;01mas\u001b[39;00m f:\n\u001b[0;32m----> 2\u001b[0m     \u001b[38;5;28mprint\u001b[39m(\u001b[43mf\u001b[49m\u001b[43m[\u001b[49m\u001b[38;5;124;43m\"\u001b[39;49m\u001b[38;5;124;43mobs\u001b[39;49m\u001b[38;5;124;43m\"\u001b[39;49m\u001b[43m]\u001b[49m\u001b[43m[\u001b[49m\u001b[38;5;124;43m\"\u001b[39;49m\u001b[38;5;124;43mcell_type\u001b[39;49m\u001b[38;5;124;43m\"\u001b[39;49m\u001b[43m]\u001b[49m\u001b[43m[\u001b[49m\u001b[43m[\u001b[49m\u001b[38;5;241;43m4\u001b[39;49m\u001b[43m,\u001b[49m\u001b[43m \u001b[49m\u001b[38;5;241;43m3\u001b[39;49m\u001b[43m]\u001b[49m\u001b[43m]\u001b[49m)\n",
      "File \u001b[0;32mh5py/_objects.pyx:54\u001b[0m, in \u001b[0;36mh5py._objects.with_phil.wrapper\u001b[0;34m()\u001b[0m\n",
      "File \u001b[0;32mh5py/_objects.pyx:55\u001b[0m, in \u001b[0;36mh5py._objects.with_phil.wrapper\u001b[0;34m()\u001b[0m\n",
      "File \u001b[0;32m~/bioml/.venv/lib/python3.10/site-packages/h5py/_hl/dataset.py:831\u001b[0m, in \u001b[0;36mDataset.__getitem__\u001b[0;34m(self, args, new_dtype)\u001b[0m\n\u001b[1;32m    826\u001b[0m     \u001b[38;5;28;01mreturn\u001b[39;00m arr\n\u001b[1;32m    828\u001b[0m \u001b[38;5;66;03m# === Everything else ===================\u001b[39;00m\n\u001b[1;32m    829\u001b[0m \n\u001b[1;32m    830\u001b[0m \u001b[38;5;66;03m# Perform the dataspace selection.\u001b[39;00m\n\u001b[0;32m--> 831\u001b[0m selection \u001b[38;5;241m=\u001b[39m \u001b[43msel\u001b[49m\u001b[38;5;241;43m.\u001b[39;49m\u001b[43mselect\u001b[49m\u001b[43m(\u001b[49m\u001b[38;5;28;43mself\u001b[39;49m\u001b[38;5;241;43m.\u001b[39;49m\u001b[43mshape\u001b[49m\u001b[43m,\u001b[49m\u001b[43m \u001b[49m\u001b[43margs\u001b[49m\u001b[43m,\u001b[49m\u001b[43m \u001b[49m\u001b[43mdataset\u001b[49m\u001b[38;5;241;43m=\u001b[39;49m\u001b[38;5;28;43mself\u001b[39;49m\u001b[43m)\u001b[49m\n\u001b[1;32m    833\u001b[0m \u001b[38;5;28;01mif\u001b[39;00m selection\u001b[38;5;241m.\u001b[39mnselect \u001b[38;5;241m==\u001b[39m \u001b[38;5;241m0\u001b[39m:\n\u001b[1;32m    834\u001b[0m     \u001b[38;5;28;01mreturn\u001b[39;00m numpy\u001b[38;5;241m.\u001b[39mzeros(selection\u001b[38;5;241m.\u001b[39marray_shape, dtype\u001b[38;5;241m=\u001b[39mnew_dtype)\n",
      "File \u001b[0;32m~/bioml/.venv/lib/python3.10/site-packages/h5py/_hl/selections.py:82\u001b[0m, in \u001b[0;36mselect\u001b[0;34m(shape, args, dataset)\u001b[0m\n\u001b[1;32m     79\u001b[0m     space \u001b[38;5;241m=\u001b[39m h5s\u001b[38;5;241m.\u001b[39mcreate_simple(shape)\n\u001b[1;32m     80\u001b[0m     selector \u001b[38;5;241m=\u001b[39m _selector\u001b[38;5;241m.\u001b[39mSelector(space)\n\u001b[0;32m---> 82\u001b[0m \u001b[38;5;28;01mreturn\u001b[39;00m \u001b[43mselector\u001b[49m\u001b[38;5;241;43m.\u001b[39;49m\u001b[43mmake_selection\u001b[49m\u001b[43m(\u001b[49m\u001b[43margs\u001b[49m\u001b[43m)\u001b[49m\n",
      "File \u001b[0;32mh5py/_selector.pyx:282\u001b[0m, in \u001b[0;36mh5py._selector.Selector.make_selection\u001b[0;34m()\u001b[0m\n",
      "File \u001b[0;32mh5py/_selector.pyx:215\u001b[0m, in \u001b[0;36mh5py._selector.Selector.apply_args\u001b[0;34m()\u001b[0m\n",
      "\u001b[0;31mTypeError\u001b[0m: Indexing elements must be in increasing order"
     ]
    }
   ],
   "source": [
    "with h5py.File(RAW_ANNDATA_PATH, \"r\") as f:\n",
    "    print(f[\"obs\"][\"cell_type\"][[4, 3]])"
   ]
  },
  {
   "cell_type": "code",
   "execution_count": 29,
   "metadata": {},
   "outputs": [
    {
     "name": "stdout",
     "output_type": "stream",
     "text": [
      "['GCATTAGCATAAGCGG-1-s1d1' 'TACAGGTGTTAGAGTA-1-s1d1'\n",
      " 'AGGATCTAGGTCTACT-1-s1d1' ... 'TCGAAGTGTGACAGGT-1-s4d9'\n",
      " 'GCAGGCTGTTGCATAC-1-s4d9' 'ACGTAACAGGTCTACT-1-s4d9']\n"
     ]
    }
   ],
   "source": [
    "with h5py.File(RAW_ANNDATA_PATH, \"r\") as f:\n",
    "    print(np.char.decode(f[\"obs\"][\"_index\"][:].astype(bytes), \"utf-8\"))"
   ]
  },
  {
   "cell_type": "code",
   "execution_count": 16,
   "metadata": {},
   "outputs": [
    {
     "ename": "TypeError",
     "evalue": "string operation on non-string array",
     "output_type": "error",
     "traceback": [
      "\u001b[0;31m---------------------------------------------------------------------------\u001b[0m",
      "\u001b[0;31mTypeError\u001b[0m                                 Traceback (most recent call last)",
      "Cell \u001b[0;32mIn[16], line 6\u001b[0m\n\u001b[1;32m      2\u001b[0m \u001b[38;5;28;01mimport\u001b[39;00m \u001b[38;5;21;01mnumpy\u001b[39;00m \u001b[38;5;28;01mas\u001b[39;00m \u001b[38;5;21;01mnp\u001b[39;00m\n\u001b[1;32m      4\u001b[0m \u001b[38;5;28;01mwith\u001b[39;00m h5py\u001b[38;5;241m.\u001b[39mFile(RAW_ANNDATA_PATH, \u001b[38;5;124m\"\u001b[39m\u001b[38;5;124mr\u001b[39m\u001b[38;5;124m\"\u001b[39m) \u001b[38;5;28;01mas\u001b[39;00m f:\n\u001b[1;32m      5\u001b[0m     display(\n\u001b[0;32m----> 6\u001b[0m         \u001b[43mnp\u001b[49m\u001b[38;5;241;43m.\u001b[39;49m\u001b[43mchar\u001b[49m\u001b[38;5;241;43m.\u001b[39;49m\u001b[43mdecode\u001b[49m\u001b[43m(\u001b[49m\n\u001b[1;32m      7\u001b[0m \u001b[43m            \u001b[49m\u001b[43mnp\u001b[49m\u001b[38;5;241;43m.\u001b[39;49m\u001b[43mapply_along_axis\u001b[49m\u001b[43m(\u001b[49m\n\u001b[1;32m      8\u001b[0m \u001b[43m                \u001b[49m\u001b[43mfunc1d\u001b[49m\u001b[38;5;241;43m=\u001b[39;49m\u001b[38;5;28;43;01mlambda\u001b[39;49;00m\u001b[43m \u001b[49m\u001b[43mx\u001b[49m\u001b[43m:\u001b[49m\u001b[43m \u001b[49m\u001b[43mf\u001b[49m\u001b[43m[\u001b[49m\u001b[38;5;124;43m\"\u001b[39;49m\u001b[38;5;124;43mobs\u001b[39;49m\u001b[38;5;124;43m\"\u001b[39;49m\u001b[43m]\u001b[49m\u001b[43m[\u001b[49m\u001b[38;5;124;43m\"\u001b[39;49m\u001b[38;5;124;43m__categories\u001b[39;49m\u001b[38;5;124;43m\"\u001b[39;49m\u001b[43m]\u001b[49m\u001b[43m[\u001b[49m\u001b[38;5;124;43m\"\u001b[39;49m\u001b[38;5;124;43mcell_type\u001b[39;49m\u001b[38;5;124;43m\"\u001b[39;49m\u001b[43m]\u001b[49m\u001b[43m[\u001b[49m\u001b[43mx\u001b[49m\u001b[43m]\u001b[49m\u001b[43m,\u001b[49m\n\u001b[1;32m      9\u001b[0m \u001b[43m                \u001b[49m\u001b[43maxis\u001b[49m\u001b[38;5;241;43m=\u001b[39;49m\u001b[38;5;241;43m0\u001b[39;49m\u001b[43m,\u001b[49m\n\u001b[1;32m     10\u001b[0m \u001b[43m                \u001b[49m\u001b[43marr\u001b[49m\u001b[38;5;241;43m=\u001b[39;49m\u001b[43mf\u001b[49m\u001b[43m[\u001b[49m\u001b[38;5;124;43m\"\u001b[39;49m\u001b[38;5;124;43mobs\u001b[39;49m\u001b[38;5;124;43m\"\u001b[39;49m\u001b[43m]\u001b[49m\u001b[43m[\u001b[49m\u001b[38;5;124;43m\"\u001b[39;49m\u001b[38;5;124;43mcell_type\u001b[39;49m\u001b[38;5;124;43m\"\u001b[39;49m\u001b[43m]\u001b[49m\u001b[43m[\u001b[49m\u001b[43m[\u001b[49m\u001b[38;5;241;43m3\u001b[39;49m\u001b[43m]\u001b[49m\u001b[43m]\u001b[49m\u001b[43m,\u001b[49m\n\u001b[1;32m     11\u001b[0m \u001b[43m            \u001b[49m\u001b[43m)\u001b[49m\u001b[43m,\u001b[49m\n\u001b[1;32m     12\u001b[0m \u001b[43m            \u001b[49m\u001b[38;5;124;43m\"\u001b[39;49m\u001b[38;5;124;43mutf-8\u001b[39;49m\u001b[38;5;124;43m\"\u001b[39;49m\u001b[43m,\u001b[49m\n\u001b[1;32m     13\u001b[0m \u001b[43m        \u001b[49m\u001b[43m)\u001b[49m\n\u001b[1;32m     14\u001b[0m     )\n",
      "File \u001b[0;32m~/bioml/.venv/lib/python3.10/site-packages/numpy/core/defchararray.py:615\u001b[0m, in \u001b[0;36mdecode\u001b[0;34m(a, encoding, errors)\u001b[0m\n\u001b[1;32m    572\u001b[0m \u001b[38;5;129m@array_function_dispatch\u001b[39m(_code_dispatcher)\n\u001b[1;32m    573\u001b[0m \u001b[38;5;28;01mdef\u001b[39;00m \u001b[38;5;21mdecode\u001b[39m(a, encoding\u001b[38;5;241m=\u001b[39m\u001b[38;5;28;01mNone\u001b[39;00m, errors\u001b[38;5;241m=\u001b[39m\u001b[38;5;28;01mNone\u001b[39;00m):\n\u001b[1;32m    574\u001b[0m \u001b[38;5;250m    \u001b[39m\u001b[38;5;124mr\u001b[39m\u001b[38;5;124;03m\"\"\"\u001b[39;00m\n\u001b[1;32m    575\u001b[0m \u001b[38;5;124;03m    Calls ``bytes.decode`` element-wise.\u001b[39;00m\n\u001b[1;32m    576\u001b[0m \n\u001b[0;32m   (...)\u001b[0m\n\u001b[1;32m    612\u001b[0m \n\u001b[1;32m    613\u001b[0m \u001b[38;5;124;03m    \"\"\"\u001b[39;00m\n\u001b[1;32m    614\u001b[0m     \u001b[38;5;28;01mreturn\u001b[39;00m _to_bytes_or_str_array(\n\u001b[0;32m--> 615\u001b[0m         \u001b[43m_vec_string\u001b[49m\u001b[43m(\u001b[49m\u001b[43ma\u001b[49m\u001b[43m,\u001b[49m\u001b[43m \u001b[49m\u001b[43mobject_\u001b[49m\u001b[43m,\u001b[49m\u001b[43m \u001b[49m\u001b[38;5;124;43m'\u001b[39;49m\u001b[38;5;124;43mdecode\u001b[39;49m\u001b[38;5;124;43m'\u001b[39;49m\u001b[43m,\u001b[49m\u001b[43m \u001b[49m\u001b[43m_clean_args\u001b[49m\u001b[43m(\u001b[49m\u001b[43mencoding\u001b[49m\u001b[43m,\u001b[49m\u001b[43m \u001b[49m\u001b[43merrors\u001b[49m\u001b[43m)\u001b[49m\u001b[43m)\u001b[49m)\n",
      "\u001b[0;31mTypeError\u001b[0m: string operation on non-string array"
     ]
    }
   ],
   "source": [
    "import torch\n",
    "import numpy as np\n",
    "\n",
    "with h5py.File(RAW_ANNDATA_PATH, \"r\") as f:\n",
    "    display(\n",
    "        np.char.decode(\n",
    "            np.apply_along_axis(\n",
    "                func1d=lambda x: f[\"obs\"][\"__categories\"][\"cell_type\"][x],\n",
    "                axis=0,\n",
    "                arr=f[\"obs\"][\"cell_type\"][[3]],\n",
    "            ),\n",
    "            \"utf-8\",\n",
    "        )\n",
    "    )"
   ]
  },
  {
   "cell_type": "code",
   "execution_count": 11,
   "metadata": {},
   "outputs": [
    {
     "data": {
      "text/plain": [
       "array([1, 1, 1, 1, 1, 1, 1, 1, 1, 1, 1, 1, 1, 1, 1, 1, 1, 1, 1, 1, 1, 1,\n",
       "       1, 1, 1, 1, 1, 1, 1, 1, 1, 1, 1, 1, 1, 1, 1, 1, 1, 1, 1, 1, 1, 1,\n",
       "       1, 1, 1, 1, 1, 1, 1, 1, 1, 1, 1, 1, 1, 1, 1, 1, 1, 1, 1, 1, 1, 1,\n",
       "       0, 0, 0, 0, 0, 0, 0, 0, 0, 0, 0, 0, 0, 0, 0, 0, 0, 0, 0, 0, 0, 0,\n",
       "       0, 0, 0, 0, 0, 0, 0, 0, 0, 0, 0, 0, 0, 0, 0, 0, 0, 0, 0, 0, 0, 0,\n",
       "       0, 0, 0, 0, 0, 0, 0, 0, 0, 0, 0, 0, 0, 0, 0, 0, 0, 0, 0, 0, 0, 0,\n",
       "       0, 0, 0, 0, 0, 0, 0, 0, 0, 0, 0, 0, 0, 0, 0, 0, 0, 0, 0, 0, 0, 0,\n",
       "       0, 0, 0, 0, 0, 0, 0, 0, 0, 0, 0, 0, 0, 0, 0, 0, 0, 0, 0, 0, 0, 0,\n",
       "       0, 0, 0, 0, 0, 0, 0, 0, 0, 0, 0, 0, 0, 0, 0, 0, 0, 0, 0, 0, 0, 0,\n",
       "       0, 0], dtype=int8)"
      ]
     },
     "metadata": {},
     "output_type": "display_data"
    }
   ],
   "source": [
    "with h5py.File(RAW_ANNDATA_PATH, \"r\") as f:\n",
    "    display(f[\"var\"][\"feature_types\"][-200:])  # [\"__categories\"][\"feature_types\"][0])"
   ]
  },
  {
   "cell_type": "code",
   "execution_count": 26,
   "metadata": {},
   "outputs": [
    {
     "ename": "TypeError",
     "evalue": "list indices must be integers or slices, not list",
     "output_type": "error",
     "traceback": [
      "\u001b[0;31m---------------------------------------------------------------------------\u001b[0m",
      "\u001b[0;31mTypeError\u001b[0m                                 Traceback (most recent call last)",
      "Cell \u001b[0;32mIn[26], line 5\u001b[0m\n\u001b[1;32m      2\u001b[0m \u001b[38;5;66;03m# x.sort()\u001b[39;00m\n\u001b[1;32m      3\u001b[0m \u001b[38;5;66;03m# print(x)\u001b[39;00m\n\u001b[1;32m      4\u001b[0m \u001b[38;5;28mlist\u001b[39m(\u001b[38;5;28mset\u001b[39m(x))\n\u001b[0;32m----> 5\u001b[0m \u001b[43mx\u001b[49m\u001b[43m[\u001b[49m\u001b[43m[\u001b[49m\u001b[38;5;241;43m0\u001b[39;49m\u001b[43m,\u001b[49m\u001b[43m \u001b[49m\u001b[38;5;241;43m0\u001b[39;49m\u001b[43m]\u001b[49m\u001b[43m]\u001b[49m\n",
      "\u001b[0;31mTypeError\u001b[0m: list indices must be integers or slices, not list"
     ]
    }
   ],
   "source": [
    "x = [1, 3, 2, 2]\n",
    "# x.sort()\n",
    "# print(x)\n",
    "list(set(x))\n",
    "x[[0, 0]]"
   ]
  },
  {
   "cell_type": "code",
   "execution_count": 15,
   "metadata": {},
   "outputs": [
    {
     "data": {
      "text/plain": [
       "torch.return_types.sort(\n",
       "values=tensor([[-1.6490,  0.5881, -0.6759, -0.3344],\n",
       "        [-1.0630,  1.0364, -0.0158,  0.3993],\n",
       "        [ 1.5529,  1.6043,  0.4916,  1.2765]]),\n",
       "indices=tensor([[2, 0, 2, 2],\n",
       "        [1, 2, 0, 1],\n",
       "        [0, 1, 1, 0]]))"
      ]
     },
     "execution_count": 15,
     "metadata": {},
     "output_type": "execute_result"
    }
   ],
   "source": [
    "import torch\n",
    "\n",
    "torch.randn((3, 4)).sort(dim=0)[]"
   ]
  },
  {
   "cell_type": "code",
   "execution_count": 13,
   "metadata": {},
   "outputs": [
    {
     "ename": "AttributeError",
     "evalue": "'Namespace' object has no attribute 'normalize_total'",
     "output_type": "error",
     "traceback": [
      "\u001b[0;31m---------------------------------------------------------------------------\u001b[0m",
      "\u001b[0;31mAttributeError\u001b[0m                            Traceback (most recent call last)",
      "Cell \u001b[0;32mIn[13], line 14\u001b[0m\n\u001b[1;32m      1\u001b[0m cfg_dict \u001b[38;5;241m=\u001b[39m {\n\u001b[1;32m      2\u001b[0m     \u001b[38;5;124m\"\u001b[39m\u001b[38;5;124mtransforms\u001b[39m\u001b[38;5;124m\"\u001b[39m: {\n\u001b[1;32m      3\u001b[0m         \u001b[38;5;124m\"\u001b[39m\u001b[38;5;124mnormalize_total\u001b[39m\u001b[38;5;124m\"\u001b[39m: \u001b[38;5;28;01mTrue\u001b[39;00m,\n\u001b[0;32m   (...)\u001b[0m\n\u001b[1;32m     11\u001b[0m     },\n\u001b[1;32m     12\u001b[0m }\n\u001b[1;32m     13\u001b[0m cfg \u001b[38;5;241m=\u001b[39m dev\u001b[38;5;241m.\u001b[39mdict_to_namespace(cfg_dict)\n\u001b[0;32m---> 14\u001b[0m \u001b[43mdev\u001b[49m\u001b[38;5;241;43m.\u001b[39;49m\u001b[43mpreprocess_and_save_dataset\u001b[49m\u001b[43m(\u001b[49m\u001b[43mcfg\u001b[49m\u001b[43m)\u001b[49m\n",
      "File \u001b[0;32m~/bioml/D4L-Hackaton/src/utils/dev_notebooks_utils.py:128\u001b[0m, in \u001b[0;36mpreprocess_and_save_dataset\u001b[0;34m(cfg)\u001b[0m\n\u001b[1;32m    125\u001b[0m tensor_data \u001b[38;5;241m=\u001b[39m torch\u001b[38;5;241m.\u001b[39mtensor(sparse_matrix\u001b[38;5;241m.\u001b[39mtoarray())\n\u001b[1;32m    126\u001b[0m \u001b[38;5;66;03m# tensor_data = torch.tensor(read_file[\"X\"].toarray())\u001b[39;00m\n\u001b[0;32m--> 128\u001b[0m \u001b[38;5;28;01mif\u001b[39;00m \u001b[43mcfg\u001b[49m\u001b[38;5;241;43m.\u001b[39;49m\u001b[43mnormalize_total\u001b[49m:\n\u001b[1;32m    129\u001b[0m     tensor_data \u001b[38;5;241m=\u001b[39m tensor_data \u001b[38;5;241m/\u001b[39m tensor_data\u001b[38;5;241m.\u001b[39msum(dim\u001b[38;5;241m=\u001b[39m\u001b[38;5;241m1\u001b[39m, keepdim\u001b[38;5;241m=\u001b[39m\u001b[38;5;28;01mTrue\u001b[39;00m)\n\u001b[1;32m    131\u001b[0m \u001b[38;5;28;01mif\u001b[39;00m cfg\u001b[38;5;241m.\u001b[39mdivide_by_nonzero_median:\n",
      "\u001b[0;31mAttributeError\u001b[0m: 'Namespace' object has no attribute 'normalize_total'"
     ]
    }
   ],
   "source": [
    "cfg_dict = {\n",
    "    \"transforms\": [\"normalize_total\", \"divide_by_nonzero_median\", \"log1p\"],\n",
    "    \"groups_to_clone\": [\"obs\", \"var\", \"uns\"],\n",
    "    \"read_file\": {\"filename\": RAW_ANNDATA_FILENAME},\n",
    "    \"write_file\": {\n",
    "        \"filename\": \"GSE194122_openproblems_neurips2021_cite_BMMC_processed_processed.h5\"\n",
    "    },\n",
    "}\n",
    "cfg = dev.dict_to_namespace(cfg_dict)\n",
    "dev.preprocess_and_save_dataset(cfg)"
   ]
  },
  {
   "cell_type": "code",
   "execution_count": null,
   "metadata": {},
   "outputs": [],
   "source": [
    "from utils.paths import PREPROCESSED_DATA_PATH\n",
    "\n",
    "dummy_path = PREPROCESSED_DATA_PATH / \"dummy.h5\"\n",
    "\n",
    "dummy_path.touch()"
   ]
  },
  {
   "cell_type": "code",
   "execution_count": null,
   "metadata": {},
   "outputs": [],
   "source": [
    "import torch\n",
    "from scipy.sparse import csr_matrix\n",
    "\n",
    "with h5py.File(RAW_ANNDATA_PATH, \"r\") as f:\n",
    "    # display(f[\"X\"].items())\n",
    "    data = f[\"X/data\"][:]\n",
    "    indices = f[\"X/indices\"][:]\n",
    "    indptr = f[\"X/indptr\"][:]\n",
    "    shape = f[\"X\"].attrs[\"shape\"]  # Assuming the shape is stored as an attribute\n",
    "\n",
    "    sparse_matrix = csr_matrix((data, indices, indptr), shape=shape)\n",
    "    # Convert the sparse matrix to a PyTorch tensor\n",
    "    tensor_data = torch.tensor(sparse_matrix.toarray())"
   ]
  },
  {
   "cell_type": "code",
   "execution_count": 22,
   "metadata": {},
   "outputs": [
    {
     "data": {
      "text/plain": [
       "tensor([[0.0000, 0.0000, 0.0000,  ..., 0.1544, 0.9172, 0.6069],\n",
       "        [0.0000, 0.0000, 0.0000,  ..., 2.0188, 0.7291, 1.9254],\n",
       "        [0.0000, 0.0000, 0.0000,  ..., 0.0000, 0.7554, 0.4065],\n",
       "        ...,\n",
       "        [0.0000, 0.0000, 0.0000,  ..., 0.6674, 0.5650, 1.0964],\n",
       "        [0.0000, 0.0000, 0.0000,  ..., 0.4595, 0.9286, 0.7388],\n",
       "        [0.0000, 0.0000, 0.0000,  ..., 0.7759, 0.5327, 0.7759]])"
      ]
     },
     "execution_count": 22,
     "metadata": {},
     "output_type": "execute_result"
    }
   ],
   "source": [
    "tensor_data"
   ]
  },
  {
   "cell_type": "code",
   "execution_count": 32,
   "metadata": {},
   "outputs": [
    {
     "name": "stdout",
     "output_type": "stream",
     "text": [
      "[(array([4, 5, 6, 7, 8, 9]), array([0, 1, 2, 3])), (array([0, 1, 2, 3, 7, 8, 9]), array([4, 5, 6])), (array([0, 1, 2, 3, 4, 5, 6]), array([7, 8, 9]))]\n"
     ]
    }
   ],
   "source": [
    "from sklearn.model_selection import KFold\n",
    "\n",
    "kf = KFold(n_splits=3)\n",
    "\n",
    "print([split for split in kf.split(range(10))])"
   ]
  },
  {
   "cell_type": "code",
   "execution_count": 40,
   "metadata": {},
   "outputs": [],
   "source": [
    "import pandas as pd\n",
    "import numpy as np"
   ]
  },
  {
   "cell_type": "code",
   "execution_count": 88,
   "metadata": {},
   "outputs": [],
   "source": [
    "df = pd.DataFrame(\n",
    "    np.array(([\"1\", 2, 3], [\"4\", 5, 6])),\n",
    "    index=[\"mouse\", \"rabbit\"],\n",
    "    columns=[\"one\", \"two\", \"three\"],\n",
    ")"
   ]
  },
  {
   "cell_type": "code",
   "execution_count": 64,
   "metadata": {},
   "outputs": [
    {
     "data": {
      "text/html": [
       "<div>\n",
       "<style scoped>\n",
       "    .dataframe tbody tr th:only-of-type {\n",
       "        vertical-align: middle;\n",
       "    }\n",
       "\n",
       "    .dataframe tbody tr th {\n",
       "        vertical-align: top;\n",
       "    }\n",
       "\n",
       "    .dataframe thead th {\n",
       "        text-align: right;\n",
       "    }\n",
       "</style>\n",
       "<table border=\"1\" class=\"dataframe\">\n",
       "  <thead>\n",
       "    <tr style=\"text-align: right;\">\n",
       "      <th></th>\n",
       "      <th>one</th>\n",
       "      <th>two</th>\n",
       "      <th>three</th>\n",
       "    </tr>\n",
       "  </thead>\n",
       "  <tbody>\n",
       "    <tr>\n",
       "      <th>rabbit</th>\n",
       "      <td>4</td>\n",
       "      <td>5</td>\n",
       "      <td>6</td>\n",
       "    </tr>\n",
       "  </tbody>\n",
       "</table>\n",
       "</div>"
      ],
      "text/plain": [
       "        one  two  three\n",
       "rabbit    4    5      6"
      ]
     },
     "execution_count": 64,
     "metadata": {},
     "output_type": "execute_result"
    }
   ],
   "source": [
    "df[\n",
    "    df[[\"one\", \"two\"]]\n",
    "    .apply(lambda x: all(v in s for v, s in zip(x.values, [[1, 4], [5], [6]])), axis=1)\n",
    "    .values\n",
    "]"
   ]
  },
  {
   "cell_type": "code",
   "execution_count": 62,
   "metadata": {},
   "outputs": [
    {
     "data": {
      "text/plain": [
       "True"
      ]
     },
     "execution_count": 62,
     "metadata": {},
     "output_type": "execute_result"
    }
   ],
   "source": [
    "all(v in s for v, s in zip(df.values[1], [[1, 4], [5], [6]]))"
   ]
  },
  {
   "cell_type": "code",
   "execution_count": 70,
   "metadata": {},
   "outputs": [
    {
     "data": {
      "text/plain": [
       "array([False,  True])"
      ]
     },
     "execution_count": 70,
     "metadata": {},
     "output_type": "execute_result"
    }
   ],
   "source": [
    "np.logical_not(np.array([True, False]))"
   ]
  },
  {
   "cell_type": "code",
   "execution_count": 167,
   "metadata": {},
   "outputs": [
    {
     "data": {
      "text/plain": [
       "Index(['1', '4'], dtype='object')"
      ]
     },
     "execution_count": 167,
     "metadata": {},
     "output_type": "execute_result"
    }
   ],
   "source": [
    "df[\"one\"].astype(\"category\").cat.categories"
   ]
  },
  {
   "cell_type": "code",
   "execution_count": 161,
   "metadata": {},
   "outputs": [
    {
     "data": {
      "text/plain": [
       "array([4066669334,  474567042])"
      ]
     },
     "execution_count": 161,
     "metadata": {},
     "output_type": "execute_result"
    }
   ],
   "source": [
    "generator = np.random.default_rng()\n",
    "generator.integers(low=0, high=2**32, size=2)"
   ]
  }
 ],
 "metadata": {
  "kernelspec": {
   "display_name": ".venv",
   "language": "python",
   "name": "python3"
  },
  "language_info": {
   "codemirror_mode": {
    "name": "ipython",
    "version": 3
   },
   "file_extension": ".py",
   "mimetype": "text/x-python",
   "name": "python",
   "nbconvert_exporter": "python",
   "pygments_lexer": "ipython3",
   "version": "3.10.12"
  }
 },
 "nbformat": 4,
 "nbformat_minor": 2
}
