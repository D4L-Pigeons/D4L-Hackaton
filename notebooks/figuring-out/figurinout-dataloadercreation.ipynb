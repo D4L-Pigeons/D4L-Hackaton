{
 "cells": [
  {
   "cell_type": "code",
   "execution_count": 1,
   "metadata": {},
   "outputs": [],
   "source": [
    "import os\n",
    "\n",
    "os.chdir(\"../../src\")"
   ]
  },
  {
   "cell_type": "code",
   "execution_count": 2,
   "metadata": {},
   "outputs": [],
   "source": [
    "import utils.data as data_utils\n",
    "import utils.data.extraction, utils.data.splits, utils.data.dataset, utils.data.dataloader\n",
    "import utils.dev_notebooks_utils as dev\n",
    "from utils.paths import RAW_DATA_PATH, PREPROCESSED_DATA_PATH"
   ]
  },
  {
   "cell_type": "code",
   "execution_count": 3,
   "metadata": {},
   "outputs": [
    {
     "data": {
      "text/html": [
       "<div>\n",
       "<style scoped>\n",
       "    .dataframe tbody tr th:only-of-type {\n",
       "        vertical-align: middle;\n",
       "    }\n",
       "\n",
       "    .dataframe tbody tr th {\n",
       "        vertical-align: top;\n",
       "    }\n",
       "\n",
       "    .dataframe thead th {\n",
       "        text-align: right;\n",
       "    }\n",
       "</style>\n",
       "<table border=\"1\" class=\"dataframe\">\n",
       "  <thead>\n",
       "    <tr style=\"text-align: right;\">\n",
       "      <th></th>\n",
       "      <th>cell_type</th>\n",
       "      <th>batch</th>\n",
       "      <th>Site</th>\n",
       "    </tr>\n",
       "  </thead>\n",
       "  <tbody>\n",
       "    <tr>\n",
       "      <th>GCATTAGCATAAGCGG-1-s1d1</th>\n",
       "      <td>27</td>\n",
       "      <td>0</td>\n",
       "      <td>0</td>\n",
       "    </tr>\n",
       "    <tr>\n",
       "      <th>TACAGGTGTTAGAGTA-1-s1d1</th>\n",
       "      <td>15</td>\n",
       "      <td>0</td>\n",
       "      <td>0</td>\n",
       "    </tr>\n",
       "    <tr>\n",
       "      <th>AGGATCTAGGTCTACT-1-s1d1</th>\n",
       "      <td>27</td>\n",
       "      <td>0</td>\n",
       "      <td>0</td>\n",
       "    </tr>\n",
       "    <tr>\n",
       "      <th>GTAGAAAGTGACACAG-1-s1d1</th>\n",
       "      <td>19</td>\n",
       "      <td>0</td>\n",
       "      <td>0</td>\n",
       "    </tr>\n",
       "    <tr>\n",
       "      <th>TCCGAAAAGGATCATA-1-s1d1</th>\n",
       "      <td>35</td>\n",
       "      <td>0</td>\n",
       "      <td>0</td>\n",
       "    </tr>\n",
       "    <tr>\n",
       "      <th>CTCCCAATCCATTGGA-1-s1d1</th>\n",
       "      <td>29</td>\n",
       "      <td>0</td>\n",
       "      <td>0</td>\n",
       "    </tr>\n",
       "  </tbody>\n",
       "</table>\n",
       "</div>"
      ],
      "text/plain": [
       "                         cell_type  batch  Site\n",
       "GCATTAGCATAAGCGG-1-s1d1         27      0     0\n",
       "TACAGGTGTTAGAGTA-1-s1d1         15      0     0\n",
       "AGGATCTAGGTCTACT-1-s1d1         27      0     0\n",
       "GTAGAAAGTGACACAG-1-s1d1         19      0     0\n",
       "TCCGAAAAGGATCATA-1-s1d1         35      0     0\n",
       "CTCCCAATCCATTGGA-1-s1d1         29      0     0"
      ]
     },
     "execution_count": 3,
     "metadata": {},
     "output_type": "execute_result"
    }
   ],
   "source": [
    "extraction_cfg = dev.dict_to_namespace(\n",
    "    {\n",
    "        \"path\": PREPROCESSED_DATA_PATH\n",
    "        / \"GSE194122_openproblems_neurips2021_cite_BMMC_processed_processed.h5\",\n",
    "        \"obs\": {\"columns\": [\"cell_type\", \"batch\", \"Site\"]},\n",
    "    }\n",
    ")\n",
    "extraction_cfg\n",
    "obs = data_utils.extraction.get_dataset_obs(extraction_cfg)\n",
    "obs.head(6)"
   ]
  },
  {
   "cell_type": "code",
   "execution_count": 4,
   "metadata": {},
   "outputs": [
    {
     "data": {
      "text/plain": [
       "(array([ 4881, 15365, 41140, ..., 44380, 25727,  6321]),\n",
       " array([58618, 31221, 36590, ..., 21952, 64949,  7565]))"
      ]
     },
     "execution_count": 4,
     "metadata": {},
     "output_type": "execute_result"
    }
   ],
   "source": [
    "fraction_split_cfg = dev.dict_to_namespace({\"val_fraction\": 0.2})\n",
    "train_idxs, val_idxs = data_utils.splits.naive_mixing_fraction_split(\n",
    "    max_idx=len(obs), cfg=fraction_split_cfg\n",
    ")\n",
    "train_idxs, val_idxs"
   ]
  },
  {
   "cell_type": "code",
   "execution_count": 5,
   "metadata": {},
   "outputs": [],
   "source": [
    "composite_kfold_split_cfg = dev.dict_to_namespace(\n",
    "    {\n",
    "        \"grid_variables\": [\n",
    "            {\"name\": \"cell_type\", \"as_codes\": True},\n",
    "            {\"name\": \"batch\", \"as_codes\": True},\n",
    "        ],\n",
    "        \"n_splits\": 2,\n",
    "        \"random_state\": 0,\n",
    "    }\n",
    ")\n",
    "split = data_utils.splits.composite_k_fold_split(df=obs, cfg=composite_kfold_split_cfg)\n",
    "# train_idxs, val_idxs ="
   ]
  },
  {
   "cell_type": "code",
   "execution_count": 6,
   "metadata": {},
   "outputs": [
    {
     "data": {
      "text/plain": [
       "(array([    2,     4,     7, ..., 90254, 90257, 90258]),\n",
       " array([    0,     1,     3, ..., 90256, 90259, 90260]))"
      ]
     },
     "execution_count": 6,
     "metadata": {},
     "output_type": "execute_result"
    }
   ],
   "source": [
    "next(iter(split))"
   ]
  },
  {
   "cell_type": "code",
   "execution_count": 6,
   "metadata": {},
   "outputs": [],
   "source": [
    "train_dataset_cfg = dev.dict_to_namespace(\n",
    "    {\n",
    "        \"path\": RAW_DATA_PATH\n",
    "        / \"GSE194122_openproblems_neurips2021_cite_BMMC_processed.h5ad\",\n",
    "        \"rowsize\": 14087,\n",
    "        \"obs\": {\n",
    "            \"columns\": [\n",
    "                {\n",
    "                    \"org_name\": \"cell_type\",\n",
    "                    \"new_name\": \"cell_type\",\n",
    "                    \"remap_categories\": False,\n",
    "                },\n",
    "                {\"org_name\": \"batch\", \"new_name\": \"batch\", \"remap_categories\": False},\n",
    "                {\"org_name\": \"Site\", \"new_name\": \"site\", \"remap_categories\": False},\n",
    "            ]\n",
    "        },\n",
    "    }\n",
    ")\n",
    "train_dataset = data_utils.dataset.hdf5SparseDataset(\n",
    "    dataset_idxs=train_idxs, cfg=train_dataset_cfg\n",
    ")"
   ]
  },
  {
   "cell_type": "code",
   "execution_count": 7,
   "metadata": {},
   "outputs": [
    {
     "data": {
      "text/plain": [
       "{'data': tensor([[0.0000, 0.0000, 0.0000,  ..., 0.1544, 0.9172, 0.6069]]),\n",
       " 'cell_type': tensor([27]),\n",
       " 'batch': tensor([0]),\n",
       " 'site': tensor([0])}"
      ]
     },
     "execution_count": 7,
     "metadata": {},
     "output_type": "execute_result"
    }
   ],
   "source": [
    "next(iter(train_dataset))"
   ]
  },
  {
   "cell_type": "code",
   "execution_count": 8,
   "metadata": {},
   "outputs": [
    {
     "data": {
      "text/plain": [
       "array([    0,     1,     2, ..., 90257, 90258, 90260])"
      ]
     },
     "execution_count": 8,
     "metadata": {},
     "output_type": "execute_result"
    }
   ],
   "source": [
    "train_dataset._dataset_idxs"
   ]
  },
  {
   "cell_type": "code",
   "execution_count": 9,
   "metadata": {},
   "outputs": [],
   "source": [
    "train_dataloader_cfg = dev.dict_to_namespace(\n",
    "    {\"dataloader\": {\"batch_size\": 16, \"num_workers\": 1}}\n",
    ")\n",
    "train_dataloader = data_utils.dataloader.get_hdf5SparseDataloader(\n",
    "    train_dataloader_cfg, train_dataset\n",
    ")"
   ]
  },
  {
   "cell_type": "code",
   "execution_count": 10,
   "metadata": {},
   "outputs": [],
   "source": [
    "batch = next(iter(train_dataloader))"
   ]
  },
  {
   "cell_type": "code",
   "execution_count": 11,
   "metadata": {},
   "outputs": [
    {
     "data": {
      "text/plain": [
       "{'data': tensor([[0.0000, 0.0000, 0.0000,  ..., 0.8635, 3.2267, 0.8213],\n",
       "         [0.0000, 0.0000, 0.0000,  ..., 1.8377, 2.0756, 1.1691],\n",
       "         [0.0000, 0.0000, 0.0000,  ..., 2.2885, 0.6505, 1.6634],\n",
       "         ...,\n",
       "         [0.0000, 0.0000, 0.0000,  ..., 0.7781, 2.4880, 0.9627],\n",
       "         [0.0000, 0.0000, 0.0000,  ..., 0.5656, 2.1396, 1.0073],\n",
       "         [0.0000, 0.0000, 0.0000,  ..., 0.9567, 0.6283, 1.1119]]),\n",
       " 'cell_type': tensor([35, 15,  3,  5, 13,  1, 22, 15, 25, 15,  1, 12, 13, 35, 34, 22]),\n",
       " 'batch': tensor([ 1,  1,  1,  2,  2,  3,  4,  5,  5,  6,  7,  9,  9, 11, 11, 11]),\n",
       " 'site': tensor([0, 0, 0, 0, 0, 1, 1, 1, 1, 2, 2, 3, 3, 3, 3, 3])}"
      ]
     },
     "execution_count": 11,
     "metadata": {},
     "output_type": "execute_result"
    }
   ],
   "source": [
    "batch"
   ]
  }
 ],
 "metadata": {
  "kernelspec": {
   "display_name": ".venv",
   "language": "python",
   "name": "python3"
  },
  "language_info": {
   "codemirror_mode": {
    "name": "ipython",
    "version": 3
   },
   "file_extension": ".py",
   "mimetype": "text/x-python",
   "name": "python",
   "nbconvert_exporter": "python",
   "pygments_lexer": "ipython3",
   "version": "3.10.12"
  }
 },
 "nbformat": 4,
 "nbformat_minor": 2
}
