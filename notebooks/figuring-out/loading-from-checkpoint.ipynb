{
 "cells": [
  {
   "cell_type": "code",
   "execution_count": null,
   "metadata": {},
   "outputs": [],
   "source": [
    "NEPTUNE_API_TOKEN = \"eyJhcGlfYWRkcmVzcyI6Imh0dHBzOi8vYXBwLm5lcHR1bmUuYWkiLCJhcGlfdXJsIjoiaHR0cHM6Ly9hcHAubmVwdHVuZS5haSIsImFwaV9rZXkiOiJmMDY1MDE0NC00Zjg3LTRiZmYtOTQwNi0xNjNlNmZjNWQ5MDkifQ==\""
   ]
  },
  {
   "cell_type": "code",
   "execution_count": 1,
   "metadata": {},
   "outputs": [],
   "source": [
    "import neptune\n",
    "\n",
    "project_name = \"multimodal/vaes\"\n",
    "\n",
    "\n",
    "# Initialize the Neptune run\n",
    "run = neptune.init_run(\n",
    "    project=project_name,\n",
    "    api_token=NEPTUNE_API_TOKEN,  # Replace with your Neptune API token\n",
    ")\n",
    "\n",
    "# Define the destination where you want to download the artifacts\n",
    "destination = \"path_to_save_artifacts\"\n",
    "\n",
    "# Download all the artifacts from the run\n",
    "run[\"artifacts\"].download(destination)\n",
    "\n",
    "# Stop the run\n",
    "run.stop()"
   ]
  }
 ],
 "metadata": {
  "kernelspec": {
   "display_name": ".venv",
   "language": "python",
   "name": "python3"
  },
  "language_info": {
   "codemirror_mode": {
    "name": "ipython",
    "version": 3
   },
   "file_extension": ".py",
   "mimetype": "text/x-python",
   "name": "python",
   "nbconvert_exporter": "python",
   "pygments_lexer": "ipython3",
   "version": "3.10.12"
  }
 },
 "nbformat": 4,
 "nbformat_minor": 2
}
