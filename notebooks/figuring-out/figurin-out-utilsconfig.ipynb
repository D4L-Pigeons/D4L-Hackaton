{
 "cells": [
  {
   "cell_type": "code",
   "execution_count": 1,
   "metadata": {},
   "outputs": [],
   "source": [
    "import os\n",
    "\n",
    "os.chdir(\"../..\")"
   ]
  },
  {
   "cell_type": "code",
   "execution_count": 2,
   "metadata": {},
   "outputs": [
    {
     "data": {
      "text/plain": [
       "['src',\n",
       " 'requirements.txt',\n",
       " 'tests',\n",
       " '.pytest_cache',\n",
       " '.idea',\n",
       " '.githooks',\n",
       " '.git',\n",
       " 'notebooks',\n",
       " '.pre-commit-config.yaml',\n",
       " 'old_code',\n",
       " 'data',\n",
       " 'README.md',\n",
       " '.gitignore',\n",
       " 'pytest.ini']"
      ]
     },
     "execution_count": 2,
     "metadata": {},
     "output_type": "execute_result"
    }
   ],
   "source": [
    "os.listdir()"
   ]
  },
  {
   "cell_type": "code",
   "execution_count": 3,
   "metadata": {},
   "outputs": [],
   "source": [
    "from pathlib import Path\n",
    "from argparse import Namespace\n",
    "import yaml\n",
    "import json\n",
    "\n",
    "\n",
    "from src.utils.config import _load_config_from_path"
   ]
  },
  {
   "cell_type": "code",
   "execution_count": 4,
   "metadata": {},
   "outputs": [
    {
     "data": {
      "text/plain": [
       "PosixPath('tests/utils/dummy_cfg-ChainModel.yaml')"
      ]
     },
     "execution_count": 4,
     "metadata": {},
     "output_type": "execute_result"
    }
   ],
   "source": [
    "file_path = Path(\"tests\") / \"utils\" / \"dummy_cfg-ChainModel.yaml\"\n",
    "file_path"
   ]
  },
  {
   "cell_type": "code",
   "execution_count": 5,
   "metadata": {},
   "outputs": [
    {
     "data": {
      "text/plain": [
       "Namespace(chain=[Namespace(chain_link_spec_path='blocks/block_stack', cfg=Namespace(input_dim=128, output_dim=40, hidden_dims=[64], ordered_module_specs=[Namespace(nnmodule_spec_path='norm/batch', kwargs=Namespace()), Namespace(nnmodule_spec_path='activation/relu', kwargs=Namespace())], data_name='data', block_wrapper_name=None)), Namespace(chain_link_spec_path='latent/clustering_fuzzy', cfg=Namespace(n_components=2, latent_dim=20, components_std=1.0, constraint_method='l2', data_name='data', loss_coef_latent_fuzzy_clustering=1.0, loss_coef_clustering_component_reg=0.001)), Namespace(chain_link_spec_path='blocks/block_stack', cfg=Namespace(input_dim=40, output_dim=128, hidden_dims=[], ordered_module_specs=[Namespace(nnmodule_spec_path='norm/batch', kwargs=Namespace()), Namespace(nnmodule_spec_path='activation/relu', kwargs=Namespace())], data_name='data', block_wrapper_name=None))])"
      ]
     },
     "execution_count": 5,
     "metadata": {},
     "output_type": "execute_result"
    }
   ],
   "source": [
    "cfg = _load_config_from_path(file_path=file_path)\n",
    "cfg"
   ]
  },
  {
   "cell_type": "code",
   "execution_count": 14,
   "metadata": {},
   "outputs": [
    {
     "name": "stdout",
     "output_type": "stream",
     "text": [
      "{'nnmodule_spec_path': 'norm/batch', 'kwargs': Namespace()}\n",
      "{'nnmodule_spec_path': 'activation/relu', 'kwargs': Namespace()}\n"
     ]
    }
   ],
   "source": [
    "from src.models.components.blocks import ModuleSpec\n",
    "\n",
    "for ms in cfg.chain[0].cfg.ordered_module_specs:\n",
    "    print(vars(ms))\n",
    "    ModuleSpec(**vars(ms))"
   ]
  },
  {
   "cell_type": "code",
   "execution_count": 12,
   "metadata": {},
   "outputs": [],
   "source": [
    "from src.utils.config import validate_config_structure\n",
    "from src.models.components.blocks import BlockStack\n",
    "\n",
    "file_path = Path(\"tests\") / \"utils\" / \"dummy_cfg2-block_stack.yaml\"\n",
    "\n",
    "assert file_path.exists()\n",
    "cfg = _load_config_from_path(file_path)\n",
    "assert isinstance(cfg, Namespace)"
   ]
  },
  {
   "cell_type": "code",
   "execution_count": 19,
   "metadata": {},
   "outputs": [
    {
     "data": {
      "text/plain": [
       "{'3': 5, 4: 6}"
      ]
     },
     "execution_count": 19,
     "metadata": {},
     "output_type": "execute_result"
    }
   ],
   "source": [
    "x = {\"3\": 5}\n",
    "x.update({4: 6})\n",
    "x"
   ]
  },
  {
   "cell_type": "code",
   "execution_count": 13,
   "metadata": {},
   "outputs": [
    {
     "data": {
      "text/plain": [
       "Namespace(input_dim=128, output_dim=64, hidden_dims=[256, 128, 64], ordered_module_specs=[Namespace(nnmodule_spec_path='norm/batch', kwargs=None), Namespace(nnmodule_spec_path='activation/relu', kwargs=None)], wrapper='torch.nn.Sequential', data_name='example_data', block_wrapper_name='example_block_wrapper')"
      ]
     },
     "execution_count": 13,
     "metadata": {},
     "output_type": "execute_result"
    }
   ],
   "source": [
    "cfg"
   ]
  },
  {
   "cell_type": "code",
   "execution_count": 14,
   "metadata": {},
   "outputs": [
    {
     "ename": "AssertionError",
     "evalue": "Type: {'nnmodule_spec_path': <class 'str'>}",
     "output_type": "error",
     "traceback": [
      "\u001b[0;31m---------------------------------------------------------------------------\u001b[0m",
      "\u001b[0;31mAssertionError\u001b[0m                            Traceback (most recent call last)",
      "Cell \u001b[0;32mIn[14], line 4\u001b[0m\n\u001b[1;32m      1\u001b[0m \u001b[38;5;66;03m# Add more assertions for the expected behavior of the function with different inputs\u001b[39;00m\n\u001b[0;32m----> 4\u001b[0m \u001b[43mvalidate_config_structure\u001b[49m\u001b[43m(\u001b[49m\u001b[43mcfg\u001b[49m\u001b[38;5;241;43m=\u001b[39;49m\u001b[43mcfg\u001b[49m\u001b[43m,\u001b[49m\u001b[43m \u001b[49m\u001b[43mconfig_structure\u001b[49m\u001b[38;5;241;43m=\u001b[39;49m\u001b[43mBlockStack\u001b[49m\u001b[38;5;241;43m.\u001b[39;49m\u001b[43m_config_structure\u001b[49m\u001b[43m)\u001b[49m\n",
      "File \u001b[0;32m~/bioml/D4L-Hackaton/src/utils/config.py:23\u001b[0m, in \u001b[0;36mvalidate_config_structure\u001b[0;34m(cfg, config_structure)\u001b[0m\n\u001b[1;32m     21\u001b[0m             validate_config_structure(attr_val, config_structure[attr_name])\n\u001b[1;32m     22\u001b[0m         \u001b[38;5;28;01melse\u001b[39;00m:\n\u001b[0;32m---> 23\u001b[0m             \u001b[38;5;28;01massert\u001b[39;00m \u001b[38;5;28misinstance\u001b[39m(\n\u001b[1;32m     24\u001b[0m                 config_structure[attr_name], \u001b[38;5;28mtype\u001b[39m\n\u001b[1;32m     25\u001b[0m             ), \u001b[38;5;124mf\u001b[39m\u001b[38;5;124m\"\u001b[39m\u001b[38;5;124mType: \u001b[39m\u001b[38;5;132;01m{\u001b[39;00mconfig_structure[attr_name]\u001b[38;5;132;01m}\u001b[39;00m\u001b[38;5;124m\"\u001b[39m\n\u001b[1;32m     26\u001b[0m         \u001b[38;5;66;03m# elif not isinstance(attr_val, config_structure[attr_name]):\u001b[39;00m\n\u001b[1;32m     27\u001b[0m         \u001b[38;5;66;03m#     raise ValueError(f\"Invalid type for attribute '{attr_name}'\")\u001b[39;00m\n\u001b[1;32m     28\u001b[0m \u001b[38;5;28;01melif\u001b[39;00m \u001b[38;5;28misinstance\u001b[39m(variables, \u001b[38;5;28mlist\u001b[39m):\n",
      "\u001b[0;31mAssertionError\u001b[0m: Type: {'nnmodule_spec_path': <class 'str'>}"
     ]
    }
   ],
   "source": [
    "# Add more assertions for the expected behavior of the function with different inputs\n",
    "\n",
    "\n",
    "validate_config_structure(cfg=cfg, config_structure=BlockStack._config_structure)"
   ]
  }
 ],
 "metadata": {
  "kernelspec": {
   "display_name": ".venv",
   "language": "python",
   "name": "python3"
  },
  "language_info": {
   "codemirror_mode": {
    "name": "ipython",
    "version": 3
   },
   "file_extension": ".py",
   "mimetype": "text/x-python",
   "name": "python",
   "nbconvert_exporter": "python",
   "pygments_lexer": "ipython3",
   "version": "3.10.12"
  }
 },
 "nbformat": 4,
 "nbformat_minor": 2
}
