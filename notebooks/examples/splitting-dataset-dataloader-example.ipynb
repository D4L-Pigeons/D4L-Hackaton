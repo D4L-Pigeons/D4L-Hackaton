{
 "cells": [
  {
   "cell_type": "code",
   "execution_count": 1,
   "metadata": {},
   "outputs": [],
   "source": [
    "import os\n",
    "\n",
    "os.chdir(\"../../src\")"
   ]
  },
  {
   "cell_type": "code",
   "execution_count": 2,
   "metadata": {},
   "outputs": [],
   "source": [
    "import utils.data as data_utils\n",
    "import utils.data.extraction, utils.data.splits, utils.data.dataset, utils.data.dataloader\n",
    "import utils.dev.notebook as dev\n",
    "from utils.paths import RAW_DATA_PATH, PREPROCESSED_DATA_PATH"
   ]
  },
  {
   "cell_type": "markdown",
   "metadata": {},
   "source": [
    "#### Extracting relevant class variables from `.obs`"
   ]
  },
  {
   "cell_type": "code",
   "execution_count": 3,
   "metadata": {},
   "outputs": [
    {
     "data": {
      "text/html": [
       "<div>\n",
       "<style scoped>\n",
       "    .dataframe tbody tr th:only-of-type {\n",
       "        vertical-align: middle;\n",
       "    }\n",
       "\n",
       "    .dataframe tbody tr th {\n",
       "        vertical-align: top;\n",
       "    }\n",
       "\n",
       "    .dataframe thead th {\n",
       "        text-align: right;\n",
       "    }\n",
       "</style>\n",
       "<table border=\"1\" class=\"dataframe\">\n",
       "  <thead>\n",
       "    <tr style=\"text-align: right;\">\n",
       "      <th></th>\n",
       "      <th>cell_type</th>\n",
       "      <th>batch</th>\n",
       "    </tr>\n",
       "  </thead>\n",
       "  <tbody>\n",
       "    <tr>\n",
       "      <th>GCATTAGCATAAGCGG-1-s1d1</th>\n",
       "      <td>27</td>\n",
       "      <td>0</td>\n",
       "    </tr>\n",
       "    <tr>\n",
       "      <th>TACAGGTGTTAGAGTA-1-s1d1</th>\n",
       "      <td>15</td>\n",
       "      <td>0</td>\n",
       "    </tr>\n",
       "    <tr>\n",
       "      <th>AGGATCTAGGTCTACT-1-s1d1</th>\n",
       "      <td>27</td>\n",
       "      <td>0</td>\n",
       "    </tr>\n",
       "    <tr>\n",
       "      <th>GTAGAAAGTGACACAG-1-s1d1</th>\n",
       "      <td>19</td>\n",
       "      <td>0</td>\n",
       "    </tr>\n",
       "    <tr>\n",
       "      <th>TCCGAAAAGGATCATA-1-s1d1</th>\n",
       "      <td>35</td>\n",
       "      <td>0</td>\n",
       "    </tr>\n",
       "    <tr>\n",
       "      <th>CTCCCAATCCATTGGA-1-s1d1</th>\n",
       "      <td>29</td>\n",
       "      <td>0</td>\n",
       "    </tr>\n",
       "  </tbody>\n",
       "</table>\n",
       "</div>"
      ],
      "text/plain": [
       "                         cell_type  batch\n",
       "GCATTAGCATAAGCGG-1-s1d1         27      0\n",
       "TACAGGTGTTAGAGTA-1-s1d1         15      0\n",
       "AGGATCTAGGTCTACT-1-s1d1         27      0\n",
       "GTAGAAAGTGACACAG-1-s1d1         19      0\n",
       "TCCGAAAAGGATCATA-1-s1d1         35      0\n",
       "CTCCCAATCCATTGGA-1-s1d1         29      0"
      ]
     },
     "metadata": {},
     "output_type": "display_data"
    },
    {
     "data": {
      "text/plain": [
       "cell_type    int8\n",
       "batch        int8\n",
       "dtype: object"
      ]
     },
     "metadata": {},
     "output_type": "display_data"
    }
   ],
   "source": [
    "extraction_cfg = dev.dict_to_namespace(\n",
    "    {\n",
    "        \"path\": PREPROCESSED_DATA_PATH\n",
    "        / \"GSE194122_openproblems_neurips2021_cite_BMMC_processed_processed.h5\",\n",
    "        \"obs\": {\n",
    "            \"columns\": [\n",
    "                {\"name\": \"cell_type\", \"as_codes\": True},\n",
    "                {\"name\": \"batch\", \"as_codes\": True},\n",
    "            ]\n",
    "        },\n",
    "    }\n",
    ")\n",
    "extraction_cfg\n",
    "obs = data_utils.extraction.get_dataset_obs(extraction_cfg)\n",
    "display(obs.head(6))\n",
    "display(obs.dtypes)"
   ]
  },
  {
   "cell_type": "markdown",
   "metadata": {},
   "source": [
    "#### Creating naive split mixing batches etc."
   ]
  },
  {
   "cell_type": "code",
   "execution_count": 4,
   "metadata": {},
   "outputs": [
    {
     "data": {
      "text/plain": [
       "Split(train_indices=array([60195,  1089, 30812, ..., 16049, 18228, 22661]), val_indices=array([30112, 23109,  4035, ..., 78416, 50356, 85997]))"
      ]
     },
     "execution_count": 4,
     "metadata": {},
     "output_type": "execute_result"
    }
   ],
   "source": [
    "fraction_split_cfg = dev.dict_to_namespace({\"val_fraction\": 0.2})\n",
    "split = data_utils.splits.naive_mixing_fraction_split(\n",
    "    max_idx=len(obs), cfg=fraction_split_cfg\n",
    ")\n",
    "split"
   ]
  },
  {
   "cell_type": "code",
   "execution_count": 5,
   "metadata": {},
   "outputs": [],
   "source": [
    "train_indxs, val_indxs = split"
   ]
  },
  {
   "cell_type": "code",
   "execution_count": 6,
   "metadata": {},
   "outputs": [
    {
     "data": {
      "text/plain": [
       "<generator object naive_mixing_k_fold_split at 0x7fc23b01cb30>"
      ]
     },
     "metadata": {},
     "output_type": "display_data"
    },
    {
     "data": {
      "text/plain": [
       "Split(train_indices=array([    1,     2,     3, ..., 90258, 90259, 90260]), val_indices=array([    0,     4,     9, ..., 90254, 90255, 90256]))"
      ]
     },
     "metadata": {},
     "output_type": "display_data"
    }
   ],
   "source": [
    "naive_kfold_split_cfg = dev.dict_to_namespace({\"n_splits\": 4, \"random_state\": 2})\n",
    "kf_split = data_utils.splits.naive_mixing_k_fold_split(\n",
    "    max_idx=len(obs), cfg=naive_kfold_split_cfg\n",
    ")\n",
    "display(kf_split)\n",
    "display(next(iter(kf_split)))"
   ]
  },
  {
   "cell_type": "markdown",
   "metadata": {},
   "source": [
    "#### Composite split separating samples from different batches etc."
   ]
  },
  {
   "cell_type": "code",
   "execution_count": 7,
   "metadata": {},
   "outputs": [],
   "source": [
    "composite_kfold_split_cfg = dev.dict_to_namespace(\n",
    "    {\n",
    "        \"grid_variables\": [\"cell_type\", \"batch\"],\n",
    "        \"n_splits\": 2,\n",
    "        \"random_state\": 0,\n",
    "    }\n",
    ")\n",
    "kfsplit = data_utils.splits.composite_k_fold_split(\n",
    "    df=obs, cfg=composite_kfold_split_cfg\n",
    ")"
   ]
  },
  {
   "cell_type": "code",
   "execution_count": 8,
   "metadata": {},
   "outputs": [],
   "source": [
    "train_idxs, val_indxs = next(iter(kfsplit))"
   ]
  },
  {
   "cell_type": "code",
   "execution_count": 9,
   "metadata": {},
   "outputs": [],
   "source": [
    "train_dataset_cfg = dev.dict_to_namespace(\n",
    "    {\n",
    "        \"path\": RAW_DATA_PATH\n",
    "        / \"GSE194122_openproblems_neurips2021_cite_BMMC_processed.h5ad\",\n",
    "        \"rowsize\": 14087,\n",
    "        \"obs\": {\n",
    "            \"columns\": [\n",
    "                {\n",
    "                    \"org_name\": \"cell_type\",\n",
    "                    \"new_name\": \"cell_type\",\n",
    "                    \"remap_categories\": False,\n",
    "                },\n",
    "                {\"org_name\": \"batch\", \"new_name\": \"batch\", \"remap_categories\": False},\n",
    "                {\"org_name\": \"Site\", \"new_name\": \"site\", \"remap_categories\": False},\n",
    "            ]\n",
    "        },\n",
    "    }\n",
    ")\n",
    "train_dataset = data_utils.dataset.hdf5SparseDataset(\n",
    "    dataset_idxs=train_idxs, cfg=train_dataset_cfg\n",
    ")"
   ]
  },
  {
   "cell_type": "code",
   "execution_count": 10,
   "metadata": {},
   "outputs": [
    {
     "data": {
      "text/plain": [
       "{'data': tensor([[0.6763, 0.0000, 0.0000,  ..., 1.5909, 1.6189, 1.6097]]),\n",
       " 'cell_type': tensor([15]),\n",
       " 'batch': tensor([0]),\n",
       " 'site': tensor([0])}"
      ]
     },
     "execution_count": 10,
     "metadata": {},
     "output_type": "execute_result"
    }
   ],
   "source": [
    "next(iter(train_dataset))"
   ]
  },
  {
   "cell_type": "code",
   "execution_count": 11,
   "metadata": {},
   "outputs": [
    {
     "data": {
      "text/plain": [
       "array([    2,     4,     7, ..., 90254, 90257, 90258])"
      ]
     },
     "execution_count": 11,
     "metadata": {},
     "output_type": "execute_result"
    }
   ],
   "source": [
    "train_dataset._dataset_idxs"
   ]
  },
  {
   "cell_type": "code",
   "execution_count": 12,
   "metadata": {},
   "outputs": [],
   "source": [
    "train_dataloader_cfg = dev.dict_to_namespace(\n",
    "    {\"dataloader\": {\"batch_size\": 16, \"num_workers\": 1}}\n",
    ")\n",
    "train_dataloader = data_utils.dataloader.get_hdf5SparseDataloader(\n",
    "    train_dataloader_cfg, train_dataset\n",
    ")"
   ]
  },
  {
   "cell_type": "code",
   "execution_count": 13,
   "metadata": {},
   "outputs": [],
   "source": [
    "batch = next(iter(train_dataloader))"
   ]
  },
  {
   "cell_type": "code",
   "execution_count": 14,
   "metadata": {},
   "outputs": [
    {
     "data": {
      "text/plain": [
       "{'data': tensor([[0.0000, 0.0000, 0.0000,  ..., 0.7793, 3.2602, 0.5459],\n",
       "         [0.0000, 0.0000, 0.0000,  ..., 0.3247, 0.5694, 0.5694],\n",
       "         [0.0000, 0.0000, 0.0000,  ..., 0.6212, 0.4983, 0.4983],\n",
       "         ...,\n",
       "         [0.0000, 0.0000, 0.0000,  ..., 0.5289, 0.9049, 0.9947],\n",
       "         [0.0000, 0.0000, 0.0000,  ..., 0.2788, 0.8268, 0.9164],\n",
       "         [0.0000, 0.0000, 0.0000,  ..., 0.8869, 1.1819, 1.2177]]),\n",
       " 'cell_type': tensor([35, 44, 43,  3, 15, 15,  3,  5,  3, 18, 15, 15, 27, 10, 38, 12]),\n",
       " 'batch': tensor([ 2,  3,  4,  5,  6,  6,  6,  6,  6,  7,  8,  8,  9, 10, 11, 11]),\n",
       " 'site': tensor([0, 1, 1, 1, 2, 2, 2, 2, 2, 2, 2, 2, 3, 3, 3, 3])}"
      ]
     },
     "execution_count": 14,
     "metadata": {},
     "output_type": "execute_result"
    }
   ],
   "source": [
    "batch"
   ]
  },
  {
   "cell_type": "code",
   "execution_count": 16,
   "metadata": {},
   "outputs": [
    {
     "name": "stderr",
     "output_type": "stream",
     "text": [
      "100%|██████████| 2821/2821 [01:58<00:00, 23.79it/s]\n"
     ]
    }
   ],
   "source": [
    "from tqdm import tqdm\n",
    "\n",
    "for _ in tqdm(train_dataloader):\n",
    "    pass"
   ]
  },
  {
   "cell_type": "markdown",
   "metadata": {},
   "source": [
    "#### Composite parameterised split - just another way of parameterised splittic without randomness"
   ]
  },
  {
   "cell_type": "code",
   "execution_count": 17,
   "metadata": {},
   "outputs": [
    {
     "data": {
      "text/html": [
       "<div>\n",
       "<style scoped>\n",
       "    .dataframe tbody tr th:only-of-type {\n",
       "        vertical-align: middle;\n",
       "    }\n",
       "\n",
       "    .dataframe tbody tr th {\n",
       "        vertical-align: top;\n",
       "    }\n",
       "\n",
       "    .dataframe thead th {\n",
       "        text-align: right;\n",
       "    }\n",
       "</style>\n",
       "<table border=\"1\" class=\"dataframe\">\n",
       "  <thead>\n",
       "    <tr style=\"text-align: right;\">\n",
       "      <th></th>\n",
       "      <th>cell_type</th>\n",
       "      <th>batch</th>\n",
       "      <th>index</th>\n",
       "    </tr>\n",
       "  </thead>\n",
       "  <tbody>\n",
       "    <tr>\n",
       "      <th>GCATTAGCATAAGCGG-1-s1d1</th>\n",
       "      <td>27</td>\n",
       "      <td>0</td>\n",
       "      <td>0</td>\n",
       "    </tr>\n",
       "    <tr>\n",
       "      <th>TACAGGTGTTAGAGTA-1-s1d1</th>\n",
       "      <td>15</td>\n",
       "      <td>0</td>\n",
       "      <td>1</td>\n",
       "    </tr>\n",
       "    <tr>\n",
       "      <th>AGGATCTAGGTCTACT-1-s1d1</th>\n",
       "      <td>27</td>\n",
       "      <td>0</td>\n",
       "      <td>2</td>\n",
       "    </tr>\n",
       "    <tr>\n",
       "      <th>GTAGAAAGTGACACAG-1-s1d1</th>\n",
       "      <td>19</td>\n",
       "      <td>0</td>\n",
       "      <td>3</td>\n",
       "    </tr>\n",
       "    <tr>\n",
       "      <th>TCCGAAAAGGATCATA-1-s1d1</th>\n",
       "      <td>35</td>\n",
       "      <td>0</td>\n",
       "      <td>4</td>\n",
       "    </tr>\n",
       "    <tr>\n",
       "      <th>...</th>\n",
       "      <td>...</td>\n",
       "      <td>...</td>\n",
       "      <td>...</td>\n",
       "    </tr>\n",
       "    <tr>\n",
       "      <th>GAATCACCACGGAAGT-1-s4d9</th>\n",
       "      <td>22</td>\n",
       "      <td>11</td>\n",
       "      <td>90256</td>\n",
       "    </tr>\n",
       "    <tr>\n",
       "      <th>GCTGGGTGTACGGATG-1-s4d9</th>\n",
       "      <td>13</td>\n",
       "      <td>11</td>\n",
       "      <td>90257</td>\n",
       "    </tr>\n",
       "    <tr>\n",
       "      <th>TCGAAGTGTGACAGGT-1-s4d9</th>\n",
       "      <td>37</td>\n",
       "      <td>11</td>\n",
       "      <td>90258</td>\n",
       "    </tr>\n",
       "    <tr>\n",
       "      <th>GCAGGCTGTTGCATAC-1-s4d9</th>\n",
       "      <td>5</td>\n",
       "      <td>11</td>\n",
       "      <td>90259</td>\n",
       "    </tr>\n",
       "    <tr>\n",
       "      <th>ACGTAACAGGTCTACT-1-s4d9</th>\n",
       "      <td>13</td>\n",
       "      <td>11</td>\n",
       "      <td>90260</td>\n",
       "    </tr>\n",
       "  </tbody>\n",
       "</table>\n",
       "<p>90261 rows × 3 columns</p>\n",
       "</div>"
      ],
      "text/plain": [
       "                         cell_type  batch  index\n",
       "GCATTAGCATAAGCGG-1-s1d1         27      0      0\n",
       "TACAGGTGTTAGAGTA-1-s1d1         15      0      1\n",
       "AGGATCTAGGTCTACT-1-s1d1         27      0      2\n",
       "GTAGAAAGTGACACAG-1-s1d1         19      0      3\n",
       "TCCGAAAAGGATCATA-1-s1d1         35      0      4\n",
       "...                            ...    ...    ...\n",
       "GAATCACCACGGAAGT-1-s4d9         22     11  90256\n",
       "GCTGGGTGTACGGATG-1-s4d9         13     11  90257\n",
       "TCGAAGTGTGACAGGT-1-s4d9         37     11  90258\n",
       "GCAGGCTGTTGCATAC-1-s4d9          5     11  90259\n",
       "ACGTAACAGGTCTACT-1-s4d9         13     11  90260\n",
       "\n",
       "[90261 rows x 3 columns]"
      ]
     },
     "execution_count": 17,
     "metadata": {},
     "output_type": "execute_result"
    }
   ],
   "source": [
    "obs"
   ]
  },
  {
   "cell_type": "code",
   "execution_count": 18,
   "metadata": {},
   "outputs": [
    {
     "data": {
      "text/plain": [
       "Split(train_indices=array([    0,     1,     2, ..., 90258, 90259, 90260]), val_indices=array([   59,    63,    70,    84,    98,   166,   241,   320,   326,\n",
       "         356,   404,   408,   420,   447,   541,   547,   580,   600,\n",
       "         661,   735,   759,   796,   888,   920,   936,   941,   943,\n",
       "         955,   965,  1017,  1035,  1167,  1203,  1206,  1231,  1282,\n",
       "        1283,  1291,  1384,  1429,  1439,  1542,  1568,  1593,  1595,\n",
       "        1659,  1689,  1710,  1734,  1784,  1799,  1822,  1845,  1914,\n",
       "        1915,  1964,  2002,  2037,  2043,  2081,  2213,  2280,  2300,\n",
       "        2335,  2337,  2369,  2385,  2410,  2433,  2562,  2639,  2644,\n",
       "        2722,  2782,  2837,  2853,  2861,  2866,  3025,  3032,  3036,\n",
       "        3039,  3057,  3073,  3084,  3217,  3220,  3234,  3295,  3317,\n",
       "        3340,  3362,  3369,  3375,  3384,  3393,  3422,  3453,  3486,\n",
       "        3514,  3578,  3614,  3623,  3635,  3668,  3669,  3708,  3768,\n",
       "        3775,  3871,  3872,  3884,  3923,  3950,  3977,  3980,  4007,\n",
       "        4021,  4177,  4229,  4274,  4286,  4313,  4321,  4340,  4352,\n",
       "        4392,  4531,  4534,  4552,  4588,  4706,  4723,  4731,  4778,\n",
       "        4807,  4823,  4837,  4851,  4890,  4914,  4924,  4955,  4984,\n",
       "        5014,  5021,  5047,  5107,  5173,  5184,  5200, 10231, 10267,\n",
       "       10269, 10283, 10310, 10347, 10398, 10447, 10503, 10544, 10562,\n",
       "       10640, 10651, 10786, 10871, 10926, 10936, 10992, 11008, 11061,\n",
       "       11084, 11088, 11122, 11167, 11307, 11497, 11579, 11614, 11634,\n",
       "       11642, 11846, 11910, 11934, 12004, 12024, 12073, 12112, 12129,\n",
       "       12175, 12181, 12186, 12198, 12227, 12251, 12318, 12323, 12496,\n",
       "       12674, 12701, 12709, 12763, 12778, 12798, 12833, 12877, 12943,\n",
       "       12960, 12976, 13049, 13067, 13106, 13194, 13205, 13266, 13420,\n",
       "       13490, 13524, 13550, 13558, 13701, 13746, 13764, 13792, 13796,\n",
       "       13874, 13901, 13969, 14067, 14092, 14138, 14522, 14598, 14640,\n",
       "       14739, 14761, 14837, 14883, 14886, 14923, 14954, 15067, 15159,\n",
       "       15164, 15208, 15291, 15425, 15530, 15535, 15731, 15745, 15844,\n",
       "       15991, 15995, 15996, 16109, 16113, 16120, 16129, 16148, 16154,\n",
       "       16252]))"
      ]
     },
     "execution_count": 18,
     "metadata": {},
     "output_type": "execute_result"
    }
   ],
   "source": [
    "subset_param_composite_split_cfg = dev.dict_to_namespace(\n",
    "    {\n",
    "        \"val_filter_values\": [\n",
    "            {\"name\": \"batch\", \"filter_values\": [0, 2]},\n",
    "            {\"name\": \"cell_type\", \"filter_values\": [6, 11, 12]},\n",
    "        ]\n",
    "    }\n",
    ")\n",
    "\n",
    "split = data_utils.splits.subset_parameterised_composite_split(\n",
    "    df=obs, cfg=subset_param_composite_split_cfg\n",
    ")\n",
    "split"
   ]
  }
 ],
 "metadata": {
  "kernelspec": {
   "display_name": ".venv",
   "language": "python",
   "name": "python3"
  },
  "language_info": {
   "codemirror_mode": {
    "name": "ipython",
    "version": 3
   },
   "file_extension": ".py",
   "mimetype": "text/x-python",
   "name": "python",
   "nbconvert_exporter": "python",
   "pygments_lexer": "ipython3",
   "version": "3.10.12"
  }
 },
 "nbformat": 4,
 "nbformat_minor": 2
}
