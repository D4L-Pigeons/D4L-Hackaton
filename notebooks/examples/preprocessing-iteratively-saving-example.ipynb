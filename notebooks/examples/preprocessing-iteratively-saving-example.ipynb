{
 "cells": [
  {
   "cell_type": "code",
   "execution_count": 1,
   "metadata": {},
   "outputs": [],
   "source": [
    "import os\n",
    "\n",
    "os.chdir(\"../../src\")"
   ]
  },
  {
   "cell_type": "code",
   "execution_count": 2,
   "metadata": {},
   "outputs": [],
   "source": [
    "import h5py\n",
    "from utils.paths import RAW_DATA_PATH, PREPROCESSED_DATA_PATH\n",
    "import utils.data.hdf5\n",
    "import utils.data.preprocessing\n",
    "import utils.dev.notebook as dev\n",
    "import utils.data.dataset\n",
    "import numpy as np"
   ]
  },
  {
   "cell_type": "markdown",
   "metadata": {},
   "source": [
    "#### Preprocessing config specification"
   ]
  },
  {
   "cell_type": "code",
   "execution_count": 3,
   "metadata": {},
   "outputs": [],
   "source": [
    "preprocessing_cfg = dev.dict_to_namespace(\n",
    "    {\n",
    "        \"transforms\": [\"normalize_total\", \"log1p\"],  # , \"divide_by_nonzero_median\"\n",
    "        \"groups_to_clone\": [\"obs\", \"var\", \"uns\"],\n",
    "        \"chunk_size\": 1000,\n",
    "        \"read_file\": {\n",
    "            \"filename\": \"GSE194122_openproblems_neurips2021_cite_BMMC_processed.h5ad\"\n",
    "        },\n",
    "        \"write_file\": {\n",
    "            \"filename\": \"GSE194122_openproblems_neurips2021_cite_BMMC_processed_processed.h5\"\n",
    "        },\n",
    "    }\n",
    ")"
   ]
  },
  {
   "cell_type": "markdown",
   "metadata": {},
   "source": [
    "#### Examining structure of read hdf5 file"
   ]
  },
  {
   "cell_type": "code",
   "execution_count": 4,
   "metadata": {},
   "outputs": [
    {
     "name": "stdout",
     "output_type": "stream",
     "text": [
      "\n",
      "\n",
      "\\X\n",
      "\\X\n",
      "\\X\\data\n",
      "\\X\\indices\n",
      "\\X\\indptr\n",
      "\\layers\n",
      "\\layers\n",
      "\\layers\\counts\n",
      "\\layers\\counts\n",
      "\\layers\\counts\\data\n",
      "\\layers\\counts\\indices\n",
      "\\layers\\counts\\indptr\n",
      "\\obs\n",
      "\\obs\n",
      "\\obs\\ADT_iso_count\n",
      "\\obs\\ADT_n_antibodies_by_counts\n",
      "\\obs\\ADT_pseudotime_order\n",
      "\\obs\\ADT_total_counts\n",
      "\\obs\\DonorAge\n",
      "\\obs\\DonorBMI\n",
      "\\obs\\DonorBloodType\n",
      "\\obs\\DonorGender\n",
      "\\obs\\DonorID\n",
      "\\obs\\DonorNumber\n",
      "\\obs\\DonorRace\n",
      "\\obs\\DonorSmoker\n",
      "\\obs\\Ethnicity\n",
      "\\obs\\GEX_n_genes_by_counts\n",
      "\\obs\\GEX_pct_counts_mt\n",
      "\\obs\\GEX_phase\n",
      "\\obs\\GEX_pseudotime_order\n",
      "\\obs\\GEX_size_factors\n",
      "\\obs\\Modality\n",
      "\\obs\\QCMeds\n",
      "\\obs\\Samplename\n",
      "\\obs\\Site\n",
      "\\obs\\VendorLot\n",
      "\\obs\\__categories\n",
      "\\obs\\__categories\n",
      "\\obs\\__categories\\DonorBloodType\n",
      "\\obs\\__categories\\DonorGender\n",
      "\\obs\\__categories\\DonorNumber\n",
      "\\obs\\__categories\\DonorRace\n",
      "\\obs\\__categories\\DonorSmoker\n",
      "\\obs\\__categories\\Ethnicity\n",
      "\\obs\\__categories\\GEX_phase\n",
      "\\obs\\__categories\\Modality\n",
      "\\obs\\__categories\\QCMeds\n",
      "\\obs\\__categories\\Samplename\n",
      "\\obs\\__categories\\Site\n",
      "\\obs\\__categories\\batch\n",
      "\\obs\\__categories\\cell_type\n",
      "\\obs\\__categories\\is_train\n",
      "\\obs\\_index\n",
      "\\obs\\batch\n",
      "\\obs\\cell_type\n",
      "\\obs\\is_train\n",
      "\\obsm\n",
      "\\obsm\n",
      "\\obsm\\ADT_X_pca\n",
      "\\obsm\\ADT_X_umap\n",
      "\\obsm\\ADT_isotype_controls\n",
      "\\obsm\\ADT_isotype_controls\n",
      "\\obsm\\ADT_isotype_controls\\Mouse-IgG1\n",
      "\\obsm\\ADT_isotype_controls\\Mouse-IgG2a\n",
      "\\obsm\\ADT_isotype_controls\\Mouse-IgG2b\n",
      "\\obsm\\ADT_isotype_controls\\Rat-IgG1\n",
      "\\obsm\\ADT_isotype_controls\\Rat-IgG2a\n",
      "\\obsm\\ADT_isotype_controls\\Rat-IgG2b\n",
      "\\obsm\\ADT_isotype_controls\\_index\n",
      "\\obsm\\GEX_X_pca\n",
      "\\obsm\\GEX_X_umap\n",
      "\\uns\n",
      "\\uns\n",
      "\\uns\\dataset_id\n",
      "\\uns\\genome\n",
      "\\uns\\organism\n",
      "\\var\n",
      "\\var\n",
      "\\var\\__categories\n",
      "\\var\\__categories\n",
      "\\var\\__categories\\feature_types\n",
      "\\var\\__categories\\gene_id\n",
      "\\var\\_index\n",
      "\\var\\feature_types\n",
      "\\var\\gene_id\n"
     ]
    }
   ],
   "source": [
    "with h5py.File(RAW_DATA_PATH / preprocessing_cfg.read_file.filename, \"r\") as f:\n",
    "    utils.data.hdf5.print_hdf5_structure_tree(\"\", f)"
   ]
  },
  {
   "cell_type": "markdown",
   "metadata": {},
   "source": [
    "#### Running configured preprocessing"
   ]
  },
  {
   "cell_type": "code",
   "execution_count": 5,
   "metadata": {},
   "outputs": [
    {
     "name": "stderr",
     "output_type": "stream",
     "text": [
      "Data preprocessing:  99%|█████████▉| 90/91 [01:12<00:00,  1.24it/s]\n"
     ]
    }
   ],
   "source": [
    "utils.data.preprocessing.preprocess_and_save_dataset(cfg=preprocessing_cfg)"
   ]
  },
  {
   "cell_type": "markdown",
   "metadata": {},
   "source": [
    "#### Examining structure of write hdf5 file"
   ]
  },
  {
   "cell_type": "code",
   "execution_count": 6,
   "metadata": {},
   "outputs": [
    {
     "name": "stdout",
     "output_type": "stream",
     "text": [
      "\n",
      "\n",
      "\\X\n",
      "\\X\n",
      "\\X\\data\n",
      "\\X\\indices\n",
      "\\X\\indptr\n",
      "\\obs\n",
      "\\obs\n",
      "\\obs\\ADT_iso_count\n",
      "\\obs\\ADT_n_antibodies_by_counts\n",
      "\\obs\\ADT_pseudotime_order\n",
      "\\obs\\ADT_total_counts\n",
      "\\obs\\DonorAge\n",
      "\\obs\\DonorBMI\n",
      "\\obs\\DonorBloodType\n",
      "\\obs\\DonorGender\n",
      "\\obs\\DonorID\n",
      "\\obs\\DonorNumber\n",
      "\\obs\\DonorRace\n",
      "\\obs\\DonorSmoker\n",
      "\\obs\\Ethnicity\n",
      "\\obs\\GEX_n_genes_by_counts\n",
      "\\obs\\GEX_pct_counts_mt\n",
      "\\obs\\GEX_phase\n",
      "\\obs\\GEX_pseudotime_order\n",
      "\\obs\\GEX_size_factors\n",
      "\\obs\\Modality\n",
      "\\obs\\QCMeds\n",
      "\\obs\\Samplename\n",
      "\\obs\\Site\n",
      "\\obs\\VendorLot\n",
      "\\obs\\__categories\n",
      "\\obs\\__categories\n",
      "\\obs\\__categories\\DonorBloodType\n",
      "\\obs\\__categories\\DonorGender\n",
      "\\obs\\__categories\\DonorNumber\n",
      "\\obs\\__categories\\DonorRace\n",
      "\\obs\\__categories\\DonorSmoker\n",
      "\\obs\\__categories\\Ethnicity\n",
      "\\obs\\__categories\\GEX_phase\n",
      "\\obs\\__categories\\Modality\n",
      "\\obs\\__categories\\QCMeds\n",
      "\\obs\\__categories\\Samplename\n",
      "\\obs\\__categories\\Site\n",
      "\\obs\\__categories\\batch\n",
      "\\obs\\__categories\\cell_type\n",
      "\\obs\\__categories\\is_train\n",
      "\\obs\\_index\n",
      "\\obs\\batch\n",
      "\\obs\\cell_type\n",
      "\\obs\\is_train\n",
      "\\uns\n",
      "\\uns\n",
      "\\uns\\dataset_id\n",
      "\\uns\\genome\n",
      "\\uns\\organism\n",
      "\\var\n",
      "\\var\n",
      "\\var\\__categories\n",
      "\\var\\__categories\n",
      "\\var\\__categories\\feature_types\n",
      "\\var\\__categories\\gene_id\n",
      "\\var\\_index\n",
      "\\var\\feature_types\n",
      "\\var\\gene_id\n"
     ]
    }
   ],
   "source": [
    "with h5py.File(\n",
    "    PREPROCESSED_DATA_PATH / preprocessing_cfg.write_file.filename, \"r\"\n",
    ") as f:\n",
    "    utils.data.hdf5.print_hdf5_structure_tree(\"\", f)"
   ]
  },
  {
   "cell_type": "markdown",
   "metadata": {},
   "source": [
    "#### Loading the two datasets to comapre the wether the preprocessing works"
   ]
  },
  {
   "cell_type": "code",
   "execution_count": 8,
   "metadata": {},
   "outputs": [],
   "source": [
    "read_file_dataset_cfg = dev.dict_to_namespace(\n",
    "    {\n",
    "        \"path\": RAW_DATA_PATH\n",
    "        / \"GSE194122_openproblems_neurips2021_cite_BMMC_processed.h5ad\",\n",
    "        \"rowsize\": 14087,\n",
    "        \"obs\": {\n",
    "            \"columns\": [\n",
    "                {\n",
    "                    \"org_name\": \"cell_type\",\n",
    "                    \"new_name\": \"cell_type\",\n",
    "                    \"remap_categories\": False,\n",
    "                },\n",
    "                {\"org_name\": \"batch\", \"new_name\": \"batch\", \"remap_categories\": False},\n",
    "                {\"org_name\": \"Site\", \"new_name\": \"site\", \"remap_categories\": False},\n",
    "            ]\n",
    "        },\n",
    "    }\n",
    ")\n",
    "write_file_dataset_cfg = dev.dict_to_namespace(\n",
    "    {\n",
    "        \"path\": PREPROCESSED_DATA_PATH\n",
    "        / \"GSE194122_openproblems_neurips2021_cite_BMMC_processed_processed.h5\",\n",
    "        \"rowsize\": 14087,\n",
    "        \"obs\": {\n",
    "            \"columns\": [\n",
    "                {\n",
    "                    \"org_name\": \"cell_type\",\n",
    "                    \"new_name\": \"cell_type\",\n",
    "                    \"remap_categories\": False,\n",
    "                },\n",
    "                {\"org_name\": \"batch\", \"new_name\": \"batch\", \"remap_categories\": False},\n",
    "                {\"org_name\": \"Site\", \"new_name\": \"site\", \"remap_categories\": False},\n",
    "            ]\n",
    "        },\n",
    "    }\n",
    ")\n",
    "\n",
    "read_file_dataset = utils.data.dataset.hdf5SparseDataset(\n",
    "    dataset_idxs=np.array([0, 4]), cfg=read_file_dataset_cfg\n",
    ")\n",
    "write_file_dataset = utils.data.dataset.hdf5SparseDataset(\n",
    "    dataset_idxs=np.array([0, 4]), cfg=write_file_dataset_cfg\n",
    ")"
   ]
  },
  {
   "cell_type": "code",
   "execution_count": 9,
   "metadata": {},
   "outputs": [
    {
     "data": {
      "text/plain": [
       "{'data': tensor([[0.0000, 0.0000, 0.0000,  ..., 0.1544, 0.9172, 0.6069]]),\n",
       " 'cell_type': tensor([27]),\n",
       " 'batch': tensor([0]),\n",
       " 'site': tensor([0])}"
      ]
     },
     "metadata": {},
     "output_type": "display_data"
    },
    {
     "data": {
      "text/plain": [
       "{'data': tensor([[0.0000e+00, 0.0000e+00, 0.0000e+00,  ..., 1.6722e-05, 9.9350e-05,\n",
       "          6.5732e-05]]),\n",
       " 'cell_type': tensor([27]),\n",
       " 'batch': tensor([0]),\n",
       " 'site': tensor([0])}"
      ]
     },
     "metadata": {},
     "output_type": "display_data"
    }
   ],
   "source": [
    "display(next(iter(read_file_dataset)))\n",
    "display(next(iter(write_file_dataset)))"
   ]
  },
  {
   "cell_type": "markdown",
   "metadata": {},
   "source": [
    "The values at least seem to be different."
   ]
  }
 ],
 "metadata": {
  "kernelspec": {
   "display_name": ".venv",
   "language": "python",
   "name": "python3"
  },
  "language_info": {
   "codemirror_mode": {
    "name": "ipython",
    "version": 3
   },
   "file_extension": ".py",
   "mimetype": "text/x-python",
   "name": "python",
   "nbconvert_exporter": "python",
   "pygments_lexer": "ipython3",
   "version": "3.10.12"
  }
 },
 "nbformat": 4,
 "nbformat_minor": 2
}
