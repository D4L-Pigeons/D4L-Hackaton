{
 "cells": [
  {
   "cell_type": "code",
   "execution_count": 1,
   "metadata": {},
   "outputs": [],
   "source": [
    "import os\n",
    "\n",
    "os.chdir(\"../src\")\n",
    "\n",
    "from utils import data_utils\n",
    "\n",
    "import pandas as pd\n",
    "import numpy as np\n",
    "import anndata as ad\n",
    "import scanpy as sc\n",
    "\n",
    "\n",
    "pd.set_option(\"display.max_columns\", None)\n",
    "\n",
    "import argparse"
   ]
  },
  {
   "cell_type": "code",
   "execution_count": 2,
   "metadata": {},
   "outputs": [
    {
     "name": "stderr",
     "output_type": "stream",
     "text": [
      "d:\\dlls-hack\\.venv\\Lib\\site-packages\\anndata\\_core\\anndata.py:1820: UserWarning: Variable names are not unique. To make them unique, call `.var_names_make_unique`.\n",
      "  utils.warn_names_duplicates(\"var\")\n"
     ]
    },
    {
     "name": "stdout",
     "output_type": "stream",
     "text": [
      "Subsampling anndata with fraction 1.0...\n"
     ]
    }
   ],
   "source": [
    "adata = data_utils.load_anndata(\n",
    "    mode='train',\n",
    "    normalize=True,\n",
    "    remove_batch_effect=False,\n",
    ")"
   ]
  },
  {
   "cell_type": "code",
   "execution_count": 3,
   "metadata": {},
   "outputs": [],
   "source": [
    "from utils.paths import CONFIG_PATH\n",
    "from argparse import Namespace\n",
    "from types import SimpleNamespace\n",
    "import yaml\n",
    "import json\n",
    "\n",
    "def load_config(args) -> SimpleNamespace:\n",
    "    def load_object(dct):\n",
    "        return SimpleNamespace(**dct)\n",
    "\n",
    "    with open(CONFIG_PATH / args.method / f\"{args.config}.yaml\") as file:\n",
    "        config_dict = yaml.safe_load(file)\n",
    "    config_namespace = json.loads(json.dumps(config_dict), object_hook=load_object)\n",
    "    return config_namespace\n",
    "\n"
   ]
  },
  {
   "cell_type": "code",
   "execution_count": 4,
   "metadata": {},
   "outputs": [],
   "source": [
    "cfg = load_config(Namespace(method='babel', config='babel_vae'))"
   ]
  },
  {
   "cell_type": "code",
   "execution_count": 5,
   "metadata": {},
   "outputs": [],
   "source": [
    "from utils import data_utils"
   ]
  },
  {
   "cell_type": "code",
   "execution_count": 6,
   "metadata": {},
   "outputs": [
    {
     "name": "stdout",
     "output_type": "stream",
     "text": [
      "There are no nan values in GEX data.\n",
      "There are no nan values in ADT data.\n"
     ]
    }
   ],
   "source": [
    "dataloader_dict = data_utils.get_dataloader_dict_from_anndata(adata, cfg, train=True)"
   ]
  },
  {
   "cell_type": "code",
   "execution_count": 12,
   "metadata": {},
   "outputs": [
    {
     "name": "stdout",
     "output_type": "stream",
     "text": [
      "2.2.5\n"
     ]
    }
   ],
   "source": [
    "import pytorch_lightning as pl\n",
    "\n",
    "print(pl.__version__)"
   ]
  },
  {
   "cell_type": "code",
   "execution_count": 13,
   "metadata": {},
   "outputs": [],
   "source": [
    "from pytorch_lightning.utilities.combined_loader import CombinedLoader"
   ]
  },
  {
   "cell_type": "code",
   "execution_count": 14,
   "metadata": {},
   "outputs": [],
   "source": [
    "cdl = CombinedLoader(dataloader_dict, mode='max_size_cycle')"
   ]
  },
  {
   "cell_type": "code",
   "execution_count": 17,
   "metadata": {},
   "outputs": [],
   "source": [
    "batches = next(iter(cdl))"
   ]
  },
  {
   "cell_type": "code",
   "execution_count": 7,
   "metadata": {},
   "outputs": [
    {
     "data": {
      "text/plain": [
       "namespace(gex=namespace(modality_name='GEX',\n",
       "                        dim=13953,\n",
       "                        hidden_dim=128,\n",
       "                        encoder_hidden_dim=50,\n",
       "                        encoder_out_dim=20,\n",
       "                        latent_dim=10,\n",
       "                        decoder_hidden_dim=50,\n",
       "                        batch_norm=True,\n",
       "                        dropout_rate=0.0,\n",
       "                        recon_loss_coef=1,\n",
       "                        kld_loss_coef=1,\n",
       "                        batch_size=128,\n",
       "                        lr=0.001),\n",
       "          adt=namespace(modality_name='ADT',\n",
       "                        dim=134,\n",
       "                        hidden_dim=128,\n",
       "                        encoder_hidden_dim=50,\n",
       "                        encoder_out_dim=20,\n",
       "                        latent_dim=10,\n",
       "                        decoder_hidden_dim=50,\n",
       "                        batch_norm=True,\n",
       "                        dropout_rate=0.0,\n",
       "                        recon_loss_coef=1,\n",
       "                        kld_loss_coef=1,\n",
       "                        batch_size=128,\n",
       "                        lr=0.001))"
      ]
     },
     "execution_count": 7,
     "metadata": {},
     "output_type": "execute_result"
    }
   ],
   "source": [
    "cfg.modalities"
   ]
  }
 ],
 "metadata": {
  "kernelspec": {
   "display_name": ".venv",
   "language": "python",
   "name": "python3"
  },
  "language_info": {
   "codemirror_mode": {
    "name": "ipython",
    "version": 3
   },
   "file_extension": ".py",
   "mimetype": "text/x-python",
   "name": "python",
   "nbconvert_exporter": "python",
   "pygments_lexer": "ipython3",
   "version": "3.12.0"
  }
 },
 "nbformat": 4,
 "nbformat_minor": 2
}
